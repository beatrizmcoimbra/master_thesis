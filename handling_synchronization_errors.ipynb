{
 "cells": [
  {
   "cell_type": "code",
   "execution_count": null,
   "metadata": {},
   "outputs": [],
   "source": [
    "import pandas as pd\n",
    "import matplotlib.pyplot as plt\n",
    "import numpy as np\n",
    "import os\n",
    "import xml.etree.ElementTree as ET\n",
    "import libfmp.b"
   ]
  },
  {
   "cell_type": "code",
   "execution_count": null,
   "metadata": {},
   "outputs": [],
   "source": [
    "with open('model/songs_with_errors.txt') as f:\n",
    "    songs = f.readlines()"
   ]
  },
  {
   "cell_type": "code",
   "execution_count": null,
   "metadata": {},
   "outputs": [],
   "source": [
    "songs = list(map(lambda x:x.replace('\\n',''), songs))\n",
    "songs"
   ]
  },
  {
   "cell_type": "markdown",
   "metadata": {},
   "source": [
    "Investiguei as músicas com erros para tentar identificar suas principais razões. Pelo que pude observar, são dois os principais motivos para isso: (i) músicas que têm duas vozes em vez de apenas uma linha com a melodia. Nesses casos, a linha em que se encontra a harmonia varia, confundindo nosso código original;\n",
    "(ii) muitos compassos de pausa seguidos. O algoritmo do music21, que utilizamos para gerar os audios a partir dos arquivos xml, os ignora, ocasionando divergências do áudio com a sequência de acordes."
   ]
  },
  {
   "cell_type": "markdown",
   "metadata": {},
   "source": [
    "Vou elencar os tipos de erro para cada música:"
   ]
  },
  {
   "cell_type": "code",
   "execution_count": null,
   "metadata": {},
   "outputs": [],
   "source": []
  },
  {
   "cell_type": "code",
   "execution_count": null,
   "metadata": {},
   "outputs": [],
   "source": []
  },
  {
   "cell_type": "code",
   "execution_count": null,
   "metadata": {},
   "outputs": [],
   "source": []
  },
  {
   "cell_type": "code",
   "execution_count": null,
   "metadata": {},
   "outputs": [],
   "source": []
  },
  {
   "cell_type": "code",
   "execution_count": null,
   "metadata": {},
   "outputs": [],
   "source": []
  },
  {
   "cell_type": "markdown",
   "metadata": {},
   "source": [
    "Aqui vamos gerar as sequências de acordes explícitas do nosso corpus de audio."
   ]
  },
  {
   "cell_type": "code",
   "execution_count": null,
   "metadata": {},
   "outputs": [],
   "source": [
    "songs = os.listdir('corpus/xml')\n",
    "for song in songs:\n",
    "    tree = ET.parse('corpus/xml/{}'.format(song))\n",
    "    root = tree.getroot()\n",
    "    song_title = song.split('.')[0]\n",
    "    df_harmony = pd.DataFrame(columns=[song_title,'chord_note'])\n",
    "\n",
    "    part = root.findall('part')[0]\n",
    "    measures = part.findall('measure')\n",
    "\n",
    "    for measure in measures:\n",
    "        chords = measure.findall('harmony')\n",
    "        for chord in chords:\n",
    "            try:\n",
    "                note = chord.find('root/root-step').text\n",
    "\n",
    "            except AttributeError: # se não achar a nota \"root\" do acorde, não tem acorde\n",
    "                print('Measure: {}'.format(measure.attrib['number']), ' | ', 'No chords')\n",
    "                continue\n",
    "\n",
    "            if note:\n",
    "                # alter é a alteração de um acorde (nem sempre existe): b ou #.\n",
    "                alter = chord.find('root/root-alter')#.text\n",
    "\n",
    "                # kind é o tipo do acorde (nem sempre existe): pode ser com 7a, 9a, 13a, por aí vai...\n",
    "                kind = chord.find('kind')#.attrib['text']\n",
    "\n",
    "                # dissonancia adicional. se temos um acorde 7(9), a 7a aparece em 'kind' e a 9a em 'degree'\n",
    "                degree = chord.find('degree')\n",
    "\n",
    "                # bass é o baixo do acorde, quando diferente da tônica. Também nem sempre existe.\n",
    "                bass = chord.find('bass/bass-step')#.text\n",
    "\n",
    "                # bass_alter é e alteração do baixo, podendo ser b ou #. Também nem sempre existe.\n",
    "                bass_alter = chord.find('bass/bass-alter')#.text\n",
    "\n",
    "                attribs_dict = {'alter':alter, \n",
    "                                'kind':kind, \n",
    "                                'degree':degree,\n",
    "                                'bass':bass, \n",
    "                                'bass_alter':bass_alter}\n",
    "\n",
    "                for key, value in attribs_dict.items():\n",
    "                    if value is None:\n",
    "                        attribs_dict[key] = ''\n",
    "                    elif key == 'degree':\n",
    "                        degree_value = attribs_dict[key].find('degree-value').text\n",
    "                        degree_alter = attribs_dict[key].find('degree-alter').text\n",
    "\n",
    "                        attribs_dict[key] = '(' + degree_alter + degree_value + ')'\n",
    "\n",
    "                    elif key == 'kind':\n",
    "                        try:\n",
    "                            attribs_dict[key] = value.attrib['text']\n",
    "                        except KeyError:\n",
    "                            attribs_dict[key] = value.text#chord.find('kind').text\n",
    "                    else:\n",
    "                        attribs_dict[key] = value.text\n",
    "\n",
    "\n",
    "\n",
    "                # formatando as alterações de acorde\n",
    "                attribs_dict['alter'] = attribs_dict['alter'].replace('-1', 'b').replace('1', '#')\n",
    "                attribs_dict['degree'] = attribs_dict['degree'].replace('-1', 'b').replace('1', '#')\n",
    "                attribs_dict['bass_alter'] = attribs_dict['bass_alter'].replace('-1', 'b').replace('1', '#')\n",
    "                \n",
    "                # 11a dá problema, rs\n",
    "                attribs_dict['alter'] = attribs_dict['alter'].replace('###', '#11').replace('##b','b11')\n",
    "                attribs_dict['degree'] = attribs_dict['degree'].replace('###', '#11').replace('##b','b11')\n",
    "                attribs_dict['bass_alter'] = attribs_dict['bass_alter'].replace('###', '#11').replace('##b','b11')\n",
    "                \n",
    "\n",
    "                measure_number = measure.attrib['number']\n",
    "                chord = note + attribs_dict['alter'] + attribs_dict['kind']\n",
    "                chord_bass = attribs_dict['bass'] + attribs_dict['bass_alter']\n",
    "                degree = attribs_dict['degree']\n",
    "\n",
    "                complete_chord = chord + degree + '/' + chord_bass\n",
    "\n",
    "                if complete_chord.endswith('/'):\n",
    "                    complete_chord = complete_chord[:-1]\n",
    "\n",
    "                df_chord = pd.DataFrame(columns=[song_title,'chord_note'], \n",
    "                                        index=[measure_number])\n",
    "                \n",
    "                df_chord[song_title] = complete_chord\n",
    "                df_chord['chord_note'] = note + attribs_dict['alter']\n",
    "                \n",
    "                df_harmony = df_harmony.append(df_chord)\n",
    "\n",
    "    df_harmony.index.names = ['Measure']\n",
    "\n",
    "\n",
    "\n",
    "    # tipo de compasso\n",
    "    first_measure = measures[0]\n",
    "    cima = first_measure.find('attributes').find('time/beats').text\n",
    "    baixo = first_measure.find('attributes').find('time/beat-type').text\n",
    "\n",
    "    compasso = cima + '/' + baixo\n",
    "\n",
    "    # andamento\n",
    "    andamento = 120\n",
    "\n",
    "    # sync: acorde + minutagem\n",
    "    duracao_seminima = 60/int(andamento)\n",
    "    segs_compasso = (4/int(baixo)) * int(cima) * duracao_seminima\n",
    "    df_harmony.index = df_harmony.index.astype(int)\n",
    "\n",
    "    for compasso in df_harmony.index.unique():\n",
    "        acordes = df_harmony.loc[[compasso]]\n",
    "        n_acordes = len(acordes)\n",
    "    #     print(compasso, n_acordes)\n",
    "        inicio_compasso = (int(compasso) - 1) * segs_compasso\n",
    "\n",
    "        if n_acordes == 1:\n",
    "            tempos = inicio_compasso\n",
    "\n",
    "        else:        \n",
    "            tempos = np.linspace(inicio_compasso,\n",
    "                                 inicio_compasso + segs_compasso,\n",
    "                                 n_acordes+1)\n",
    "            tempos = tempos[:-1]\n",
    "\n",
    "        df_harmony.at[compasso, 'Time'] = tempos\n",
    "\n",
    "\n",
    "        df_harmony.to_csv('corpus/chords_sequences/{}.csv'.format(song_title))\n",
    "    print(song_title)"
   ]
  },
  {
   "cell_type": "code",
   "execution_count": null,
   "metadata": {},
   "outputs": [],
   "source": []
  }
 ],
 "metadata": {
  "kernelspec": {
   "display_name": "Python 3",
   "language": "python",
   "name": "python3"
  },
  "language_info": {
   "codemirror_mode": {
    "name": "ipython",
    "version": 3
   },
   "file_extension": ".py",
   "mimetype": "text/x-python",
   "name": "python",
   "nbconvert_exporter": "python",
   "pygments_lexer": "ipython3",
   "version": "3.8.10"
  }
 },
 "nbformat": 4,
 "nbformat_minor": 4
}
