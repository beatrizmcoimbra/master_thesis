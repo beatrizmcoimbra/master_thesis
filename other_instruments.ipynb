{
 "cells": [
  {
   "cell_type": "code",
   "execution_count": 7,
   "metadata": {},
   "outputs": [],
   "source": [
    "from urllib.request import urlopen\n",
    "import xml.etree.ElementTree as ET\n",
    "from xml.etree.ElementTree import parse\n",
    "\n",
    "from music21 import *"
   ]
  },
  {
   "cell_type": "markdown",
   "metadata": {},
   "source": [
    "Chord labels from xml files:"
   ]
  },
  {
   "cell_type": "code",
   "execution_count": 6,
   "metadata": {
    "collapsed": true
   },
   "outputs": [
    {
     "name": "stdout",
     "output_type": "stream",
     "text": [
      "E maj7\n",
      "E maj7\n",
      "B min7\n",
      "B min(maj7)\n",
      "E maj7\n",
      "E maj7\n",
      "B min\n",
      "B min\n",
      "E maj7\n",
      "E min7\n",
      "D 7\n",
      "D min7\n",
      "C dim7\n",
      "B 7\n",
      "B min7\n",
      "B min7\n",
      "E maj7\n",
      "E maj7\n",
      "B min7\n",
      "B min(maj7)\n",
      "E maj7\n",
      "E maj\n",
      "B maj7\n",
      "B maj7\n",
      "E \n",
      "E min7\n",
      "D 7\n",
      "D min7\n",
      "C dim7\n",
      "B 7\n",
      "B min7\n",
      "B min7\n",
      "E min7\n",
      "A 6\n",
      "D \n",
      "F min7\n",
      "E min7\n",
      "A 7\n",
      "D 7\n",
      "F min7\n",
      "F min7\n",
      "B 7\n",
      "E min7\n",
      "E min7\n",
      "G min7\n",
      "G min7\n",
      "F min7\n",
      "F min7\n",
      "E maj7\n",
      "E maj7\n",
      "B min\n",
      "B min\n",
      "E maj\n",
      "E maj7\n",
      "B maj7\n",
      "B maj7\n",
      "E maj7\n",
      "E min7\n",
      "D maj7\n",
      "D min7\n",
      "C dim7\n",
      "B 7\n",
      "B min7\n",
      "B min7\n"
     ]
    }
   ],
   "source": [
    "tree = ET.parse('corpus/xml/Love For Sale.xml')\n",
    "root = tree.getroot()\n",
    "\n",
    "\n",
    "# root = xmldoc.getroot()\n",
    "\n",
    "for part in root.findall('part'):\n",
    "    measure = part.findall('measure')\n",
    "    for elem in measure:\n",
    "        harmony = elem.find('harmony')\n",
    "        try:\n",
    "            print(harmony.find('root/root-step').text, \n",
    "                  harmony.find('kind').attrib['text'])\n",
    "        except AttributeError:\n",
    "            continue"
   ]
  },
  {
   "cell_type": "markdown",
   "metadata": {},
   "source": [
    "Chord labels from midi files:"
   ]
  },
  {
   "cell_type": "code",
   "execution_count": 10,
   "metadata": {},
   "outputs": [
    {
     "data": {
      "text/plain": [
       "<music21.stream.iterator.RecursiveIterator for Score:0x7f5baeafd1c0 @:0>"
      ]
     },
     "execution_count": 10,
     "metadata": {},
     "output_type": "execute_result"
    }
   ],
   "source": [
    "s.recurse()"
   ]
  },
  {
   "cell_type": "code",
   "execution_count": 11,
   "metadata": {},
   "outputs": [
    {
     "data": {
      "text/plain": [
       "'corpus/tests/Ballad_clavichord.mid'"
      ]
     },
     "execution_count": 11,
     "metadata": {},
     "output_type": "execute_result"
    }
   ],
   "source": [
    "s = converter.parse('corpus/midi_music21/Ballad.mid')\n",
    "\n",
    "for el in s.recurse():\n",
    "    if 'Instrument' in el.classes: # or 'Piano'\n",
    "        el.activeSite.replace(el, instrument.Clavichord())\n",
    "\n",
    "s.write('midi', 'corpus/tests/Ballad_clavichord.mid')"
   ]
  },
  {
   "cell_type": "code",
   "execution_count": null,
   "metadata": {},
   "outputs": [],
   "source": [
    "c = music21.converter.parse('https://effendi.me/jazz/repo/III/HerbsAndRoots.xml')"
   ]
  }
 ],
 "metadata": {
  "kernelspec": {
   "display_name": "Python 3",
   "language": "python",
   "name": "python3"
  },
  "language_info": {
   "codemirror_mode": {
    "name": "ipython",
    "version": 3
   },
   "file_extension": ".py",
   "mimetype": "text/x-python",
   "name": "python",
   "nbconvert_exporter": "python",
   "pygments_lexer": "ipython3",
   "version": "3.8.10"
  }
 },
 "nbformat": 4,
 "nbformat_minor": 4
}
