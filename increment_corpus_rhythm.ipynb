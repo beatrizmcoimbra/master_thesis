{
 "cells": [
  {
   "cell_type": "code",
   "execution_count": 71,
   "metadata": {},
   "outputs": [],
   "source": [
    "import os\n",
    "import pandas as pd\n",
    "import IPython.display as ipd\n",
    "# import librosa\n",
    "# import librosa.display\n",
    "import music21\n",
    "from musicir.rhythm.generate import Euclid, RhythmViewer\n",
    "from musicir.rhythm import generate \n",
    "import numpy as np\n",
    "import seaborn as sns\n",
    "from matplotlib import pyplot as plt\n",
    "from collections import Counter\n",
    "import copy\n",
    "import glob\n",
    "import random"
   ]
  },
  {
   "cell_type": "code",
   "execution_count": 2,
   "metadata": {},
   "outputs": [
    {
     "data": {
      "text/plain": [
       "[0, 1, 2, 3, 4, 5, 6, 7, 8, 9, 10, 11, 0, 1, 2, 3, 4, 5, 6, 7, 8, 9, 10, 11]"
      ]
     },
     "execution_count": 2,
     "metadata": {},
     "output_type": "execute_result"
    }
   ],
   "source": [
    "semitons = lista = list(range(0,12))\n",
    "semitons.extend(list(range(0,12)))\n",
    "semitons"
   ]
  },
  {
   "cell_type": "code",
   "execution_count": 3,
   "metadata": {},
   "outputs": [
    {
     "data": {
      "text/plain": [
       "['C', 'Db', 'D', 'Eb', 'E', 'F', 'Gb', 'G', 'Ab', 'A', 'Bb', 'B']"
      ]
     },
     "execution_count": 3,
     "metadata": {},
     "output_type": "execute_result"
    }
   ],
   "source": [
    "notes = ['C','Db','D','Eb','E','F','Gb','G','Ab','A','Bb','B']\n",
    "# notes = ['C','C#','D','D#','E','F','F#','G','G#','A','A#','B']\n",
    "notes"
   ]
  },
  {
   "cell_type": "code",
   "execution_count": 4,
   "metadata": {},
   "outputs": [],
   "source": [
    "E= Euclid(3,8)"
   ]
  },
  {
   "cell_type": "code",
   "execution_count": 5,
   "metadata": {},
   "outputs": [
    {
     "data": {
      "image/png": "[encoded data removed]",
      "text/plain": [
       "<IPython.core.display.Image object>"
      ]
     },
     "metadata": {
      "image/png": {
       "height": 49,
       "width": 399
      }
     },
     "output_type": "display_data"
    }
   ],
   "source": [
    "E.beat.show()"
   ]
  },
  {
   "cell_type": "code",
   "execution_count": 57,
   "metadata": {
    "collapsed": true
   },
   "outputs": [
    {
     "data": {
      "text/plain": [
       "{'fandango': 4,\n",
       " 'cueca': 2,\n",
       " 'khafif-e-ramal': 2,\n",
       " 'cumbia': 3,\n",
       " 'calypso': 3,\n",
       " 'khalif-e-saghil': 3,\n",
       " 'khafif-e-ramal_2': 3,\n",
       " 'ruchenitza': 3,\n",
       " 'tresillo': 3,\n",
       " 'ruchenitza_2': 4,\n",
       " 'aksak': 4,\n",
       " 'outside_now': 4,\n",
       " 'york-samai': 5,\n",
       " 'Nawakhat': 5,\n",
       " 'cinquillo': 5,\n",
       " 'spanish_tango': 5,\n",
       " 'al-saghil-al-sani': 5,\n",
       " 'agsag-samai': 5,\n",
       " 'venda': 5,\n",
       " 'pictures_at_an_exhibition': 5,\n",
       " 'venda_clapping': 5,\n",
       " 'bossa-nova': 5,\n",
       " 'bendir': 7,\n",
       " 'mpre': 7,\n",
       " 'samba': 7,\n",
       " 'agogo-samba': 9,\n",
       " 'ngbaka-maibo': 9,\n",
       " 'aka': 11,\n",
       " 'aka_upper_sangha': 13}"
      ]
     },
     "execution_count": 57,
     "metadata": {},
     "output_type": "execute_result"
    }
   ],
   "source": [
    "# criando um dicionário com cada ritmo e seu respectivo número de articulações\n",
    "ritmos_dict = {}\n",
    "for rhy in generate.traditional_rhythms.items():\n",
    "    notas = rhy[1].beat[0].notes\n",
    "    ritmos_dict[rhy[0]] =  len(notas)\n",
    "    \n",
    "ritmos_dict"
   ]
  },
  {
   "cell_type": "code",
   "execution_count": 60,
   "metadata": {
    "collapsed": true
   },
   "outputs": [
    {
     "data": {
      "text/plain": [
       "['cueca',\n",
       " 'khafif-e-ramal',\n",
       " 'cumbia',\n",
       " 'calypso',\n",
       " 'khalif-e-saghil',\n",
       " 'khafif-e-ramal_2',\n",
       " 'ruchenitza',\n",
       " 'tresillo']"
      ]
     },
     "execution_count": 60,
     "metadata": {},
     "output_type": "execute_result"
    }
   ],
   "source": [
    "# deletaremos os ritmos que têm menos de 4 articulações\n",
    "del_ritmos = [ritmo for ritmo, n_ataques in ritmos_dict.items() if n_ataques < 4]\n",
    "del_ritmos"
   ]
  },
  {
   "cell_type": "markdown",
   "metadata": {},
   "source": [
    "Aqui, vamos testar trocar as notas que aparecem no objeto do tipo Euclid, que é derivado de um stream do music21."
   ]
  },
  {
   "cell_type": "code",
   "execution_count": 75,
   "metadata": {},
   "outputs": [
    {
     "name": "stdout",
     "output_type": "stream",
     "text": [
      "G4 G\n",
      "B4 B\n",
      "D5 D\n",
      "Gb5 G flat\n"
     ]
    },
    {
     "data": {
      "image/png": "[encoded data removed]",
      "text/plain": [
       "<IPython.core.display.Image object>"
      ]
     },
     "metadata": {
      "image/png": {
       "height": 54,
       "width": 748
      }
     },
     "output_type": "display_data"
    }
   ],
   "source": [
    "# criando um objeto stream com o ritmo que usaremos\n",
    "stream1 = generate.traditional_rhythms['fandango'].beat\n",
    "\n",
    "# definindo cada nota do acorde a partir dos intervalos, em semitons\n",
    "fundamental = 0 + 7\n",
    "terca = fundamental + 4\n",
    "quinta = fundamental + 7\n",
    "setima = fundamental + 11\n",
    "\n",
    "# mapeando cada nota do acorde a partir da sua distância (em semitons) da nota dó\n",
    "i_C = semitons[fundamental]\n",
    "i_E = semitons[terca]\n",
    "i_G = semitons[quinta]\n",
    "i_B = semitons[setima]\n",
    "\n",
    "\n",
    "# criando um dicionário, em que a chave é a distância em semitons do dó e o valor é seu nome, como string\n",
    "acorde_dict = {i_C:notes[i_C], \n",
    "               i_E:notes[i_E], \n",
    "               i_G:notes[i_G], \n",
    "               i_B:notes[i_B]}\n",
    "\n",
    "\n",
    "# aqui, tratamos a questão das oitavas. terça, quinta e sétima precisam ser sempre mais agudas que a fundamental\n",
    "semitom_fundamental = i_C\n",
    "for key, value in acorde_dict.items():\n",
    "    if key < semitom_fundamental:\n",
    "        acorde_dict[key] = value + '5'\n",
    "        \n",
    "    else:\n",
    "        acorde_dict[key] = value + '4'\n",
    "\n",
    "acorde_list = []\n",
    "for key, value in acorde_dict.items():\n",
    "    acorde_list.append(value)\n",
    "\n",
    "\n",
    "    \n",
    "# alterando as notas do nosso stream, para serem iguais às notas do acorde\n",
    "counter = 0\n",
    "for element in stream1[0]:\n",
    "    if type(element) == music21.note.Note:\n",
    "        \n",
    "        nota_nova = acorde_list[counter]\n",
    "        \n",
    "        note_name = nota_nova[0] \n",
    "        note_octave = nota_nova[-1]\n",
    "\n",
    "        element.step = note_name\n",
    "        element.pitch.octave = note_octave\n",
    "        \n",
    "        # tratando o problema com bemóis\n",
    "        if 'b' in nota_nova:\n",
    "            element.pitch.accidental = '-'\n",
    "            print(nota_nova, element.step, element.pitch.accidental)\n",
    "            \n",
    "        else:            \n",
    "#             element.step = nota_nova\n",
    "            element.pitch.accidental = 'natural'\n",
    "            print(nota_nova, element.step)\n",
    "            \n",
    "        counter += 1\n",
    "\n",
    "stream1.show()"
   ]
  },
  {
   "cell_type": "markdown",
   "metadata": {},
   "source": [
    "### Ritmos euclidianos com mais de 4 articulações"
   ]
  },
  {
   "cell_type": "code",
   "execution_count": 98,
   "metadata": {
    "scrolled": true
   },
   "outputs": [
    {
     "data": {
      "text/plain": [
       "{'fandango': 4,\n",
       " 'ruchenitza_2': 4,\n",
       " 'aksak': 4,\n",
       " 'outside_now': 4,\n",
       " 'york-samai': 5,\n",
       " 'Nawakhat': 5,\n",
       " 'cinquillo': 5,\n",
       " 'spanish_tango': 5,\n",
       " 'al-saghil-al-sani': 5,\n",
       " 'agsag-samai': 5,\n",
       " 'venda': 5,\n",
       " 'pictures_at_an_exhibition': 5,\n",
       " 'venda_clapping': 5,\n",
       " 'bossa-nova': 5,\n",
       " 'bendir': 7,\n",
       " 'mpre': 7,\n",
       " 'samba': 7,\n",
       " 'agogo-samba': 9,\n",
       " 'ngbaka-maibo': 9,\n",
       " 'aka': 11,\n",
       " 'aka_upper_sangha': 13}"
      ]
     },
     "execution_count": 98,
     "metadata": {},
     "output_type": "execute_result"
    }
   ],
   "source": [
    "ritmos = {ritmo: n_ataques for ritmo, n_ataques in ritmos_dict.items() if n_ataques >= 4}\n",
    "ritmos"
   ]
  },
  {
   "cell_type": "code",
   "execution_count": 68,
   "metadata": {},
   "outputs": [
    {
     "data": {
      "text/plain": [
       "{'fandango': 4,\n",
       " 'cueca': 2,\n",
       " 'khafif-e-ramal': 2,\n",
       " 'cumbia': 3,\n",
       " 'calypso': 3,\n",
       " 'khalif-e-saghil': 3,\n",
       " 'khafif-e-ramal_2': 3,\n",
       " 'ruchenitza': 3,\n",
       " 'tresillo': 3,\n",
       " 'ruchenitza_2': 4,\n",
       " 'aksak': 4,\n",
       " 'outside_now': 4,\n",
       " 'york-samai': 5,\n",
       " 'Nawakhat': 5,\n",
       " 'cinquillo': 5,\n",
       " 'spanish_tango': 5,\n",
       " 'al-saghil-al-sani': 5,\n",
       " 'agsag-samai': 5,\n",
       " 'venda': 5,\n",
       " 'pictures_at_an_exhibition': 5,\n",
       " 'venda_clapping': 5,\n",
       " 'bossa-nova': 5,\n",
       " 'bendir': 7,\n",
       " 'mpre': 7,\n",
       " 'samba': 7,\n",
       " 'agogo-samba': 9,\n",
       " 'ngbaka-maibo': 9,\n",
       " 'aka': 11,\n",
       " 'aka_upper_sangha': 13}"
      ]
     },
     "execution_count": 68,
     "metadata": {},
     "output_type": "execute_result"
    }
   ],
   "source": [
    "ritmos_dict"
   ]
  },
  {
   "cell_type": "code",
   "execution_count": 125,
   "metadata": {
    "scrolled": false
   },
   "outputs": [
    {
     "name": "stdout",
     "output_type": "stream",
     "text": [
      "<music21.bar.Repeat direction=start> 0.0\n",
      "<music21.note.Note F> 0.5\n",
      "<music21.note.Rest eighth> 0.5\n",
      "<music21.note.Note A> 0.5\n",
      "<music21.note.Rest eighth> 0.5\n",
      "<music21.note.Rest eighth> 0.5\n",
      "<music21.note.Note C> 0.5\n",
      "<music21.note.Rest eighth> 0.5\n",
      "<music21.note.Note E> 0.5\n",
      "<music21.note.Rest eighth> 0.5\n",
      "<music21.note.Note A> 0.5\n",
      "<music21.note.Rest eighth> 0.5\n",
      "<music21.note.Rest eighth> 0.5\n",
      "<music21.note.Note C> 0.5\n",
      "<music21.note.Rest eighth> 0.5\n",
      "<music21.note.Note E> 0.5\n",
      "<music21.note.Rest eighth> 0.5\n",
      "<music21.bar.Repeat direction=end times=2> 0.0\n",
      "Ab4 A flat\n",
      "C5 C\n",
      "Eb5 E flat\n",
      "G5 G\n",
      "C5 C\n",
      "Ab4 A flat\n",
      "Ab4 A flat\n"
     ]
    },
    {
     "data": {
      "text/html": [
       "\n",
       "                <div id='midiPlayerDiv4221'></div>\n",
       "                <link rel=\"stylesheet\" href=\"//cuthbertLab.github.io/music21j/css/m21.css\"\n",
       "                    type=\"text/css\" />\n",
       "                \n",
       "                <script>\n",
       "                require.config({\n",
       "                    paths: {'music21': '//cuthbertLab.github.io/music21j/src/music21'}\n",
       "                });\n",
       "                require(['music21'], function() {\n",
       "                               mp = new music21.miditools.MidiPlayer();\n",
       "                               mp.addPlayer('#midiPlayerDiv4221');\n",
       "                               mp.base64Load('data:audio/midi;base64,TVRoZAAAAAYAAQACBABNVHJrAAAAFAD/UQMHoSAA/1gEBAIYCIgA/y8ATVRyawAAAJgA/wMAAOAAQIgAkCxaiACQSFqEAIBIAIgAkEtahACASwCEAJBPWoQAgE8AhACQSFqEAIBIAIgAkERahACARACEAJBEWoQAgEQAhACALAAAkCxaiACQSFqEAIBIAIgAkEtahACASwCEAJBPWoQAgE8AhACQSFqEAIBIAIgAkERahACARACEAJBEWoQAgEQAhACALACIAP8vAA==');\n",
       "                        });\n",
       "                </script>"
      ],
      "text/plain": [
       "<IPython.core.display.HTML object>"
      ]
     },
     "metadata": {},
     "output_type": "display_data"
    }
   ],
   "source": [
    "ritmo_teste = 'samba'\n",
    "n_ataques = ritmos_dict[ritmo_teste]\n",
    "\n",
    "stream_teste = generate.traditional_rhythms[ritmo_teste].beat\n",
    "\n",
    "# definindo cada nota do acorde a partir dos intervalos, em semitons\n",
    "fundamental = 0 + 8\n",
    "terca = fundamental + 4\n",
    "quinta = fundamental + 7\n",
    "setima = fundamental + 11\n",
    "\n",
    "# mapeando cada nota do acorde a partir da sua distância (em semitons) da nota dó\n",
    "i_C = semitons[fundamental]\n",
    "i_E = semitons[terca]\n",
    "i_G = semitons[quinta]\n",
    "i_B = semitons[setima]\n",
    "\n",
    "\n",
    "# criando um dicionário, em que a chave é a distância em semitons do dó e o valor é seu nome, como string\n",
    "acorde_dict = {i_C:notes[i_C], \n",
    "               i_E:notes[i_E], \n",
    "               i_G:notes[i_G], \n",
    "               i_B:notes[i_B]}\n",
    "\n",
    "\n",
    "# aqui, tratamos a questão das oitavas. terça, quinta e sétima precisam ser sempre mais agudas que a fundamental\n",
    "semitom_fundamental = i_C\n",
    "for key, value in acorde_dict.items():\n",
    "    if key < semitom_fundamental:\n",
    "        acorde_dict[key] = value + '5'\n",
    "        \n",
    "    else:\n",
    "        acorde_dict[key] = value + '4'\n",
    "\n",
    "acorde_list = []\n",
    "for key, value in acorde_dict.items():\n",
    "    acorde_list.append(value)\n",
    "    \n",
    "\n",
    "# amostrando aleatoriamente as notas que faltam pra completar a quantidade de ataques\n",
    "# ex.: se temos 7 ataques no ritmo, amostraremos 7 - 4 = 3 notas\n",
    "# obs.: as notas extra precisam ser pertencentes ao acorde em questão\n",
    "\n",
    "notas_extra = np.random.choice(acorde_list, \n",
    "                               size=n_ataques - 4, \n",
    "                               replace=True)\n",
    "\n",
    "acorde_list.extend(notas_extra)\n",
    "\n",
    "\n",
    "\n",
    "# Flavio pediu pra fundamental durar o compasso todo\n",
    "durations = []\n",
    "for element in stream_teste[0]:\n",
    "    durations.append(element.duration.quarterLength)\n",
    "    print(element, element.duration.quarterLength)\n",
    "    \n",
    "duration_fund = sum(durations)\n",
    "\n",
    "\n",
    "\n",
    "# alterando as notas do nosso stream, para serem iguais às notas do acorde\n",
    "counter = 0\n",
    "for element in stream_teste[0]:\n",
    "    if type(element) == music21.note.Note:\n",
    "        \n",
    "        nota_nova = acorde_list[counter]\n",
    "        \n",
    "        note_name = nota_nova[0] \n",
    "        note_octave = nota_nova[-1]\n",
    "\n",
    "        element.step = note_name\n",
    "        element.pitch.octave = note_octave\n",
    "        \n",
    "        # tratando o problema com bemóis\n",
    "        if 'b' in nota_nova:\n",
    "            element.pitch.accidental = '-'\n",
    "            print(nota_nova, element.step, element.pitch.accidental)\n",
    "            \n",
    "        else:            \n",
    "#             element.step = nota_nova\n",
    "            element.pitch.accidental = 'natural'\n",
    "            print(nota_nova, element.step)\n",
    "        \n",
    "        \n",
    "        if counter == 0:\n",
    "            element.duration = music21.duration.Duration(duration_fund)\n",
    "            element.pitch.octave = 2\n",
    "        \n",
    "        \n",
    "        counter += 1\n",
    "\n",
    "stream_teste.show('midi')"
   ]
  },
  {
   "cell_type": "code",
   "execution_count": 114,
   "metadata": {},
   "outputs": [
    {
     "name": "stdout",
     "output_type": "stream",
     "text": [
      "<music21.bar.Repeat direction=start> 0.0\n",
      "<music21.note.Note F> 0.5\n",
      "<music21.note.Rest eighth> 0.5\n",
      "<music21.note.Note A> 0.5\n",
      "<music21.note.Rest eighth> 0.5\n",
      "<music21.note.Note C> 0.5\n",
      "<music21.note.Rest eighth> 0.5\n",
      "<music21.note.Note E> 0.5\n",
      "<music21.note.Rest eighth> 0.5\n",
      "<music21.note.Note C> 0.5\n",
      "<music21.bar.Repeat direction=end times=2> 0.0\n"
     ]
    }
   ],
   "source": [
    "durations = []\n",
    "for element in stream_teste[0]:\n",
    "    durations.append(element.duration.quarterLength)\n",
    "    print(element, element.duration.quarterLength)\n"
   ]
  },
  {
   "cell_type": "code",
   "execution_count": 117,
   "metadata": {},
   "outputs": [
    {
     "data": {
      "text/plain": [
       "4.5"
      ]
     },
     "execution_count": 117,
     "metadata": {},
     "output_type": "execute_result"
    }
   ],
   "source": [
    "sum(durations)"
   ]
  },
  {
   "cell_type": "code",
   "execution_count": 85,
   "metadata": {},
   "outputs": [
    {
     "data": {
      "text/plain": [
       "5"
      ]
     },
     "execution_count": 85,
     "metadata": {},
     "output_type": "execute_result"
    }
   ],
   "source": [
    "n_ataques - 4"
   ]
  },
  {
   "cell_type": "code",
   "execution_count": 101,
   "metadata": {},
   "outputs": [
    {
     "data": {
      "image/png": "[encoded data removed]",
      "text/plain": [
       "<IPython.core.display.Image object>"
      ]
     },
     "metadata": {
      "image/png": {
       "height": 49,
       "width": 748
      }
     },
     "output_type": "display_data"
    }
   ],
   "source": [
    "generate.traditional_rhythms['agsag-samai'].beat.show()"
   ]
  },
  {
   "cell_type": "markdown",
   "metadata": {},
   "source": [
    "### 22/09\n",
    "Uhul! Conseguimos gerar os acordes com ritmo euclidiano para ritmos com 4 articulações. Próximo passo é conseguir fazê-lo para ritmos com mais articulações, amostrando aleatoriamente notas do próprio acorde para compensar os ataques que faltarem. \n",
    "Pendência: questão das oitavas. Ex.: num acorde de E7M (mi, sol#, si, ré#), a sétima deverá aparecer numa oitava diferente do resto, pois se não será mais grave do que a fundamental. Como generalizar esta conta para todos os acordes?"
   ]
  },
  {
   "cell_type": "markdown",
   "metadata": {},
   "source": [
    "Alterar duração da fundamental do acorde, para durar o compasso todo."
   ]
  },
  {
   "cell_type": "code",
   "execution_count": null,
   "metadata": {},
   "outputs": [],
   "source": []
  },
  {
   "cell_type": "code",
   "execution_count": null,
   "metadata": {},
   "outputs": [],
   "source": []
  },
  {
   "cell_type": "code",
   "execution_count": null,
   "metadata": {},
   "outputs": [],
   "source": []
  },
  {
   "cell_type": "code",
   "execution_count": null,
   "metadata": {},
   "outputs": [],
   "source": []
  },
  {
   "cell_type": "code",
   "execution_count": null,
   "metadata": {},
   "outputs": [],
   "source": []
  },
  {
   "cell_type": "code",
   "execution_count": null,
   "metadata": {},
   "outputs": [],
   "source": []
  },
  {
   "cell_type": "code",
   "execution_count": 41,
   "metadata": {},
   "outputs": [
    {
     "data": {
      "text/html": [
       "\n",
       "                <div id='midiPlayerDiv2322'></div>\n",
       "                <link rel=\"stylesheet\" href=\"//cuthbertLab.github.io/music21j/css/m21.css\"\n",
       "                    type=\"text/css\" />\n",
       "                <script>\n",
       "                require.config({\n",
       "                    paths: {'music21': '//cuthbertLab.github.io/music21j/src/music21'}\n",
       "                });\n",
       "                require(['music21'], function() {\n",
       "                               mp = new music21.miditools.MidiPlayer();\n",
       "                               mp.addPlayer('#midiPlayerDiv2322');\n",
       "                               mp.base64Load('data:audio/midi;base64,TVRoZAAAAAYAAQABBABNVHJrAAAAOQD/AwAA4ABAAP9YBAQCGAgAkDRaiACANAAAkEdaiACARwAAkDtaiACAOwAAkEdaiACARwCIAP8vAA==');\n",
       "                        });\n",
       "                </script>"
      ],
      "text/plain": [
       "<IPython.core.display.HTML object>"
      ]
     },
     "metadata": {},
     "output_type": "display_data"
    }
   ],
   "source": [
    "fundamental = 0 + 4\n",
    "terca = fundamental + 4\n",
    "quinta = fundamental + 7\n",
    "setima = fundamental + 11\n",
    "\n",
    "i_C = semitons[fundamental]\n",
    "i_E = semitons[terca]\n",
    "i_G = semitons[quinta]\n",
    "i_B = semitons[setima]\n",
    "\n",
    "\n",
    "acorde_list = [notes[i_C], \n",
    "               notes[i_E], \n",
    "               notes[i_G], \n",
    "               notes[i_B]]\n",
    "\n",
    "\n",
    "s = music21.converter.parse('tinyNotation: 4/4 {} {} {} {} '.format(acorde_list[0],  \n",
    "                                                                           acorde_list[1], acorde_list[2], \n",
    "                                                                           acorde_list[3]))\n",
    "\n",
    "s.show('midi')\n",
    "# acorde = music21.chord.Chord(list(acorde_list), duration=d)\n",
    "\n",
    "# midi_subfolder = '{}/{}/midi_original'.format(corpus_folder, \n",
    "#                                               chord_type)\n",
    "\n",
    "# os.makedirs(midi_subfolder, \n",
    "#             exist_ok=True)  \n",
    "\n",
    "# acorde_file_name = '{}/{}{}'.format(midi_subfolder, \n",
    "#                                        notes[i], \n",
    "#                                        chord_type)\n",
    "\n",
    "# acorde_file = acorde_file_name + '.mid'\n",
    "\n",
    "# acorde.write('midi', acorde_file)\n",
    "\n",
    "\n",
    "# !timidity {acorde_file_name}.mid -Ow -o {acorde_file_name}.wav\n",
    "\n",
    "# print(notes[i], acorde.pitches)\n",
    "# print('---------------------------------')"
   ]
  },
  {
   "cell_type": "code",
   "execution_count": null,
   "metadata": {},
   "outputs": [],
   "source": []
  }
 ],
 "metadata": {
  "kernelspec": {
   "display_name": "Python 3",
   "language": "python",
   "name": "python3"
  },
  "language_info": {
   "codemirror_mode": {
    "name": "ipython",
    "version": 3
   },
   "file_extension": ".py",
   "mimetype": "text/x-python",
   "name": "python",
   "nbconvert_exporter": "python",
   "pygments_lexer": "ipython3",
   "version": "3.8.10"
  }
 },
 "nbformat": 4,
 "nbformat_minor": 4
}
