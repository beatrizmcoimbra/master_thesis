{
 "cells": [
  {
   "cell_type": "code",
   "execution_count": 1,
   "metadata": {},
   "outputs": [],
   "source": [
    "import os\n",
    "import pandas as pd\n",
    "import IPython.display as ipd\n",
    "# import librosa\n",
    "# import librosa.display\n",
    "import music21\n",
    "from musicir.rhythm.generate import Euclid, RhythmViewer\n",
    "from musicir.rhythm import generate \n",
    "import numpy as np\n",
    "import seaborn as sns\n",
    "from matplotlib import pyplot as plt\n",
    "from collections import Counter\n",
    "import copy\n",
    "import glob"
   ]
  },
  {
   "cell_type": "code",
   "execution_count": 2,
   "metadata": {},
   "outputs": [
    {
     "data": {
      "text/plain": [
       "[0, 1, 2, 3, 4, 5, 6, 7, 8, 9, 10, 11, 0, 1, 2, 3, 4, 5, 6, 7, 8, 9, 10, 11]"
      ]
     },
     "execution_count": 2,
     "metadata": {},
     "output_type": "execute_result"
    }
   ],
   "source": [
    "semitons = lista = list(range(0,12))\n",
    "semitons.extend(list(range(0,12)))\n",
    "semitons"
   ]
  },
  {
   "cell_type": "code",
   "execution_count": 3,
   "metadata": {},
   "outputs": [
    {
     "data": {
      "text/plain": [
       "['C', 'Db', 'D', 'Eb', 'E', 'F', 'Gb', 'G', 'Ab', 'A', 'Bb', 'B']"
      ]
     },
     "execution_count": 3,
     "metadata": {},
     "output_type": "execute_result"
    }
   ],
   "source": [
    "notes = ['C','Db','D','Eb','E','F','Gb','G','Ab','A','Bb','B']\n",
    "# notes = ['C','C#','D','D#','E','F','F#','G','G#','A','A#','B']\n",
    "notes"
   ]
  },
  {
   "cell_type": "code",
   "execution_count": 4,
   "metadata": {},
   "outputs": [],
   "source": [
    "E= Euclid(3,8)"
   ]
  },
  {
   "cell_type": "code",
   "execution_count": 5,
   "metadata": {},
   "outputs": [
    {
     "data": {
      "image/png": "[encoded data removed]",
      "text/plain": [
       "<IPython.core.display.Image object>"
      ]
     },
     "metadata": {
      "image/png": {
       "height": 49,
       "width": 399
      }
     },
     "output_type": "display_data"
    }
   ],
   "source": [
    "E.beat.show()"
   ]
  },
  {
   "cell_type": "code",
   "execution_count": 6,
   "metadata": {},
   "outputs": [],
   "source": [
    "# ES = generate.traditional_rhythms['samba']\n",
    "# ES.beat.show()"
   ]
  },
  {
   "cell_type": "markdown",
   "metadata": {},
   "source": [
    "Aqui, vamos testar trocar as notas que aparecem no objeto do tipo Euclid, que é derivado de um stream do music21."
   ]
  },
  {
   "cell_type": "code",
   "execution_count": 12,
   "metadata": {},
   "outputs": [
    {
     "name": "stdout",
     "output_type": "stream",
     "text": [
      "C C\n",
      "E E\n",
      "G G\n",
      "B B\n"
     ]
    },
    {
     "data": {
      "image/png": "[encoded data removed]",
      "text/plain": [
       "<IPython.core.display.Image object>"
      ]
     },
     "metadata": {
      "image/png": {
       "height": 50,
       "width": 748
      }
     },
     "output_type": "display_data"
    }
   ],
   "source": [
    "stream1 = generate.traditional_rhythms['fandango'].beat\n",
    "\n",
    "\n",
    "fundamental = 0\n",
    "terca = fundamental + 4\n",
    "quinta = fundamental + 7\n",
    "setima = fundamental + 11\n",
    "\n",
    "i_C = semitons[fundamental]\n",
    "i_E = semitons[terca]\n",
    "i_G = semitons[quinta]\n",
    "i_B = semitons[setima]\n",
    "\n",
    "\n",
    "acorde_list = [notes[i_C], \n",
    "               notes[i_E], \n",
    "               notes[i_G], \n",
    "               notes[i_B]]\n",
    "\n",
    "\n",
    "\n",
    "\n",
    "\n",
    "counter = 0\n",
    "# print(acorde_list)\n",
    "for element in stream1[0]:\n",
    "    if type(element) == music21.note.Note:\n",
    "        \n",
    "        nota_nova = acorde_list[counter]\n",
    "#         print(nota_nova)\n",
    "        \n",
    "        # tratando o problema com bemóis\n",
    "        if 'b' in nota_nova:\n",
    "            nota_nova = nota_nova[0] # pegamos só o nome da nota sem o b e adicionamos um '-' \n",
    "            element.step = nota_nova\n",
    "            element.pitch.accidental = '-'\n",
    "            print(nota_nova, element.step, element.pitch.accidental)\n",
    "            \n",
    "        else:            \n",
    "            element.step = nota_nova\n",
    "            element.pitch.accidental = 'natural'\n",
    "            print(nota_nova, element.step)\n",
    "            \n",
    "        counter += 1\n",
    "\n",
    "stream1.show()"
   ]
  },
  {
   "cell_type": "markdown",
   "metadata": {},
   "source": [
    "### 22/09\n",
    "Uhul! Conseguimos gerar os acordes com ritmo euclidiano para ritmos com 4 articulações. Próximo passo é conseguir fazê-lo para ritmos com mais articulações, amostrando aleatoriamente notas do próprio acorde para compensar os ataques que faltarem. \n",
    "Pendência: questão das oitavas. Ex.: num acorde de E7M (mi, sol#, si, ré#), a sétima deverá aparecer numa oitava diferente do resto, pois se não será mais grave do que a fundamental. Como generalizar esta conta para todos os acordes?"
   ]
  },
  {
   "cell_type": "code",
   "execution_count": null,
   "metadata": {},
   "outputs": [],
   "source": []
  },
  {
   "cell_type": "code",
   "execution_count": null,
   "metadata": {},
   "outputs": [],
   "source": []
  },
  {
   "cell_type": "code",
   "execution_count": null,
   "metadata": {},
   "outputs": [],
   "source": []
  },
  {
   "cell_type": "code",
   "execution_count": null,
   "metadata": {},
   "outputs": [],
   "source": []
  },
  {
   "cell_type": "code",
   "execution_count": null,
   "metadata": {},
   "outputs": [],
   "source": []
  },
  {
   "cell_type": "code",
   "execution_count": null,
   "metadata": {},
   "outputs": [],
   "source": []
  },
  {
   "cell_type": "code",
   "execution_count": null,
   "metadata": {},
   "outputs": [],
   "source": []
  },
  {
   "cell_type": "code",
   "execution_count": 41,
   "metadata": {},
   "outputs": [
    {
     "data": {
      "text/html": [
       "\n",
       "                <div id='midiPlayerDiv2322'></div>\n",
       "                <link rel=\"stylesheet\" href=\"//cuthbertLab.github.io/music21j/css/m21.css\"\n",
       "                    type=\"text/css\" />\n",
       "                <script>\n",
       "                require.config({\n",
       "                    paths: {'music21': '//cuthbertLab.github.io/music21j/src/music21'}\n",
       "                });\n",
       "                require(['music21'], function() {\n",
       "                               mp = new music21.miditools.MidiPlayer();\n",
       "                               mp.addPlayer('#midiPlayerDiv2322');\n",
       "                               mp.base64Load('data:audio/midi;base64,TVRoZAAAAAYAAQABBABNVHJrAAAAOQD/AwAA4ABAAP9YBAQCGAgAkDRaiACANAAAkEdaiACARwAAkDtaiACAOwAAkEdaiACARwCIAP8vAA==');\n",
       "                        });\n",
       "                </script>"
      ],
      "text/plain": [
       "<IPython.core.display.HTML object>"
      ]
     },
     "metadata": {},
     "output_type": "display_data"
    }
   ],
   "source": [
    "fundamental = 0 + 4\n",
    "terca = fundamental + 4\n",
    "quinta = fundamental + 7\n",
    "setima = fundamental + 11\n",
    "\n",
    "i_C = semitons[fundamental]\n",
    "i_E = semitons[terca]\n",
    "i_G = semitons[quinta]\n",
    "i_B = semitons[setima]\n",
    "\n",
    "\n",
    "acorde_list = [notes[i_C], \n",
    "               notes[i_E], \n",
    "               notes[i_G], \n",
    "               notes[i_B]]\n",
    "\n",
    "\n",
    "s = music21.converter.parse('tinyNotation: 4/4 {} {} {} {} '.format(acorde_list[0],  \n",
    "                                                                           acorde_list[1], acorde_list[2], \n",
    "                                                                           acorde_list[3]))\n",
    "\n",
    "s.show('midi')\n",
    "# acorde = music21.chord.Chord(list(acorde_list), duration=d)\n",
    "\n",
    "# midi_subfolder = '{}/{}/midi_original'.format(corpus_folder, \n",
    "#                                               chord_type)\n",
    "\n",
    "# os.makedirs(midi_subfolder, \n",
    "#             exist_ok=True)  \n",
    "\n",
    "# acorde_file_name = '{}/{}{}'.format(midi_subfolder, \n",
    "#                                        notes[i], \n",
    "#                                        chord_type)\n",
    "\n",
    "# acorde_file = acorde_file_name + '.mid'\n",
    "\n",
    "# acorde.write('midi', acorde_file)\n",
    "\n",
    "\n",
    "# !timidity {acorde_file_name}.mid -Ow -o {acorde_file_name}.wav\n",
    "\n",
    "# print(notes[i], acorde.pitches)\n",
    "# print('---------------------------------')"
   ]
  },
  {
   "cell_type": "code",
   "execution_count": null,
   "metadata": {},
   "outputs": [],
   "source": []
  }
 ],
 "metadata": {
  "kernelspec": {
   "display_name": "Python 3",
   "language": "python",
   "name": "python3"
  },
  "language_info": {
   "codemirror_mode": {
    "name": "ipython",
    "version": 3
   },
   "file_extension": ".py",
   "mimetype": "text/x-python",
   "name": "python",
   "nbconvert_exporter": "python",
   "pygments_lexer": "ipython3",
   "version": "3.8.10"
  }
 },
 "nbformat": 4,
 "nbformat_minor": 4
}
