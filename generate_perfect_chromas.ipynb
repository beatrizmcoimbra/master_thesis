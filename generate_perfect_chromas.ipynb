{
 "cells": [
  {
   "cell_type": "code",
   "execution_count": 31,
   "metadata": {},
   "outputs": [],
   "source": [
    "import os\n",
    "import pandas as pd\n",
    "import IPython.display as ipd\n",
    "import librosa\n",
    "import librosa.display\n",
    "import numpy as np\n",
    "import seaborn as sns\n",
    "from matplotlib import pyplot as plt\n",
    "from collections import Counter\n",
    "import copy\n",
    "import glob\n",
    "import json"
   ]
  },
  {
   "cell_type": "code",
   "execution_count": 18,
   "metadata": {},
   "outputs": [
    {
     "data": {
      "text/plain": [
       "[0, 1, 2, 3, 4, 5, 6, 7, 8, 9, 10, 11, 0, 1, 2, 3, 4, 5, 6, 7, 8, 9, 10, 11]"
      ]
     },
     "execution_count": 18,
     "metadata": {},
     "output_type": "execute_result"
    }
   ],
   "source": [
    "semitons = list(range(0,12))\n",
    "semitons.extend(list(range(0,12)))\n",
    "semitons"
   ]
  },
  {
   "cell_type": "code",
   "execution_count": 19,
   "metadata": {},
   "outputs": [],
   "source": [
    "notes = ['C','Db','D','Eb','E','F','Gb','G','Ab','A','Bb','B']"
   ]
  },
  {
   "cell_type": "code",
   "execution_count": 38,
   "metadata": {},
   "outputs": [],
   "source": [
    "acordes_7 = [note + '7' for note in notes]\n",
    "acordes_dim = [note + 'dim' for note in notes]\n",
    "acordes_maj7 = [note + 'maj7' for note in notes]\n",
    "acordes_meio_dim = [note + 'meio_dim' for note in notes]\n",
    "acordes_min7 = [note + 'min7' for note in notes]\n",
    "acordes_6 = [note + '6' for note in notes]\n",
    "acordes_min6 = [note + 'min6' for note in notes]"
   ]
  },
  {
   "cell_type": "code",
   "execution_count": 39,
   "metadata": {},
   "outputs": [],
   "source": [
    "dict_maj7 = {}\n",
    "for i in list(range(12)):\n",
    "    \n",
    "    # definindo cada nota do acorde a partir dos intervalos, em semitons\n",
    "    fundamental = 0 + i\n",
    "    terca = fundamental + 4\n",
    "    quinta = fundamental + 7\n",
    "    setima = fundamental + 11\n",
    "\n",
    "    # mapeando cada nota do acorde a partir da sua distância (em semitons) da nota dó\n",
    "    i_fund = semitons[fundamental]\n",
    "    i_terca = semitons[terca]\n",
    "    i_quinta = semitons[quinta]\n",
    "    i_setima = semitons[setima]\n",
    "\n",
    "\n",
    "    acorde_list = [i_fund, \n",
    "                   i_terca, \n",
    "                   i_quinta, \n",
    "                   i_setima]\n",
    "\n",
    "    # definindo o chroma\n",
    "    acorde_chroma = np.zeros(12)\n",
    "    acorde_chroma[acorde_list] = 1\n",
    "    \n",
    "\n",
    "    chord = acordes_maj7[i]\n",
    "    dict_maj7[chord] = acorde_chroma.tolist()"
   ]
  },
  {
   "cell_type": "code",
   "execution_count": 40,
   "metadata": {},
   "outputs": [],
   "source": [
    "dict_7 = {}\n",
    "for i in list(range(12)):\n",
    "    \n",
    "    # definindo cada nota do acorde a partir dos intervalos, em semitons\n",
    "    fundamental = 0 + i\n",
    "    terca = fundamental + 4\n",
    "    quinta = fundamental + 7\n",
    "    setima = fundamental + 10\n",
    "\n",
    "    # mapeando cada nota do acorde a partir da sua distância (em semitons) da nota dó\n",
    "    i_fund = semitons[fundamental]\n",
    "    i_terca = semitons[terca]\n",
    "    i_quinta = semitons[quinta]\n",
    "    i_setima = semitons[setima]\n",
    "\n",
    "\n",
    "    acorde_list = [i_fund, \n",
    "                   i_terca, \n",
    "                   i_quinta, \n",
    "                   i_setima]\n",
    "\n",
    "    # definindo o chroma\n",
    "    acorde_chroma = np.zeros(12)\n",
    "    acorde_chroma[acorde_list] = 1\n",
    "    \n",
    "\n",
    "    chord = acordes_7[i]\n",
    "    dict_7[chord] = acorde_chroma.tolist()"
   ]
  },
  {
   "cell_type": "code",
   "execution_count": 41,
   "metadata": {},
   "outputs": [],
   "source": [
    "dict_min7 = {}\n",
    "for i in list(range(12)):\n",
    "    \n",
    "    # definindo cada nota do acorde a partir dos intervalos, em semitons\n",
    "    fundamental = 0 + i\n",
    "    terca = fundamental + 3\n",
    "    quinta = fundamental + 7\n",
    "    setima = fundamental + 10\n",
    "\n",
    "    # mapeando cada nota do acorde a partir da sua distância (em semitons) da nota dó\n",
    "    i_fund = semitons[fundamental]\n",
    "    i_terca = semitons[terca]\n",
    "    i_quinta = semitons[quinta]\n",
    "    i_setima = semitons[setima]\n",
    "\n",
    "\n",
    "    acorde_list = [i_fund, \n",
    "                   i_terca, \n",
    "                   i_quinta, \n",
    "                   i_setima]\n",
    "\n",
    "    # definindo o chroma\n",
    "    acorde_chroma = np.zeros(12)\n",
    "    acorde_chroma[acorde_list] = 1\n",
    "    \n",
    "\n",
    "    chord = acordes_min7[i]\n",
    "    dict_min7[chord] = acorde_chroma.tolist()"
   ]
  },
  {
   "cell_type": "code",
   "execution_count": 42,
   "metadata": {},
   "outputs": [],
   "source": [
    "dict_dim = {}\n",
    "for i in list(range(12)):\n",
    "    \n",
    "    # definindo cada nota do acorde a partir dos intervalos, em semitons\n",
    "    fundamental = 0 + i\n",
    "    terca = fundamental + 3\n",
    "    quinta = fundamental + 6\n",
    "    setima = fundamental + 9\n",
    "\n",
    "    # mapeando cada nota do acorde a partir da sua distância (em semitons) da nota dó\n",
    "    i_fund = semitons[fundamental]\n",
    "    i_terca = semitons[terca]\n",
    "    i_quinta = semitons[quinta]\n",
    "    i_setima = semitons[setima]\n",
    "\n",
    "\n",
    "    acorde_list = [i_fund, \n",
    "                   i_terca, \n",
    "                   i_quinta, \n",
    "                   i_setima]\n",
    "\n",
    "    # definindo o chroma\n",
    "    acorde_chroma = np.zeros(12)\n",
    "    acorde_chroma[acorde_list] = 1\n",
    "    \n",
    "\n",
    "    chord = acordes_dim[i]\n",
    "    dict_dim[chord] = acorde_chroma.tolist()"
   ]
  },
  {
   "cell_type": "code",
   "execution_count": 43,
   "metadata": {},
   "outputs": [],
   "source": [
    "dict_meio_dim = {}\n",
    "for i in list(range(12)):\n",
    "    \n",
    "    # definindo cada nota do acorde a partir dos intervalos, em semitons\n",
    "    fundamental = 0 + i\n",
    "    terca = fundamental + 3\n",
    "    quinta = fundamental + 6\n",
    "    setima = fundamental + 10\n",
    "\n",
    "    # mapeando cada nota do acorde a partir da sua distância (em semitons) da nota dó\n",
    "    i_fund = semitons[fundamental]\n",
    "    i_terca = semitons[terca]\n",
    "    i_quinta = semitons[quinta]\n",
    "    i_setima = semitons[setima]\n",
    "\n",
    "\n",
    "    acorde_list = [i_fund, \n",
    "                   i_terca, \n",
    "                   i_quinta, \n",
    "                   i_setima]\n",
    "\n",
    "    # definindo o chroma\n",
    "    acorde_chroma = np.zeros(12)\n",
    "    acorde_chroma[acorde_list] = 1\n",
    "    \n",
    "\n",
    "    chord = acordes_meio_dim[i]\n",
    "    dict_meio_dim[chord] = acorde_chroma.tolist()"
   ]
  },
  {
   "cell_type": "code",
   "execution_count": 44,
   "metadata": {},
   "outputs": [],
   "source": [
    "dict_6 = {}\n",
    "for i in list(range(12)):\n",
    "    \n",
    "    # definindo cada nota do acorde a partir dos intervalos, em semitons\n",
    "    fundamental = 0 + i\n",
    "    terca = fundamental + 4\n",
    "    quinta = fundamental + 7\n",
    "    setima = fundamental + 9\n",
    "\n",
    "    # mapeando cada nota do acorde a partir da sua distância (em semitons) da nota dó\n",
    "    i_fund = semitons[fundamental]\n",
    "    i_terca = semitons[terca]\n",
    "    i_quinta = semitons[quinta]\n",
    "    i_setima = semitons[setima]\n",
    "\n",
    "\n",
    "    acorde_list = [i_fund, \n",
    "                   i_terca, \n",
    "                   i_quinta, \n",
    "                   i_setima]\n",
    "\n",
    "    # definindo o chroma\n",
    "    acorde_chroma = np.zeros(12)\n",
    "    acorde_chroma[acorde_list] = 1\n",
    "    \n",
    "\n",
    "    chord = acordes_6[i]\n",
    "    dict_6[chord] = acorde_chroma.tolist()"
   ]
  },
  {
   "cell_type": "code",
   "execution_count": 45,
   "metadata": {},
   "outputs": [
    {
     "data": {
      "text/plain": [
       "{'C6': [1.0, 0.0, 0.0, 0.0, 1.0, 0.0, 0.0, 1.0, 0.0, 1.0, 0.0, 0.0],\n",
       " 'Db6': [0.0, 1.0, 0.0, 0.0, 0.0, 1.0, 0.0, 0.0, 1.0, 0.0, 1.0, 0.0],\n",
       " 'D6': [0.0, 0.0, 1.0, 0.0, 0.0, 0.0, 1.0, 0.0, 0.0, 1.0, 0.0, 1.0],\n",
       " 'Eb6': [1.0, 0.0, 0.0, 1.0, 0.0, 0.0, 0.0, 1.0, 0.0, 0.0, 1.0, 0.0],\n",
       " 'E6': [0.0, 1.0, 0.0, 0.0, 1.0, 0.0, 0.0, 0.0, 1.0, 0.0, 0.0, 1.0],\n",
       " 'F6': [1.0, 0.0, 1.0, 0.0, 0.0, 1.0, 0.0, 0.0, 0.0, 1.0, 0.0, 0.0],\n",
       " 'Gb6': [0.0, 1.0, 0.0, 1.0, 0.0, 0.0, 1.0, 0.0, 0.0, 0.0, 1.0, 0.0],\n",
       " 'G6': [0.0, 0.0, 1.0, 0.0, 1.0, 0.0, 0.0, 1.0, 0.0, 0.0, 0.0, 1.0],\n",
       " 'Ab6': [1.0, 0.0, 0.0, 1.0, 0.0, 1.0, 0.0, 0.0, 1.0, 0.0, 0.0, 0.0],\n",
       " 'A6': [0.0, 1.0, 0.0, 0.0, 1.0, 0.0, 1.0, 0.0, 0.0, 1.0, 0.0, 0.0],\n",
       " 'Bb6': [0.0, 0.0, 1.0, 0.0, 0.0, 1.0, 0.0, 1.0, 0.0, 0.0, 1.0, 0.0],\n",
       " 'B6': [0.0, 0.0, 0.0, 1.0, 0.0, 0.0, 1.0, 0.0, 1.0, 0.0, 0.0, 1.0]}"
      ]
     },
     "execution_count": 45,
     "metadata": {},
     "output_type": "execute_result"
    }
   ],
   "source": [
    "dict_6"
   ]
  },
  {
   "cell_type": "code",
   "execution_count": 46,
   "metadata": {},
   "outputs": [],
   "source": [
    "dict_min6 = {}\n",
    "for i in list(range(12)):\n",
    "    \n",
    "    # definindo cada nota do acorde a partir dos intervalos, em semitons\n",
    "    fundamental = 0 + i\n",
    "    terca = fundamental + 3\n",
    "    quinta = fundamental + 7\n",
    "    setima = fundamental + 9\n",
    "\n",
    "    # mapeando cada nota do acorde a partir da sua distância (em semitons) da nota dó\n",
    "    i_fund = semitons[fundamental]\n",
    "    i_terca = semitons[terca]\n",
    "    i_quinta = semitons[quinta]\n",
    "    i_setima = semitons[setima]\n",
    "\n",
    "\n",
    "    acorde_list = [i_fund, \n",
    "                   i_terca, \n",
    "                   i_quinta, \n",
    "                   i_setima]\n",
    "\n",
    "    # definindo o chroma\n",
    "    acorde_chroma = np.zeros(12)\n",
    "    acorde_chroma[acorde_list] = 1\n",
    "    \n",
    "\n",
    "    chord = acordes_min6[i]\n",
    "    dict_min6[chord] = acorde_chroma.tolist()"
   ]
  },
  {
   "cell_type": "code",
   "execution_count": 47,
   "metadata": {},
   "outputs": [
    {
     "data": {
      "text/plain": [
       "{'Cmin6': [1.0, 0.0, 0.0, 1.0, 0.0, 0.0, 0.0, 1.0, 0.0, 1.0, 0.0, 0.0],\n",
       " 'Dbmin6': [0.0, 1.0, 0.0, 0.0, 1.0, 0.0, 0.0, 0.0, 1.0, 0.0, 1.0, 0.0],\n",
       " 'Dmin6': [0.0, 0.0, 1.0, 0.0, 0.0, 1.0, 0.0, 0.0, 0.0, 1.0, 0.0, 1.0],\n",
       " 'Ebmin6': [1.0, 0.0, 0.0, 1.0, 0.0, 0.0, 1.0, 0.0, 0.0, 0.0, 1.0, 0.0],\n",
       " 'Emin6': [0.0, 1.0, 0.0, 0.0, 1.0, 0.0, 0.0, 1.0, 0.0, 0.0, 0.0, 1.0],\n",
       " 'Fmin6': [1.0, 0.0, 1.0, 0.0, 0.0, 1.0, 0.0, 0.0, 1.0, 0.0, 0.0, 0.0],\n",
       " 'Gbmin6': [0.0, 1.0, 0.0, 1.0, 0.0, 0.0, 1.0, 0.0, 0.0, 1.0, 0.0, 0.0],\n",
       " 'Gmin6': [0.0, 0.0, 1.0, 0.0, 1.0, 0.0, 0.0, 1.0, 0.0, 0.0, 1.0, 0.0],\n",
       " 'Abmin6': [0.0, 0.0, 0.0, 1.0, 0.0, 1.0, 0.0, 0.0, 1.0, 0.0, 0.0, 1.0],\n",
       " 'Amin6': [1.0, 0.0, 0.0, 0.0, 1.0, 0.0, 1.0, 0.0, 0.0, 1.0, 0.0, 0.0],\n",
       " 'Bbmin6': [0.0, 1.0, 0.0, 0.0, 0.0, 1.0, 0.0, 1.0, 0.0, 0.0, 1.0, 0.0],\n",
       " 'Bmin6': [0.0, 0.0, 1.0, 0.0, 0.0, 0.0, 1.0, 0.0, 1.0, 0.0, 0.0, 1.0]}"
      ]
     },
     "execution_count": 47,
     "metadata": {},
     "output_type": "execute_result"
    }
   ],
   "source": [
    "dict_min6"
   ]
  },
  {
   "cell_type": "code",
   "execution_count": 48,
   "metadata": {
    "scrolled": true
   },
   "outputs": [
    {
     "data": {
      "text/plain": [
       "{'Cmaj7': [1.0, 0.0, 0.0, 0.0, 1.0, 0.0, 0.0, 1.0, 0.0, 0.0, 0.0, 1.0],\n",
       " 'Dbmaj7': [1.0, 1.0, 0.0, 0.0, 0.0, 1.0, 0.0, 0.0, 1.0, 0.0, 0.0, 0.0],\n",
       " 'Dmaj7': [0.0, 1.0, 1.0, 0.0, 0.0, 0.0, 1.0, 0.0, 0.0, 1.0, 0.0, 0.0],\n",
       " 'Ebmaj7': [0.0, 0.0, 1.0, 1.0, 0.0, 0.0, 0.0, 1.0, 0.0, 0.0, 1.0, 0.0],\n",
       " 'Emaj7': [0.0, 0.0, 0.0, 1.0, 1.0, 0.0, 0.0, 0.0, 1.0, 0.0, 0.0, 1.0],\n",
       " 'Fmaj7': [1.0, 0.0, 0.0, 0.0, 1.0, 1.0, 0.0, 0.0, 0.0, 1.0, 0.0, 0.0],\n",
       " 'Gbmaj7': [0.0, 1.0, 0.0, 0.0, 0.0, 1.0, 1.0, 0.0, 0.0, 0.0, 1.0, 0.0],\n",
       " 'Gmaj7': [0.0, 0.0, 1.0, 0.0, 0.0, 0.0, 1.0, 1.0, 0.0, 0.0, 0.0, 1.0],\n",
       " 'Abmaj7': [1.0, 0.0, 0.0, 1.0, 0.0, 0.0, 0.0, 1.0, 1.0, 0.0, 0.0, 0.0],\n",
       " 'Amaj7': [0.0, 1.0, 0.0, 0.0, 1.0, 0.0, 0.0, 0.0, 1.0, 1.0, 0.0, 0.0],\n",
       " 'Bbmaj7': [0.0, 0.0, 1.0, 0.0, 0.0, 1.0, 0.0, 0.0, 0.0, 1.0, 1.0, 0.0],\n",
       " 'Bmaj7': [0.0, 0.0, 0.0, 1.0, 0.0, 0.0, 1.0, 0.0, 0.0, 0.0, 1.0, 1.0],\n",
       " 'C7': [1.0, 0.0, 0.0, 0.0, 1.0, 0.0, 0.0, 1.0, 0.0, 0.0, 1.0, 0.0],\n",
       " 'Db7': [0.0, 1.0, 0.0, 0.0, 0.0, 1.0, 0.0, 0.0, 1.0, 0.0, 0.0, 1.0],\n",
       " 'D7': [1.0, 0.0, 1.0, 0.0, 0.0, 0.0, 1.0, 0.0, 0.0, 1.0, 0.0, 0.0],\n",
       " 'Eb7': [0.0, 1.0, 0.0, 1.0, 0.0, 0.0, 0.0, 1.0, 0.0, 0.0, 1.0, 0.0],\n",
       " 'E7': [0.0, 0.0, 1.0, 0.0, 1.0, 0.0, 0.0, 0.0, 1.0, 0.0, 0.0, 1.0],\n",
       " 'F7': [1.0, 0.0, 0.0, 1.0, 0.0, 1.0, 0.0, 0.0, 0.0, 1.0, 0.0, 0.0],\n",
       " 'Gb7': [0.0, 1.0, 0.0, 0.0, 1.0, 0.0, 1.0, 0.0, 0.0, 0.0, 1.0, 0.0],\n",
       " 'G7': [0.0, 0.0, 1.0, 0.0, 0.0, 1.0, 0.0, 1.0, 0.0, 0.0, 0.0, 1.0],\n",
       " 'Ab7': [1.0, 0.0, 0.0, 1.0, 0.0, 0.0, 1.0, 0.0, 1.0, 0.0, 0.0, 0.0],\n",
       " 'A7': [0.0, 1.0, 0.0, 0.0, 1.0, 0.0, 0.0, 1.0, 0.0, 1.0, 0.0, 0.0],\n",
       " 'Bb7': [0.0, 0.0, 1.0, 0.0, 0.0, 1.0, 0.0, 0.0, 1.0, 0.0, 1.0, 0.0],\n",
       " 'B7': [0.0, 0.0, 0.0, 1.0, 0.0, 0.0, 1.0, 0.0, 0.0, 1.0, 0.0, 1.0],\n",
       " 'Cmin7': [1.0, 0.0, 0.0, 1.0, 0.0, 0.0, 0.0, 1.0, 0.0, 0.0, 1.0, 0.0],\n",
       " 'Dbmin7': [0.0, 1.0, 0.0, 0.0, 1.0, 0.0, 0.0, 0.0, 1.0, 0.0, 0.0, 1.0],\n",
       " 'Dmin7': [1.0, 0.0, 1.0, 0.0, 0.0, 1.0, 0.0, 0.0, 0.0, 1.0, 0.0, 0.0],\n",
       " 'Ebmin7': [0.0, 1.0, 0.0, 1.0, 0.0, 0.0, 1.0, 0.0, 0.0, 0.0, 1.0, 0.0],\n",
       " 'Emin7': [0.0, 0.0, 1.0, 0.0, 1.0, 0.0, 0.0, 1.0, 0.0, 0.0, 0.0, 1.0],\n",
       " 'Fmin7': [1.0, 0.0, 0.0, 1.0, 0.0, 1.0, 0.0, 0.0, 1.0, 0.0, 0.0, 0.0],\n",
       " 'Gbmin7': [0.0, 1.0, 0.0, 0.0, 1.0, 0.0, 1.0, 0.0, 0.0, 1.0, 0.0, 0.0],\n",
       " 'Gmin7': [0.0, 0.0, 1.0, 0.0, 0.0, 1.0, 0.0, 1.0, 0.0, 0.0, 1.0, 0.0],\n",
       " 'Abmin7': [0.0, 0.0, 0.0, 1.0, 0.0, 0.0, 1.0, 0.0, 1.0, 0.0, 0.0, 1.0],\n",
       " 'Amin7': [1.0, 0.0, 0.0, 0.0, 1.0, 0.0, 0.0, 1.0, 0.0, 1.0, 0.0, 0.0],\n",
       " 'Bbmin7': [0.0, 1.0, 0.0, 0.0, 0.0, 1.0, 0.0, 0.0, 1.0, 0.0, 1.0, 0.0],\n",
       " 'Bmin7': [0.0, 0.0, 1.0, 0.0, 0.0, 0.0, 1.0, 0.0, 0.0, 1.0, 0.0, 1.0],\n",
       " 'Cdim': [1.0, 0.0, 0.0, 1.0, 0.0, 0.0, 1.0, 0.0, 0.0, 1.0, 0.0, 0.0],\n",
       " 'Dbdim': [0.0, 1.0, 0.0, 0.0, 1.0, 0.0, 0.0, 1.0, 0.0, 0.0, 1.0, 0.0],\n",
       " 'Ddim': [0.0, 0.0, 1.0, 0.0, 0.0, 1.0, 0.0, 0.0, 1.0, 0.0, 0.0, 1.0],\n",
       " 'Ebdim': [1.0, 0.0, 0.0, 1.0, 0.0, 0.0, 1.0, 0.0, 0.0, 1.0, 0.0, 0.0],\n",
       " 'Edim': [0.0, 1.0, 0.0, 0.0, 1.0, 0.0, 0.0, 1.0, 0.0, 0.0, 1.0, 0.0],\n",
       " 'Fdim': [0.0, 0.0, 1.0, 0.0, 0.0, 1.0, 0.0, 0.0, 1.0, 0.0, 0.0, 1.0],\n",
       " 'Gbdim': [1.0, 0.0, 0.0, 1.0, 0.0, 0.0, 1.0, 0.0, 0.0, 1.0, 0.0, 0.0],\n",
       " 'Gdim': [0.0, 1.0, 0.0, 0.0, 1.0, 0.0, 0.0, 1.0, 0.0, 0.0, 1.0, 0.0],\n",
       " 'Abdim': [0.0, 0.0, 1.0, 0.0, 0.0, 1.0, 0.0, 0.0, 1.0, 0.0, 0.0, 1.0],\n",
       " 'Adim': [1.0, 0.0, 0.0, 1.0, 0.0, 0.0, 1.0, 0.0, 0.0, 1.0, 0.0, 0.0],\n",
       " 'Bbdim': [0.0, 1.0, 0.0, 0.0, 1.0, 0.0, 0.0, 1.0, 0.0, 0.0, 1.0, 0.0],\n",
       " 'Bdim': [0.0, 0.0, 1.0, 0.0, 0.0, 1.0, 0.0, 0.0, 1.0, 0.0, 0.0, 1.0],\n",
       " 'Cmeio_dim': [1.0, 0.0, 0.0, 1.0, 0.0, 0.0, 1.0, 0.0, 0.0, 0.0, 1.0, 0.0],\n",
       " 'Dbmeio_dim': [0.0, 1.0, 0.0, 0.0, 1.0, 0.0, 0.0, 1.0, 0.0, 0.0, 0.0, 1.0],\n",
       " 'Dmeio_dim': [1.0, 0.0, 1.0, 0.0, 0.0, 1.0, 0.0, 0.0, 1.0, 0.0, 0.0, 0.0],\n",
       " 'Ebmeio_dim': [0.0, 1.0, 0.0, 1.0, 0.0, 0.0, 1.0, 0.0, 0.0, 1.0, 0.0, 0.0],\n",
       " 'Emeio_dim': [0.0, 0.0, 1.0, 0.0, 1.0, 0.0, 0.0, 1.0, 0.0, 0.0, 1.0, 0.0],\n",
       " 'Fmeio_dim': [0.0, 0.0, 0.0, 1.0, 0.0, 1.0, 0.0, 0.0, 1.0, 0.0, 0.0, 1.0],\n",
       " 'Gbmeio_dim': [1.0, 0.0, 0.0, 0.0, 1.0, 0.0, 1.0, 0.0, 0.0, 1.0, 0.0, 0.0],\n",
       " 'Gmeio_dim': [0.0, 1.0, 0.0, 0.0, 0.0, 1.0, 0.0, 1.0, 0.0, 0.0, 1.0, 0.0],\n",
       " 'Abmeio_dim': [0.0, 0.0, 1.0, 0.0, 0.0, 0.0, 1.0, 0.0, 1.0, 0.0, 0.0, 1.0],\n",
       " 'Ameio_dim': [1.0, 0.0, 0.0, 1.0, 0.0, 0.0, 0.0, 1.0, 0.0, 1.0, 0.0, 0.0],\n",
       " 'Bbmeio_dim': [0.0, 1.0, 0.0, 0.0, 1.0, 0.0, 0.0, 0.0, 1.0, 0.0, 1.0, 0.0],\n",
       " 'Bmeio_dim': [0.0, 0.0, 1.0, 0.0, 0.0, 1.0, 0.0, 0.0, 0.0, 1.0, 0.0, 1.0],\n",
       " 'C6': [1.0, 0.0, 0.0, 0.0, 1.0, 0.0, 0.0, 1.0, 0.0, 1.0, 0.0, 0.0],\n",
       " 'Db6': [0.0, 1.0, 0.0, 0.0, 0.0, 1.0, 0.0, 0.0, 1.0, 0.0, 1.0, 0.0],\n",
       " 'D6': [0.0, 0.0, 1.0, 0.0, 0.0, 0.0, 1.0, 0.0, 0.0, 1.0, 0.0, 1.0],\n",
       " 'Eb6': [1.0, 0.0, 0.0, 1.0, 0.0, 0.0, 0.0, 1.0, 0.0, 0.0, 1.0, 0.0],\n",
       " 'E6': [0.0, 1.0, 0.0, 0.0, 1.0, 0.0, 0.0, 0.0, 1.0, 0.0, 0.0, 1.0],\n",
       " 'F6': [1.0, 0.0, 1.0, 0.0, 0.0, 1.0, 0.0, 0.0, 0.0, 1.0, 0.0, 0.0],\n",
       " 'Gb6': [0.0, 1.0, 0.0, 1.0, 0.0, 0.0, 1.0, 0.0, 0.0, 0.0, 1.0, 0.0],\n",
       " 'G6': [0.0, 0.0, 1.0, 0.0, 1.0, 0.0, 0.0, 1.0, 0.0, 0.0, 0.0, 1.0],\n",
       " 'Ab6': [1.0, 0.0, 0.0, 1.0, 0.0, 1.0, 0.0, 0.0, 1.0, 0.0, 0.0, 0.0],\n",
       " 'A6': [0.0, 1.0, 0.0, 0.0, 1.0, 0.0, 1.0, 0.0, 0.0, 1.0, 0.0, 0.0],\n",
       " 'Bb6': [0.0, 0.0, 1.0, 0.0, 0.0, 1.0, 0.0, 1.0, 0.0, 0.0, 1.0, 0.0],\n",
       " 'B6': [0.0, 0.0, 0.0, 1.0, 0.0, 0.0, 1.0, 0.0, 1.0, 0.0, 0.0, 1.0],\n",
       " 'Cmin6': [1.0, 0.0, 0.0, 1.0, 0.0, 0.0, 0.0, 1.0, 0.0, 1.0, 0.0, 0.0],\n",
       " 'Dbmin6': [0.0, 1.0, 0.0, 0.0, 1.0, 0.0, 0.0, 0.0, 1.0, 0.0, 1.0, 0.0],\n",
       " 'Dmin6': [0.0, 0.0, 1.0, 0.0, 0.0, 1.0, 0.0, 0.0, 0.0, 1.0, 0.0, 1.0],\n",
       " 'Ebmin6': [1.0, 0.0, 0.0, 1.0, 0.0, 0.0, 1.0, 0.0, 0.0, 0.0, 1.0, 0.0],\n",
       " 'Emin6': [0.0, 1.0, 0.0, 0.0, 1.0, 0.0, 0.0, 1.0, 0.0, 0.0, 0.0, 1.0],\n",
       " 'Fmin6': [1.0, 0.0, 1.0, 0.0, 0.0, 1.0, 0.0, 0.0, 1.0, 0.0, 0.0, 0.0],\n",
       " 'Gbmin6': [0.0, 1.0, 0.0, 1.0, 0.0, 0.0, 1.0, 0.0, 0.0, 1.0, 0.0, 0.0],\n",
       " 'Gmin6': [0.0, 0.0, 1.0, 0.0, 1.0, 0.0, 0.0, 1.0, 0.0, 0.0, 1.0, 0.0],\n",
       " 'Abmin6': [0.0, 0.0, 0.0, 1.0, 0.0, 1.0, 0.0, 0.0, 1.0, 0.0, 0.0, 1.0],\n",
       " 'Amin6': [1.0, 0.0, 0.0, 0.0, 1.0, 0.0, 1.0, 0.0, 0.0, 1.0, 0.0, 0.0],\n",
       " 'Bbmin6': [0.0, 1.0, 0.0, 0.0, 0.0, 1.0, 0.0, 1.0, 0.0, 0.0, 1.0, 0.0],\n",
       " 'Bmin6': [0.0, 0.0, 1.0, 0.0, 0.0, 0.0, 1.0, 0.0, 1.0, 0.0, 0.0, 1.0]}"
      ]
     },
     "execution_count": 48,
     "metadata": {},
     "output_type": "execute_result"
    }
   ],
   "source": [
    "dict_chords = {**dict_maj7, **dict_7, **dict_min7, **dict_dim, **dict_meio_dim, **dict_6, **dict_min6}\n",
    "dict_chords"
   ]
  },
  {
   "cell_type": "code",
   "execution_count": 49,
   "metadata": {},
   "outputs": [],
   "source": [
    "with open('perfect_chromas.json', 'w') as fp:\n",
    "    json.dump(dict_chords, fp)"
   ]
  },
  {
   "cell_type": "code",
   "execution_count": null,
   "metadata": {},
   "outputs": [],
   "source": []
  }
 ],
 "metadata": {
  "kernelspec": {
   "display_name": "Python 3",
   "language": "python",
   "name": "python3"
  },
  "language_info": {
   "codemirror_mode": {
    "name": "ipython",
    "version": 3
   },
   "file_extension": ".py",
   "mimetype": "text/x-python",
   "name": "python",
   "nbconvert_exporter": "python",
   "pygments_lexer": "ipython3",
   "version": "3.8.10"
  }
 },
 "nbformat": 4,
 "nbformat_minor": 4
}
