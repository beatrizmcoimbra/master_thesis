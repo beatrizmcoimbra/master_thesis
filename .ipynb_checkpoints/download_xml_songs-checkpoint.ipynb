{
 "cells": [
  {
   "cell_type": "code",
   "execution_count": 1,
   "metadata": {},
   "outputs": [],
   "source": [
    "import matplotlib.pyplot as plt\n",
    "import seaborn as sns\n",
    "import pandas as pd\n",
    "import requests\n",
    "from bs4 import BeautifulSoup"
   ]
  },
  {
   "cell_type": "markdown",
   "metadata": {},
   "source": [
    "### Crawling xml songs database:"
   ]
  },
  {
   "cell_type": "markdown",
   "metadata": {},
   "source": [
    "We will start from a set of xml song files, that explicitly describe harmony, beat, melody, tempo and other musical features. After that, we use them in order to create a database with audio content, converting xml files to midi. It means that, initially, we are going to work with synthetically generated data, due to its facility to synchronize audio and chord labels. "
   ]
  },
  {
   "cell_type": "markdown",
   "metadata": {},
   "source": [
    "#### Jazz repo:"
   ]
  },
  {
   "cell_type": "code",
   "execution_count": 2,
   "metadata": {
    "scrolled": true
   },
   "outputs": [],
   "source": [
    "url_base = 'https://effendi.me/jazz/repo/'\n",
    "iters = ['I/', 'II/', 'III/', 'IV_Part-1/', 'IV_Part-2/', 'V/']\n",
    "url_list = []\n",
    "for i in iters:\n",
    "    url = url_base + i\n",
    "    site = requests.get(url)\n",
    "    soup = BeautifulSoup(site.text, 'lxml')\n",
    "#     print(url, len(soup.find_all('a')))\n",
    "    songs = soup.find_all('a')\n",
    "    for link in songs:\n",
    "        link = link.get('href')\n",
    "#         print(links)\n",
    "        if link.startswith('?'):\n",
    "            pass\n",
    "        else:\n",
    "            url_list.append(url+link)"
   ]
  },
  {
   "cell_type": "code",
   "execution_count": 3,
   "metadata": {},
   "outputs": [],
   "source": [
    "del_links = ['https://effendi.me/jazz/repo/I//jazz/repo/', \n",
    "             'https://effendi.me/jazz/repo/II//jazz/repo/', \n",
    "             'https://effendi.me/jazz/repo/III//jazz/repo/'\n",
    "             'https://effendi.me/jazz/repo/IV_Part-1//jazz/repo/', \n",
    "             'https://effendi.me/jazz/repo/IV_Part-2//jazz/repo/', \n",
    "             'https://effendi.me/jazz/repo/V//jazz/repo/']\n",
    "\n",
    "url_list = [l for l in url_list if l not in del_links]\n",
    "#url_list"
   ]
  },
  {
   "cell_type": "markdown",
   "metadata": {},
   "source": [
    "Saving list of links in a txt file:"
   ]
  },
  {
   "cell_type": "code",
   "execution_count": 4,
   "metadata": {},
   "outputs": [],
   "source": [
    "with open('corpus/xml_songs.txt', 'w') as f:\n",
    "    for item in url_list:\n",
    "        f.write(\"%s\\n\" % item)"
   ]
  },
  {
   "cell_type": "markdown",
   "metadata": {},
   "source": [
    "## Music 21\n",
    "Testing music21 to generate midi files:"
   ]
  },
  {
   "cell_type": "code",
   "execution_count": 63,
   "metadata": {},
   "outputs": [],
   "source": [
    "import music21"
   ]
  },
  {
   "cell_type": "code",
   "execution_count": 87,
   "metadata": {
    "collapsed": true
   },
   "outputs": [
    {
     "name": "stdout",
     "output_type": "stream",
     "text": [
      "728\n",
      "1974%20Blues\n",
      "AllBlues%201\n",
      "Ambidextrous\n",
      "Amsterdam%20After%20DarkII.5\n",
      "A%20smooth%20One\n",
      "Ballad\n",
      "Blues%20For%20Junior.Pyramid\n",
      "Blues%20after%20Dark%20II\n",
      "Blues%20for%20PK\n",
      "Bluesinthebasement\n",
      "Bold%20and%20Black\n",
      "Boogie%20Stop%20Shuffle\n",
      "Boogie%20Woogie%20Bossa%20Nova\n",
      "Cantaloupe%20Island\n",
      "Chicago%20Seranade\n",
      "Cissy%20Strut%20III\n",
      "Cissy%20Strut%20IV\n",
      "Clockwise\n",
      "Cold%20Duck%20B%20with%20bass\n",
      "Cold%20duck%20Lead\n",
      "Crisis\n",
      "CrisisC%23\n",
      "Cryin%20Blues\n",
      "Dangerous%20Curves%20A\n",
      "Dangerous%20Curves%20B\n",
      "Greenonions\n",
      "Groovy%20Samba\n",
      "Hattie%20Wall%20-%20001%20Alto%20Sax%201\n",
      "Hattie%20Wall%20-%20002%20Alto%20Sax%202\n",
      "Hattie%20Wall%20-%20003%20Tenor%20Sax\n",
      "Hattie%20Wall%20-%20004%20Mallets\n",
      "Hattie%20Wall%20-%20005%20Baritone%20Sax\n",
      "Hattie%20Wall%20-%20006%20Drum%20Set\n",
      "Hattie%20Wall\n",
      "IDWNOBY\n",
      "IdleMoments\n",
      "Instant%20Death\n",
      "It's%20All%20Right%20Now\n",
      "James%20Bond\n",
      "Jean%20De%20Fleur\n",
      "Jive%20Samba\n",
      "Just%20the%20Two%20of%20Us\n",
      "ListenHereNew\n",
      "Love%20For%20Sale\n",
      "Lovely%20is%20Today\n",
      "Mating%20Call\n",
      "Mean%20GreansII\n",
      "Midnight%20Blue\n",
      "MoBetterII\n",
      "More%20Soul%20Than%20soulful\n",
      "Movin%20on%20Out\n",
      "My%20Groove%20Your%20Move\n",
      "Night%20And%20DAy\n",
      "Night%20Train%20ASax%20Transcription\n",
      "Nothing%20Else%20to%20Do\n",
      "Ornithology\n",
      "Pass%20the%20Peas\n",
      "Pink%20Panther\n",
      "Round%20Midnight%202\n",
      "Selma\n",
      "Set%20Us%20Free\n",
      "Sham%20Time\n",
      "Somethin%20Else\n",
      "Sookie\n",
      "Spontaneous%20Combustion\n",
      "Straight%20Street.IImusx\n",
      "StrasbourgII\n",
      "Summertime\n",
      "This%20Here\n",
      "Too%20Many%20Rivers%20To%20Cross\n",
      "UmmhC\n",
      "Velocity\n",
      "Vierd%20Blues\n",
      "Walkin'\n",
      "Watermelon%20Man\n",
      "Whilemyladysleeps\n",
      "Why!\n",
      "Why%20Was%20I%20Born\n",
      "WithoutYou\n",
      "Work%20Song%20C\n",
      "are%20you%20real\n",
      "bagsgroove%202\n",
      "betty1\n",
      "charcoal%20Blues\n",
      "chicken\n",
      "dat%20dere\n",
      "dorado%203\n",
      "feellike\n",
      "filthy%20mcnasty\n",
      "gonehome\n",
      "gonehomeC%23\n",
      "isthereaplaceforus\n",
      "lhcd\n",
      "lyresto\n",
      "moaninbari\n",
      "nighttrain\n",
      "psychedelic%20sally%20C\n",
      "sticksc\n",
      "stlouisblues\n",
      "the%20worm\n",
      "433\n",
      "A%20Little%20Busy\n",
      "Afrodisia\n",
      "Arriving%20Soon\n",
      "Back%20at%20the%20Chicken%20Shack\n",
      "Bemsha%20Swing\n",
      "Black%20Ice\n",
      "Blue%20Juice\n",
      "Blue%20Moon\n",
      "Blues%20A%20La%20Mode\n",
      "Blues%20on%20the%20Corner\n",
      "Cat,%20The\n",
      "Cat,%20TheEb\n",
      "Centerpiece\n",
      "Chameleon\n",
      "Chill\n",
      "Clouds\n",
      "Comin'%20Home%20Baby\n",
      "Cool%20Struttin'\n",
      "Cousin%20Mary\n",
      "Days%20of%20Wine%20and%20Roses\n",
      "Diverse\n",
      "Driftin'\n",
      "Ease%20Back\n",
      "Eddie%20Who\n",
      "For%20Mods%20Only\n",
      "Four%20By%20Five\n",
      "Full%20Deep%20and%20Mellow\n",
      "Goodbye%20Pork%20Pie\n",
      "Grand%20Slam\n",
      "Grand%20Strut\n",
      "Hang%20Up!\n",
      "Hudson\n",
      "Humanism\n",
      "I%20Wish\n",
      "Isn't%20She%20Lovely\n",
      "Its%20your%20thing\n",
      "Jazz%20Crimes\n",
      "KD%20Motion\n",
      "Liberia\n",
      "LittleBsPoem\n",
      "Lotus%20Blossom\n",
      "Mamacita\n",
      "Manteca\n",
      "Montara\n",
      "Moonglow\n",
      "Mr%20Syms\n",
      "News%20For%20Lulu\n",
      "PCH\n",
      "Play%20It%20Back\n",
      "Rain%20Dance\n",
      "Recado%20Bossa%20Nova\n",
      "Recordame\n",
      "Red%20Clay%20C%23\n",
      "Red%20Clay%20C\n",
      "Root%20Down\n",
      "SKJ\n",
      "Saint%20James\n",
      "Scrapple%20From%20the%20Apple\n",
      "Senor%20Blues%201\n",
      "Senor%20blues%20bass\n",
      "Sequel,%20The\n",
      "Seventeen%20West\n",
      "Smokin\n",
      "Solid\n",
      "Somethin'%20Special\n",
      "Song%20For%20M\n",
      "Song%20For%20My%20Lady\n",
      "Sonny's%20Crib\n",
      "Sonnymoon%20for%20Two\n",
      "Soul%20Power74\n",
      "Sunny\n",
      "Superstition\n",
      "Take%20Ten\n",
      "Theme\n",
      "Things%20are%20Getting%20Better\n",
      "Toad's%20Place\n",
      "Tricrotism\n",
      "Tune%2088\n",
      "Twistin'\n",
      "UhHuh\n",
      "Voodoo\n",
      "Watermelon%20Man2\n",
      "Weasil,%20The\n",
      "Wes%20Side%20Stroll\n",
      "Whilemyladysleeps\n",
      "Yeah%20You%20Right\n",
      "batida\n",
      "charcoal%20Blues\n",
      "dat%20dere\n",
      "ghana\n",
      "herzog\n",
      "sambop\n"
     ]
    },
    {
     "ename": "ConverterException",
     "evalue": "cannot determine file format of url: https://effendi.me/jazz/repo/III//jazz/repo/",
     "output_type": "error",
     "traceback": [
      "\u001b[0;31m---------------------------------------------------------------------------\u001b[0m",
      "\u001b[0;31mConverterException\u001b[0m                        Traceback (most recent call last)",
      "\u001b[0;32m<ipython-input-87-1d1e303dc3f7>\u001b[0m in \u001b[0;36m<module>\u001b[0;34m\u001b[0m\n\u001b[1;32m      1\u001b[0m \u001b[0;31m# creating midi songs corpus\u001b[0m\u001b[0;34m\u001b[0m\u001b[0;34m\u001b[0m\u001b[0;34m\u001b[0m\u001b[0m\n\u001b[1;32m      2\u001b[0m \u001b[0;32mfor\u001b[0m \u001b[0murl\u001b[0m \u001b[0;32min\u001b[0m \u001b[0murl_list\u001b[0m\u001b[0;34m[\u001b[0m\u001b[0;36m1\u001b[0m\u001b[0;34m:\u001b[0m\u001b[0;34m]\u001b[0m\u001b[0;34m:\u001b[0m\u001b[0;34m\u001b[0m\u001b[0;34m\u001b[0m\u001b[0m\n\u001b[0;32m----> 3\u001b[0;31m     \u001b[0msong\u001b[0m \u001b[0;34m=\u001b[0m \u001b[0mmusic21\u001b[0m\u001b[0;34m.\u001b[0m\u001b[0mconverter\u001b[0m\u001b[0;34m.\u001b[0m\u001b[0mparse\u001b[0m\u001b[0;34m(\u001b[0m\u001b[0murl\u001b[0m\u001b[0;34m)\u001b[0m\u001b[0;34m\u001b[0m\u001b[0;34m\u001b[0m\u001b[0m\n\u001b[0m\u001b[1;32m      4\u001b[0m     \u001b[0mtitle\u001b[0m \u001b[0;34m=\u001b[0m \u001b[0murl\u001b[0m\u001b[0;34m.\u001b[0m\u001b[0msplit\u001b[0m\u001b[0;34m(\u001b[0m\u001b[0;34m'/'\u001b[0m\u001b[0;34m)\u001b[0m\u001b[0;34m[\u001b[0m\u001b[0;34m-\u001b[0m\u001b[0;36m1\u001b[0m\u001b[0;34m]\u001b[0m\u001b[0;34m.\u001b[0m\u001b[0msplit\u001b[0m\u001b[0;34m(\u001b[0m\u001b[0;34m'.xml'\u001b[0m\u001b[0;34m)\u001b[0m\u001b[0;34m[\u001b[0m\u001b[0;36m0\u001b[0m\u001b[0;34m]\u001b[0m\u001b[0;34m\u001b[0m\u001b[0;34m\u001b[0m\u001b[0m\n\u001b[1;32m      5\u001b[0m     \u001b[0msong\u001b[0m\u001b[0;34m.\u001b[0m\u001b[0mwrite\u001b[0m\u001b[0;34m(\u001b[0m\u001b[0;34m'midi'\u001b[0m\u001b[0;34m,\u001b[0m \u001b[0;34m'corpus/midi_music21/'\u001b[0m \u001b[0;34m+\u001b[0m \u001b[0mtitle\u001b[0m \u001b[0;34m+\u001b[0m \u001b[0;34m'.mid'\u001b[0m\u001b[0;34m)\u001b[0m\u001b[0;34m\u001b[0m\u001b[0;34m\u001b[0m\u001b[0m\n",
      "\u001b[0;32m/usr/local/lib/python3.8/dist-packages/music21/converter/__init__.py\u001b[0m in \u001b[0;36mparse\u001b[0;34m(value, *args, **keywords)\u001b[0m\n\u001b[1;32m   1135\u001b[0m                                               or valueStr.startswith('https://')):\n\u001b[1;32m   1136\u001b[0m         \u001b[0;31m# its a url; may need to broaden these criteria\u001b[0m\u001b[0;34m\u001b[0m\u001b[0;34m\u001b[0m\u001b[0;34m\u001b[0m\u001b[0m\n\u001b[0;32m-> 1137\u001b[0;31m         return parseURL(value, number=number, format=m21Format,\n\u001b[0m\u001b[1;32m   1138\u001b[0m                         forceSource=forceSource, **keywords)\n\u001b[1;32m   1139\u001b[0m \u001b[0;34m\u001b[0m\u001b[0m\n",
      "\u001b[0;32m/usr/local/lib/python3.8/dist-packages/music21/converter/__init__.py\u001b[0m in \u001b[0;36mparseURL\u001b[0;34m(url, number, format, forceSource, **keywords)\u001b[0m\n\u001b[1;32m   1028\u001b[0m     '''\n\u001b[1;32m   1029\u001b[0m     \u001b[0mv\u001b[0m \u001b[0;34m=\u001b[0m \u001b[0mConverter\u001b[0m\u001b[0;34m(\u001b[0m\u001b[0;34m)\u001b[0m\u001b[0;34m\u001b[0m\u001b[0;34m\u001b[0m\u001b[0m\n\u001b[0;32m-> 1030\u001b[0;31m     \u001b[0mv\u001b[0m\u001b[0;34m.\u001b[0m\u001b[0mparseURL\u001b[0m\u001b[0;34m(\u001b[0m\u001b[0murl\u001b[0m\u001b[0;34m,\u001b[0m \u001b[0mformat\u001b[0m\u001b[0;34m=\u001b[0m\u001b[0mformat\u001b[0m\u001b[0;34m,\u001b[0m \u001b[0;34m**\u001b[0m\u001b[0mkeywords\u001b[0m\u001b[0;34m)\u001b[0m\u001b[0;34m\u001b[0m\u001b[0;34m\u001b[0m\u001b[0m\n\u001b[0m\u001b[1;32m   1031\u001b[0m     \u001b[0;32mreturn\u001b[0m \u001b[0mv\u001b[0m\u001b[0;34m.\u001b[0m\u001b[0mstream\u001b[0m\u001b[0;34m\u001b[0m\u001b[0;34m\u001b[0m\u001b[0m\n\u001b[1;32m   1032\u001b[0m \u001b[0;34m\u001b[0m\u001b[0m\n",
      "\u001b[0;32m/usr/local/lib/python3.8/dist-packages/music21/converter/__init__.py\u001b[0m in \u001b[0;36mparseURL\u001b[0;34m(self, url, format, number, **keywords)\u001b[0m\n\u001b[1;32m    642\u001b[0m             \u001b[0mformatFromURL\u001b[0m\u001b[0;34m,\u001b[0m \u001b[0mext\u001b[0m \u001b[0;34m=\u001b[0m \u001b[0mcommon\u001b[0m\u001b[0;34m.\u001b[0m\u001b[0mfindFormatExtURL\u001b[0m\u001b[0;34m(\u001b[0m\u001b[0murl\u001b[0m\u001b[0;34m)\u001b[0m\u001b[0;34m\u001b[0m\u001b[0;34m\u001b[0m\u001b[0m\n\u001b[1;32m    643\u001b[0m             \u001b[0;32mif\u001b[0m \u001b[0mformatFromURL\u001b[0m \u001b[0;32mis\u001b[0m \u001b[0;32mNone\u001b[0m\u001b[0;34m:\u001b[0m  \u001b[0;31m# cannot figure out what it is\u001b[0m\u001b[0;34m\u001b[0m\u001b[0;34m\u001b[0m\u001b[0m\n\u001b[0;32m--> 644\u001b[0;31m                 \u001b[0;32mraise\u001b[0m \u001b[0mConverterException\u001b[0m\u001b[0;34m(\u001b[0m\u001b[0;34m'cannot determine file format of url: %s'\u001b[0m \u001b[0;34m%\u001b[0m \u001b[0murl\u001b[0m\u001b[0;34m)\u001b[0m\u001b[0;34m\u001b[0m\u001b[0;34m\u001b[0m\u001b[0m\n\u001b[0m\u001b[1;32m    645\u001b[0m         \u001b[0;32melse\u001b[0m\u001b[0;34m:\u001b[0m\u001b[0;34m\u001b[0m\u001b[0;34m\u001b[0m\u001b[0m\n\u001b[1;32m    646\u001b[0m             \u001b[0munused_formatType\u001b[0m\u001b[0;34m,\u001b[0m \u001b[0mext\u001b[0m \u001b[0;34m=\u001b[0m \u001b[0mcommon\u001b[0m\u001b[0;34m.\u001b[0m\u001b[0mfindFormat\u001b[0m\u001b[0;34m(\u001b[0m\u001b[0mformat\u001b[0m\u001b[0;34m)\u001b[0m\u001b[0;34m\u001b[0m\u001b[0;34m\u001b[0m\u001b[0m\n",
      "\u001b[0;31mConverterException\u001b[0m: cannot determine file format of url: https://effendi.me/jazz/repo/III//jazz/repo/"
     ]
    }
   ],
   "source": [
    "# creating midi songs corpus\n",
    "for url in url_list:\n",
    "    song = music21.converter.parse(url)\n",
    "    title = song.metadata.title\n",
    "    song.write('midi', 'corpus/midi_music21/' + title + '.mid')\n",
    "    print(title)"
   ]
  },
  {
   "cell_type": "code",
   "execution_count": 80,
   "metadata": {},
   "outputs": [
    {
     "data": {
      "text/plain": [
       "'A%20smooth%20One'"
      ]
     },
     "execution_count": 80,
     "metadata": {},
     "output_type": "execute_result"
    }
   ],
   "source": [
    "url_list[7].split('/')[-1].split('.xml')[0]"
   ]
  },
  {
   "cell_type": "code",
   "execution_count": 64,
   "metadata": {},
   "outputs": [
    {
     "data": {
      "text/html": [
       "\n",
       "                <div id='midiPlayerDiv2284'></div>\n",
       "                <link rel=\"stylesheet\" href=\"//cuthbertLab.github.io/music21j/css/m21.css\"\n",
       "                    type=\"text/css\" />\n",
       "                <script>\n",
       "                require.config({\n",
       "                    paths: {'music21': '//cuthbertLab.github.io/music21j/src/music21'}\n",
       "                });\n",
       "                require(['music21'], function() {\n",
       "                               mp = new music21.miditools.MidiPlayer();\n",
       "                               mp.addPlayer('#midiPlayerDiv2284');\n",
       "                               mp.base64Load('data:audio/midi;base64,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');\n",
       "                        });\n",
       "                </script>"
      ],
      "text/plain": [
       "<IPython.core.display.HTML object>"
      ]
     },
     "metadata": {},
     "output_type": "display_data"
    }
   ],
   "source": [
    "c = music21.converter.parse('https://effendi.me/jazz/repo/III/HerbsAndRoots.xml')\n",
    "# c.show('musicxml.pdf')\n",
    "c.show('midi')"
   ]
  },
  {
   "cell_type": "code",
   "execution_count": 72,
   "metadata": {},
   "outputs": [
    {
     "data": {
      "text/plain": [
       "'teste.mid'"
      ]
     },
     "execution_count": 72,
     "metadata": {},
     "output_type": "execute_result"
    }
   ],
   "source": [
    "c.write('midi', 'teste.mid')"
   ]
  },
  {
   "cell_type": "code",
   "execution_count": null,
   "metadata": {},
   "outputs": [],
   "source": []
  }
 ],
 "metadata": {
  "kernelspec": {
   "display_name": "Python 3",
   "language": "python",
   "name": "python3"
  },
  "language_info": {
   "codemirror_mode": {
    "name": "ipython",
    "version": 3
   },
   "file_extension": ".py",
   "mimetype": "text/x-python",
   "name": "python",
   "nbconvert_exporter": "python",
   "pygments_lexer": "ipython3",
   "version": "3.8.10"
  }
 },
 "nbformat": 4,
 "nbformat_minor": 4
}
