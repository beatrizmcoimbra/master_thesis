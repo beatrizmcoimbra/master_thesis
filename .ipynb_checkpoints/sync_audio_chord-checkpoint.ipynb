{
 "cells": [
  {
   "cell_type": "markdown",
   "metadata": {},
   "source": [
    "Aqui, começaremos a atacar o problema de sincronizar nossos arquivos de audio com os acordes escritos. Primeiramente, tentaremos, para uma dada música, determinar os acordes por compasso. Faremos isso tomando como base os arquivos em formato xml."
   ]
  },
  {
   "cell_type": "code",
   "execution_count": 53,
   "metadata": {},
   "outputs": [],
   "source": [
    "import pandas as pd\n",
    "import numpy as np\n",
    "import os\n",
    "import xml.etree.ElementTree as ET\n",
    "song_title = 'Gillette'\n",
    "tree = ET.parse('corpus/xml/{}.xml'.format(song_title))\n",
    "root = tree.getroot()"
   ]
  },
  {
   "cell_type": "code",
   "execution_count": 54,
   "metadata": {},
   "outputs": [
    {
     "name": "stdout",
     "output_type": "stream",
     "text": [
      "Measure: 1 | Chord:  B -1  /  \n",
      "Measure: 5 | Chord:  F  7 /  \n",
      "Measure: 9 | Chord:  B -1  /  \n",
      "Measure: 11 | Chord:  E -1  /  \n",
      "Measure: 13 | Chord:  F   /  \n",
      "Measure: 13 | Chord:  E  dim /  \n",
      "Measure: 13 | Chord:  C  min6 /  \n",
      "Measure: 13 | Chord:  D  min7 /  \n",
      "Measure: 14 | Chord:  A  min /  \n",
      "Measure: 14 | Chord:  F  7 /  \n",
      "Measure: 15 | Chord:  B -1 7 /  \n",
      "Measure: 17 | Chord:  B -1 7 /  \n"
     ]
    }
   ],
   "source": [
    "part = root.findall('part')[0]\n",
    "measures = part.findall('measure')\n",
    "for measure in measures:\n",
    "    chords = measure.findall('harmony')\n",
    "    for chord in chords:\n",
    "        try:\n",
    "            note = chord.find('root/root-step').text\n",
    "\n",
    "        except AttributeError: # se não achar a nota \"root\" do acorde, não tem acorde\n",
    "            print('Measure: {}'.format(measure.attrib['number']), ' | ', 'No chords')\n",
    "            continue\n",
    "            \n",
    "        if note:\n",
    "            # alter é a alteração de um acorde (nem sempre existe): b ou #.\n",
    "            alter = chord.find('root/root-alter')#.text\n",
    "            \n",
    "            # kind é o tipo do acorde (nem sempre existe): pode ser com 7a, 9a, 13a, por aí vai...\n",
    "            kind = chord.find('kind')#.attrib['text']\n",
    "            \n",
    "            # bass é o baixo do acorde, quando diferente da tônica. Também nem sempre existe.\n",
    "            bass = chord.find('bass/bass-step')#.text\n",
    "            \n",
    "            # bass_alter é e alteração do baixo, podendo ser b ou #. Também nem sempre existe.\n",
    "            bass_alter = chord.find('bass/bass-alter')#.text\n",
    "            \n",
    "            attribs_dict = {'alter':alter, \n",
    "                            'kind':kind, \n",
    "                            'bass':bass, \n",
    "                            'bass_alter':bass_alter}\n",
    "\n",
    "            for key, value in attribs_dict.items():\n",
    "                if value is None:\n",
    "                    attribs_dict[key] = ''\n",
    "                elif key == 'kind':\n",
    "                    attribs_dict[key] = value.attrib['text']\n",
    "                else:\n",
    "                    attribs_dict[key] = value.text\n",
    "                    \n",
    "            print('Measure: {}'.format(measure.attrib['number']), '|', 'Chord: ', note, \n",
    "                  attribs_dict['alter'], attribs_dict['kind'],'/',attribs_dict['bass'],attribs_dict['bass_alter'])\n",
    "            "
   ]
  },
  {
   "cell_type": "markdown",
   "metadata": {},
   "source": [
    "Comparando com a partitura aberta no musescore parece fazer sentido, só preciso conseguir fazer com que mostre também os compassos em que não tem acorde (no caso da música que estamos usando como exemplo, os compassos 1 e 2)."
   ]
  },
  {
   "cell_type": "markdown",
   "metadata": {},
   "source": [
    "Agora, vamos modificar ligeiramente o código acima para adicionar as informações em um dataframe."
   ]
  },
  {
   "cell_type": "code",
   "execution_count": 55,
   "metadata": {},
   "outputs": [],
   "source": [
    "df_teste = pd.DataFrame(columns=[song_title])\n",
    "df_add = pd.DataFrame(columns=[song_title], \n",
    "                      index=[3], \n",
    "                      data='E -1 min7')\n",
    "\n",
    "df_add_2 = pd.DataFrame(columns=[song_title], \n",
    "                      index=[3], \n",
    "                      data='D -1')"
   ]
  },
  {
   "cell_type": "code",
   "execution_count": 56,
   "metadata": {},
   "outputs": [],
   "source": [
    "df_teste = df_teste.append(df_add)"
   ]
  },
  {
   "cell_type": "code",
   "execution_count": 57,
   "metadata": {},
   "outputs": [
    {
     "data": {
      "text/html": [
       "<div>\n",
       "<style scoped>\n",
       "    .dataframe tbody tr th:only-of-type {\n",
       "        vertical-align: middle;\n",
       "    }\n",
       "\n",
       "    .dataframe tbody tr th {\n",
       "        vertical-align: top;\n",
       "    }\n",
       "\n",
       "    .dataframe thead th {\n",
       "        text-align: right;\n",
       "    }\n",
       "</style>\n",
       "<table border=\"1\" class=\"dataframe\">\n",
       "  <thead>\n",
       "    <tr style=\"text-align: right;\">\n",
       "      <th></th>\n",
       "      <th>Gillette</th>\n",
       "    </tr>\n",
       "  </thead>\n",
       "  <tbody>\n",
       "    <tr>\n",
       "      <th>3</th>\n",
       "      <td>E -1 min7</td>\n",
       "    </tr>\n",
       "    <tr>\n",
       "      <th>3</th>\n",
       "      <td>D -1</td>\n",
       "    </tr>\n",
       "  </tbody>\n",
       "</table>\n",
       "</div>"
      ],
      "text/plain": [
       "    Gillette\n",
       "3  E -1 min7\n",
       "3       D -1"
      ]
     },
     "execution_count": 57,
     "metadata": {},
     "output_type": "execute_result"
    }
   ],
   "source": [
    "df_teste.append(df_add_2)"
   ]
  },
  {
   "cell_type": "code",
   "execution_count": 58,
   "metadata": {},
   "outputs": [],
   "source": [
    "df_harmony = pd.DataFrame(columns=[song_title])\n",
    "\n",
    "part = root.findall('part')[0]\n",
    "measures = part.findall('measure')\n",
    "\n",
    "for measure in measures:\n",
    "    chords = measure.findall('harmony')\n",
    "    for chord in chords:\n",
    "        try:\n",
    "            note = chord.find('root/root-step').text\n",
    "\n",
    "        except AttributeError: # se não achar a nota \"root\" do acorde, não tem acorde\n",
    "            print('Measure: {}'.format(measure.attrib['number']), ' | ', 'No chords')\n",
    "            continue\n",
    "            \n",
    "        if note:\n",
    "            # alter é a alteração de um acorde (nem sempre existe): b ou #.\n",
    "            alter = chord.find('root/root-alter')#.text\n",
    "            \n",
    "            # kind é o tipo do acorde (nem sempre existe): pode ser com 7a, 9a, 13a, por aí vai...\n",
    "            kind = chord.find('kind')#.attrib['text']\n",
    "            \n",
    "            # bass é o baixo do acorde, quando diferente da tônica. Também nem sempre existe.\n",
    "            bass = chord.find('bass/bass-step')#.text\n",
    "            \n",
    "            # bass_alter é e alteração do baixo, podendo ser b ou #. Também nem sempre existe.\n",
    "            bass_alter = chord.find('bass/bass-alter')#.text\n",
    "            \n",
    "            attribs_dict = {'alter':alter, \n",
    "                            'kind':kind, \n",
    "                            'bass':bass, \n",
    "                            'bass_alter':bass_alter}\n",
    "\n",
    "            for key, value in attribs_dict.items():\n",
    "                if value is None:\n",
    "                    attribs_dict[key] = ''\n",
    "                elif key == 'kind':\n",
    "                    attribs_dict[key] = value.attrib['text']\n",
    "                else:\n",
    "                    attribs_dict[key] = value.text\n",
    "                    \n",
    "                    \n",
    "            measure_number = measure.attrib['number']\n",
    "            chord = note + attribs_dict['alter'] + attribs_dict['kind']\n",
    "            chord_bass = attribs_dict['bass']+attribs_dict['bass_alter']\n",
    "            complete_chord = chord + '/' + chord_bass\n",
    "            \n",
    "            if complete_chord.endswith('/'):\n",
    "                complete_chord = complete_chord[:-1]\n",
    "            \n",
    "            df_chord = pd.DataFrame(columns=[song_title], index=[measure_number], data=complete_chord)\n",
    "            df_harmony = df_harmony.append(df_chord)\n",
    "            \n",
    "df_harmony.index.names = ['Measure']"
   ]
  },
  {
   "cell_type": "code",
   "execution_count": 59,
   "metadata": {},
   "outputs": [
    {
     "data": {
      "text/plain": [
       "Index(['1', '5', '9', '11', '13', '14', '15', '17'], dtype='object', name='Measure')"
      ]
     },
     "execution_count": 59,
     "metadata": {},
     "output_type": "execute_result"
    }
   ],
   "source": [
    "df_harmony.index.unique()"
   ]
  },
  {
   "cell_type": "code",
   "execution_count": 60,
   "metadata": {},
   "outputs": [
    {
     "data": {
      "text/plain": [
       "13    4\n",
       "14    2\n",
       "11    1\n",
       "9     1\n",
       "15    1\n",
       "1     1\n",
       "17    1\n",
       "5     1\n",
       "Name: Measure, dtype: int64"
      ]
     },
     "execution_count": 60,
     "metadata": {},
     "output_type": "execute_result"
    }
   ],
   "source": [
    "df_harmony.index.value_counts()"
   ]
  },
  {
   "cell_type": "code",
   "execution_count": 61,
   "metadata": {},
   "outputs": [
    {
     "data": {
      "text/html": [
       "<div>\n",
       "<style scoped>\n",
       "    .dataframe tbody tr th:only-of-type {\n",
       "        vertical-align: middle;\n",
       "    }\n",
       "\n",
       "    .dataframe tbody tr th {\n",
       "        vertical-align: top;\n",
       "    }\n",
       "\n",
       "    .dataframe thead th {\n",
       "        text-align: right;\n",
       "    }\n",
       "</style>\n",
       "<table border=\"1\" class=\"dataframe\">\n",
       "  <thead>\n",
       "    <tr style=\"text-align: right;\">\n",
       "      <th></th>\n",
       "      <th>Gillette</th>\n",
       "    </tr>\n",
       "    <tr>\n",
       "      <th>Measure</th>\n",
       "      <th></th>\n",
       "    </tr>\n",
       "  </thead>\n",
       "  <tbody>\n",
       "    <tr>\n",
       "      <th>1</th>\n",
       "      <td>B-1</td>\n",
       "    </tr>\n",
       "    <tr>\n",
       "      <th>5</th>\n",
       "      <td>F7</td>\n",
       "    </tr>\n",
       "    <tr>\n",
       "      <th>9</th>\n",
       "      <td>B-1</td>\n",
       "    </tr>\n",
       "    <tr>\n",
       "      <th>11</th>\n",
       "      <td>E-1</td>\n",
       "    </tr>\n",
       "    <tr>\n",
       "      <th>13</th>\n",
       "      <td>F</td>\n",
       "    </tr>\n",
       "    <tr>\n",
       "      <th>13</th>\n",
       "      <td>Edim</td>\n",
       "    </tr>\n",
       "    <tr>\n",
       "      <th>13</th>\n",
       "      <td>Cmin6</td>\n",
       "    </tr>\n",
       "    <tr>\n",
       "      <th>13</th>\n",
       "      <td>Dmin7</td>\n",
       "    </tr>\n",
       "    <tr>\n",
       "      <th>14</th>\n",
       "      <td>Amin</td>\n",
       "    </tr>\n",
       "    <tr>\n",
       "      <th>14</th>\n",
       "      <td>F7</td>\n",
       "    </tr>\n",
       "    <tr>\n",
       "      <th>15</th>\n",
       "      <td>B-17</td>\n",
       "    </tr>\n",
       "    <tr>\n",
       "      <th>17</th>\n",
       "      <td>B-17</td>\n",
       "    </tr>\n",
       "  </tbody>\n",
       "</table>\n",
       "</div>"
      ],
      "text/plain": [
       "        Gillette\n",
       "Measure         \n",
       "1            B-1\n",
       "5             F7\n",
       "9            B-1\n",
       "11           E-1\n",
       "13             F\n",
       "13          Edim\n",
       "13         Cmin6\n",
       "13         Dmin7\n",
       "14          Amin\n",
       "14            F7\n",
       "15          B-17\n",
       "17          B-17"
      ]
     },
     "execution_count": 61,
     "metadata": {},
     "output_type": "execute_result"
    }
   ],
   "source": [
    "df_harmony"
   ]
  },
  {
   "cell_type": "markdown",
   "metadata": {},
   "source": [
    "Agora vamos procurar os momentos de mudança de acorde. Vasculhando os arquivos xml que temos em nosso corpus, pudemos ver que as informações sobre andamento (em bpm) e tipo de compasso encontram-se na seção do primeiro compasso. Segue:"
   ]
  },
  {
   "cell_type": "markdown",
   "metadata": {},
   "source": [
    "#### Tipo de compasso"
   ]
  },
  {
   "cell_type": "code",
   "execution_count": 62,
   "metadata": {},
   "outputs": [
    {
     "data": {
      "text/plain": [
       "'2/2'"
      ]
     },
     "execution_count": 62,
     "metadata": {},
     "output_type": "execute_result"
    }
   ],
   "source": [
    "first_measure = measures[0]\n",
    "cima = first_measure.find('attributes').find('time/beats').text\n",
    "baixo = first_measure.find('attributes').find('time/beat-type').text\n",
    "\n",
    "compasso = cima + '/' + baixo\n",
    "compasso"
   ]
  },
  {
   "cell_type": "markdown",
   "metadata": {},
   "source": [
    "#### Andamento"
   ]
  },
  {
   "cell_type": "code",
   "execution_count": 63,
   "metadata": {},
   "outputs": [
    {
     "data": {
      "text/plain": [
       "'300'"
      ]
     },
     "execution_count": 63,
     "metadata": {},
     "output_type": "execute_result"
    }
   ],
   "source": [
    "andamento = first_measure.find('sound').attrib['tempo']# + ' bpm'\n",
    "andamento\n",
    "# em bpm"
   ]
  },
  {
   "cell_type": "markdown",
   "metadata": {},
   "source": [
    "#### Sync: Acorde + minutagem"
   ]
  },
  {
   "cell_type": "code",
   "execution_count": 64,
   "metadata": {},
   "outputs": [
    {
     "data": {
      "text/html": [
       "<div>\n",
       "<style scoped>\n",
       "    .dataframe tbody tr th:only-of-type {\n",
       "        vertical-align: middle;\n",
       "    }\n",
       "\n",
       "    .dataframe tbody tr th {\n",
       "        vertical-align: top;\n",
       "    }\n",
       "\n",
       "    .dataframe thead th {\n",
       "        text-align: right;\n",
       "    }\n",
       "</style>\n",
       "<table border=\"1\" class=\"dataframe\">\n",
       "  <thead>\n",
       "    <tr style=\"text-align: right;\">\n",
       "      <th></th>\n",
       "      <th>Gillette</th>\n",
       "      <th>Time</th>\n",
       "    </tr>\n",
       "    <tr>\n",
       "      <th>Measure</th>\n",
       "      <th></th>\n",
       "      <th></th>\n",
       "    </tr>\n",
       "  </thead>\n",
       "  <tbody>\n",
       "    <tr>\n",
       "      <th>1</th>\n",
       "      <td>B-1</td>\n",
       "      <td></td>\n",
       "    </tr>\n",
       "    <tr>\n",
       "      <th>5</th>\n",
       "      <td>F7</td>\n",
       "      <td></td>\n",
       "    </tr>\n",
       "    <tr>\n",
       "      <th>9</th>\n",
       "      <td>B-1</td>\n",
       "      <td></td>\n",
       "    </tr>\n",
       "    <tr>\n",
       "      <th>11</th>\n",
       "      <td>E-1</td>\n",
       "      <td></td>\n",
       "    </tr>\n",
       "    <tr>\n",
       "      <th>13</th>\n",
       "      <td>F</td>\n",
       "      <td></td>\n",
       "    </tr>\n",
       "    <tr>\n",
       "      <th>13</th>\n",
       "      <td>Edim</td>\n",
       "      <td></td>\n",
       "    </tr>\n",
       "    <tr>\n",
       "      <th>13</th>\n",
       "      <td>Cmin6</td>\n",
       "      <td></td>\n",
       "    </tr>\n",
       "    <tr>\n",
       "      <th>13</th>\n",
       "      <td>Dmin7</td>\n",
       "      <td></td>\n",
       "    </tr>\n",
       "    <tr>\n",
       "      <th>14</th>\n",
       "      <td>Amin</td>\n",
       "      <td></td>\n",
       "    </tr>\n",
       "    <tr>\n",
       "      <th>14</th>\n",
       "      <td>F7</td>\n",
       "      <td></td>\n",
       "    </tr>\n",
       "    <tr>\n",
       "      <th>15</th>\n",
       "      <td>B-17</td>\n",
       "      <td></td>\n",
       "    </tr>\n",
       "    <tr>\n",
       "      <th>17</th>\n",
       "      <td>B-17</td>\n",
       "      <td></td>\n",
       "    </tr>\n",
       "  </tbody>\n",
       "</table>\n",
       "</div>"
      ],
      "text/plain": [
       "        Gillette Time\n",
       "Measure              \n",
       "1            B-1     \n",
       "5             F7     \n",
       "9            B-1     \n",
       "11           E-1     \n",
       "13             F     \n",
       "13          Edim     \n",
       "13         Cmin6     \n",
       "13         Dmin7     \n",
       "14          Amin     \n",
       "14            F7     \n",
       "15          B-17     \n",
       "17          B-17     "
      ]
     },
     "execution_count": 64,
     "metadata": {},
     "output_type": "execute_result"
    }
   ],
   "source": [
    "df_harmony['Time'] = ''\n",
    "df_harmony"
   ]
  },
  {
   "cell_type": "code",
   "execution_count": 65,
   "metadata": {},
   "outputs": [],
   "source": [
    "duracao_seminima = 60/int(andamento) # em segundos"
   ]
  },
  {
   "cell_type": "markdown",
   "metadata": {},
   "source": [
    "Fazendo caso a caso pra construir a generalização:"
   ]
  },
  {
   "cell_type": "code",
   "execution_count": 66,
   "metadata": {},
   "outputs": [],
   "source": [
    "# if int(baixo) == 2: # a unidade é a mínima\n",
    "#     segs_compasso = 2 * int(cima) * duracao_seminima\n",
    "    \n",
    "# elif int(baixo) == 4: # a unidade é a seminínima\n",
    "#     segs_compasso = 1 * int(cima) * duracao_seminima\n",
    "    \n",
    "# elif int(baixo) == 8: # a unidade é a colcheia\n",
    "#     segs_compasso = (1/2) * int(cima) * duracao_seminima\n",
    "    \n",
    "# elif int(baixo) == 16: # a unidade é a semicolcheia\n",
    "#     segs_compasso = (1/4) * int(cima) * duracao_seminima"
   ]
  },
  {
   "cell_type": "markdown",
   "metadata": {},
   "source": [
    "Checar se a generalização abaixo tá certa:"
   ]
  },
  {
   "cell_type": "code",
   "execution_count": 67,
   "metadata": {},
   "outputs": [],
   "source": [
    "segs_compasso = (4/int(baixo)) * int(cima) * duracao_seminima"
   ]
  },
  {
   "cell_type": "code",
   "execution_count": 68,
   "metadata": {},
   "outputs": [],
   "source": [
    "df_harmony.index = df_harmony.index.astype(int)"
   ]
  },
  {
   "cell_type": "code",
   "execution_count": 69,
   "metadata": {},
   "outputs": [
    {
     "name": "stdout",
     "output_type": "stream",
     "text": [
      "1 1\n",
      "5 1\n",
      "9 1\n",
      "11 1\n",
      "13 4\n",
      "14 2\n",
      "15 1\n",
      "17 1\n"
     ]
    }
   ],
   "source": [
    "for compasso in df_harmony.index.unique():\n",
    "    acordes = df_harmony.loc[[compasso]]\n",
    "    n_acordes = len(acordes)\n",
    "    print(compasso, n_acordes)\n",
    "    inicio_compasso = (int(compasso) - 1) * segs_compasso\n",
    "    \n",
    "    if n_acordes == 1:\n",
    "        tempos = inicio_compasso\n",
    "    \n",
    "    else:        \n",
    "        tempos = np.linspace(inicio_compasso,\n",
    "                             inicio_compasso + segs_compasso,\n",
    "                             n_acordes+1)\n",
    "        tempos = tempos[:-1]\n",
    "#     df_harmony.loc[compasso]['Time'] = tempos\n",
    "    \n",
    "    df_harmony.at[compasso, 'Time'] = tempos"
   ]
  },
  {
   "cell_type": "code",
   "execution_count": 70,
   "metadata": {
    "scrolled": true
   },
   "outputs": [
    {
     "data": {
      "text/html": [
       "<div>\n",
       "<style scoped>\n",
       "    .dataframe tbody tr th:only-of-type {\n",
       "        vertical-align: middle;\n",
       "    }\n",
       "\n",
       "    .dataframe tbody tr th {\n",
       "        vertical-align: top;\n",
       "    }\n",
       "\n",
       "    .dataframe thead th {\n",
       "        text-align: right;\n",
       "    }\n",
       "</style>\n",
       "<table border=\"1\" class=\"dataframe\">\n",
       "  <thead>\n",
       "    <tr style=\"text-align: right;\">\n",
       "      <th></th>\n",
       "      <th>Gillette</th>\n",
       "      <th>Time</th>\n",
       "    </tr>\n",
       "    <tr>\n",
       "      <th>Measure</th>\n",
       "      <th></th>\n",
       "      <th></th>\n",
       "    </tr>\n",
       "  </thead>\n",
       "  <tbody>\n",
       "    <tr>\n",
       "      <th>1</th>\n",
       "      <td>B-1</td>\n",
       "      <td>0</td>\n",
       "    </tr>\n",
       "    <tr>\n",
       "      <th>5</th>\n",
       "      <td>F7</td>\n",
       "      <td>3.2</td>\n",
       "    </tr>\n",
       "    <tr>\n",
       "      <th>9</th>\n",
       "      <td>B-1</td>\n",
       "      <td>6.4</td>\n",
       "    </tr>\n",
       "    <tr>\n",
       "      <th>11</th>\n",
       "      <td>E-1</td>\n",
       "      <td>8</td>\n",
       "    </tr>\n",
       "    <tr>\n",
       "      <th>13</th>\n",
       "      <td>F</td>\n",
       "      <td>9.6</td>\n",
       "    </tr>\n",
       "    <tr>\n",
       "      <th>13</th>\n",
       "      <td>Edim</td>\n",
       "      <td>9.8</td>\n",
       "    </tr>\n",
       "    <tr>\n",
       "      <th>13</th>\n",
       "      <td>Cmin6</td>\n",
       "      <td>10</td>\n",
       "    </tr>\n",
       "    <tr>\n",
       "      <th>13</th>\n",
       "      <td>Dmin7</td>\n",
       "      <td>10.2</td>\n",
       "    </tr>\n",
       "    <tr>\n",
       "      <th>14</th>\n",
       "      <td>Amin</td>\n",
       "      <td>10.4</td>\n",
       "    </tr>\n",
       "    <tr>\n",
       "      <th>14</th>\n",
       "      <td>F7</td>\n",
       "      <td>10.8</td>\n",
       "    </tr>\n",
       "    <tr>\n",
       "      <th>15</th>\n",
       "      <td>B-17</td>\n",
       "      <td>11.2</td>\n",
       "    </tr>\n",
       "    <tr>\n",
       "      <th>17</th>\n",
       "      <td>B-17</td>\n",
       "      <td>12.8</td>\n",
       "    </tr>\n",
       "  </tbody>\n",
       "</table>\n",
       "</div>"
      ],
      "text/plain": [
       "        Gillette  Time\n",
       "Measure               \n",
       "1            B-1     0\n",
       "5             F7   3.2\n",
       "9            B-1   6.4\n",
       "11           E-1     8\n",
       "13             F   9.6\n",
       "13          Edim   9.8\n",
       "13         Cmin6    10\n",
       "13         Dmin7  10.2\n",
       "14          Amin  10.4\n",
       "14            F7  10.8\n",
       "15          B-17  11.2\n",
       "17          B-17  12.8"
      ]
     },
     "execution_count": 70,
     "metadata": {},
     "output_type": "execute_result"
    }
   ],
   "source": [
    "df_harmony"
   ]
  },
  {
   "cell_type": "markdown",
   "metadata": {},
   "source": [
    "Botei pra tocar e as mudanças de acorde parecem estar fazendo sentido! \n",
    "Uma coisa que acabei de pensar é sobre os ritornellos... acho que desta maneira não os reconhecemos. Verificar depois."
   ]
  },
  {
   "cell_type": "markdown",
   "metadata": {},
   "source": [
    "## Lidando com ritornellos"
   ]
  },
  {
   "cell_type": "code",
   "execution_count": 81,
   "metadata": {},
   "outputs": [
    {
     "data": {
      "text/plain": [
       "'Gillette'"
      ]
     },
     "execution_count": 81,
     "metadata": {},
     "output_type": "execute_result"
    }
   ],
   "source": [
    "song_title"
   ]
  },
  {
   "cell_type": "code",
   "execution_count": 80,
   "metadata": {},
   "outputs": [
    {
     "name": "stdout",
     "output_type": "stream",
     "text": [
      "Ritornello 1 forward\n",
      "Compasso:  15 | Casa nº 1 (start)\n",
      "Ritornello 16 backward\n",
      "Compasso:  16 | Casa nº 1 (stop)\n",
      "Compasso:  17 | Casa nº 2 (start)\n",
      "Compasso:  17 | Casa nº 2 (discontinue)\n"
     ]
    }
   ],
   "source": [
    "part = root.find('part')\n",
    "measures = part.findall('measure')\n",
    "for measure in measures:\n",
    "    barras = measure.findall('barline')\n",
    "    for barra in barras:\n",
    "        \n",
    "        ritornellos = barra.findall('repeat')\n",
    "        for rito in ritornellos:\n",
    "            print('Ritornello', measure.attrib['number'], rito.attrib['direction'])\n",
    "#             print(rito)\n",
    "            \n",
    "        casas = barra.findall('ending')\n",
    "        for casa in casas:\n",
    "            print('Compasso: ',\n",
    "                    measure.attrib['number'], '|',\n",
    "                    'Casa nº', casa.attrib['number'], '({})'.format(casa.attrib['type']))\n",
    "\n",
    "            \n"
   ]
  },
  {
   "cell_type": "markdown",
   "metadata": {},
   "source": [
    "#### Casas\n",
    "O que descobri: elas vêm como um \"ending\" dentro de um \"barline\". O interessante é que, para construir uma casa, precisamos de duas estruturas desse tipo: uma pra começar a casa e outra pra terminar. Então, por exemplo, se uma casa começa e termina num mesmo compasso, teremos dois \"barlines\" com \"ending\" dentro; um com \"type\" igual a \"start\" e outro com \"type\" igual a \"stop\" ou \"descontinue\" (o que vi até agora)."
   ]
  },
  {
   "cell_type": "code",
   "execution_count": 89,
   "metadata": {},
   "outputs": [
    {
     "name": "stdout",
     "output_type": "stream",
     "text": [
      "Compasso:  15 | Casa nº 1 (start)\n",
      "Compasso:  16 | Casa nº 1 (stop)\n",
      "Compasso:  17 | Casa nº 2 (start)\n",
      "Compasso:  17 | Casa nº 2 (discontinue)\n"
     ]
    }
   ],
   "source": [
    "part = root.find('part')\n",
    "measures = part.findall('measure')\n",
    "\n",
    "# lista que conterá os compassos que têm ritornellos backward\n",
    "ritos_back = []\n",
    "\n",
    "# lista que conterá os compassos que têm ritornellos forward\n",
    "ritos_forw = []\n",
    "for measure in measures:\n",
    "    barras = measure.findall('barline')\n",
    "    for barra in barras:\n",
    "        \n",
    "        ritornellos = barra.findall('repeat')\n",
    "        \n",
    "        for rito in ritornellos:\n",
    "            if rito.attrib['direction'] == 'backward':\n",
    "                ritos_back.append(measure.attrib['number'])\n",
    "            elif rito.attrib['direction'] == 'forward':\n",
    "                ritos_forw.append(measure.attrib['number'])\n",
    "#             print('Ritornello', measure.attrib['number'], rito.attrib['direction'])\n",
    "#             print(rito)\n",
    "\n",
    "            \n",
    "        casas = barra.findall('ending')\n",
    "        for casa in casas:\n",
    "            print('Compasso: ',\n",
    "                    measure.attrib['number'], '|',\n",
    "                    'Casa nº', casa.attrib['number'], '({})'.format(casa.attrib['type']))\n",
    "\n",
    "            \n"
   ]
  },
  {
   "cell_type": "code",
   "execution_count": 90,
   "metadata": {},
   "outputs": [
    {
     "data": {
      "text/plain": [
       "['16']"
      ]
     },
     "execution_count": 90,
     "metadata": {},
     "output_type": "execute_result"
    }
   ],
   "source": [
    "ritos_back"
   ]
  },
  {
   "cell_type": "code",
   "execution_count": 91,
   "metadata": {},
   "outputs": [
    {
     "data": {
      "text/plain": [
       "['1']"
      ]
     },
     "execution_count": 91,
     "metadata": {},
     "output_type": "execute_result"
    }
   ],
   "source": [
    "ritos_forw"
   ]
  },
  {
   "cell_type": "markdown",
   "metadata": {},
   "source": [
    "### Numeração das casas\n",
    "Aqui vamos checar como os números das casas aparecem em nosso corpus. (ex.: pode acontecer de um mesmo compasso representar as casas 1, 2 e 3, como observamos na música It's on.)"
   ]
  },
  {
   "cell_type": "code",
   "execution_count": 105,
   "metadata": {},
   "outputs": [
    {
     "name": "stdout",
     "output_type": "stream",
     "text": [
      "Cold Duck B with bass.xml\n",
      "Cold Duck B with bass.xml\n",
      "Humanism.xml\n",
      "Humanism.xml\n",
      "Humanism.xml\n",
      "Humanism.xml\n",
      "Humanism.xml\n",
      "lhcd.xml\n",
      "lhcd.xml\n",
      "Dangerous Curves B.xml\n",
      "Dangerous Curves B.xml\n",
      "Dangerous Curves B.xml\n",
      "PCH.xml\n",
      "Cold duck Lead.xml\n",
      "Cold duck Lead.xml\n",
      "ReyJorge.xml\n",
      "ReyJorge.xml\n",
      "ReyJorge.xml\n",
      "ReyJorge.xml\n",
      "HustlerTheII.xml\n",
      "HustlerTheII.xml\n",
      "OneShiningSoul.xml\n",
      "OneShiningSoul.xml\n",
      "Dangerous Curves A.xml\n",
      "Dangerous Curves A.xml\n",
      "Dangerous Curves A.xml\n"
     ]
    }
   ],
   "source": [
    "songs = os.listdir('corpus/xml')\n",
    "ending_numbers = []\n",
    "for song in songs:\n",
    "#     print(song)\n",
    "    tree = ET.parse('corpus/xml/{}'.format(song))\n",
    "    root = tree.getroot()\n",
    "    part = root.find('part')\n",
    "    measures = part.findall('measure')\n",
    "    for measure in measures:\n",
    "        barras = measure.findall('barline')\n",
    "        for barra in barras:\n",
    "            casas = barra.findall('ending')\n",
    "            for casa in casas:\n",
    "                ending_numbers.append(casa.attrib['number'])\n",
    "                if casa.attrib['number'] == '':\n",
    "                    # printando casas com numeração vazia pra investigar\n",
    "                    print(song)\n",
    "#                 print(song)\n"
   ]
  },
  {
   "cell_type": "code",
   "execution_count": 103,
   "metadata": {},
   "outputs": [],
   "source": [
    "from collections import Counter"
   ]
  },
  {
   "cell_type": "code",
   "execution_count": 104,
   "metadata": {},
   "outputs": [
    {
     "data": {
      "text/plain": [
       "Counter({'1': 444,\n",
       "         '2': 433,\n",
       "         '1, 2, 3': 8,\n",
       "         '4': 13,\n",
       "         '': 26,\n",
       "         '1, 2, 3, 4': 6,\n",
       "         '3': 21,\n",
       "         '5': 2,\n",
       "         '1, 2, 3, 4, 5': 6,\n",
       "         '1, 2': 4,\n",
       "         '7': 4,\n",
       "         '1, 3, 5': 2,\n",
       "         '2, 4, 6': 2,\n",
       "         '6': 2})"
      ]
     },
     "execution_count": 104,
     "metadata": {},
     "output_type": "execute_result"
    }
   ],
   "source": [
    "Counter(ending_numbers)"
   ]
  },
  {
   "cell_type": "markdown",
   "metadata": {},
   "source": [
    "Vemos acima que é utilizado com alguma frequência o recurso de atribuir a uma casa vários números diferentes, i.e., quando uma mesma casa aparece como casas 1 e 2, por exemplo. Isso adiciona alguns desafios à nossa sincronização."
   ]
  },
  {
   "cell_type": "markdown",
   "metadata": {},
   "source": [
    "Outro lance interessante que apareceu foram casas com numeração vazia. Preciso investigar isso melhor..."
   ]
  },
  {
   "cell_type": "markdown",
   "metadata": {},
   "source": [
    "Já entendi tudoooo! Casa com número vazio é quando não tem casa. Rs. Apenas o ritornello. Repete exatamente igual o que passou. Show."
   ]
  },
  {
   "cell_type": "code",
   "execution_count": null,
   "metadata": {},
   "outputs": [],
   "source": []
  }
 ],
 "metadata": {
  "kernelspec": {
   "display_name": "Python 3",
   "language": "python",
   "name": "python3"
  },
  "language_info": {
   "codemirror_mode": {
    "name": "ipython",
    "version": 3
   },
   "file_extension": ".py",
   "mimetype": "text/x-python",
   "name": "python",
   "nbconvert_exporter": "python",
   "pygments_lexer": "ipython3",
   "version": "3.8.10"
  }
 },
 "nbformat": 4,
 "nbformat_minor": 4
}
