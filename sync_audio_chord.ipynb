{
 "cells": [
  {
   "cell_type": "markdown",
   "metadata": {},
   "source": [
    "Aqui, começaremos a atacar o problema de sincronizar nossos arquivos de audio com os acordes escritos. Primeiramente, tentaremos, para uma dada música, determinar os acordes por compasso. Faremos isso tomando como base os arquivos em formato xml."
   ]
  },
  {
   "cell_type": "code",
   "execution_count": 62,
   "metadata": {},
   "outputs": [],
   "source": [
    "import xml.etree.ElementTree as ET\n",
    "tree = ET.parse('corpus/xml/Ballad.xml')\n",
    "root = tree.getroot()"
   ]
  },
  {
   "cell_type": "code",
   "execution_count": 63,
   "metadata": {},
   "outputs": [
    {
     "name": "stdout",
     "output_type": "stream",
     "text": [
      "Measure: 3 | Chord:  E -1 min7 /  \n",
      "Measure: 3 | Chord:  D -1  /  \n",
      "Measure: 4 | Chord:  D -1  /  \n",
      "Measure: 4 | Chord:  A -1  /  \n",
      "Measure: 5 | Chord:  E -1 min7 /  \n",
      "Measure: 5 | Chord:  D -1  / E -1\n",
      "Measure: 6 | Chord:  D -1  / E -1\n",
      "Measure: 6 | Chord:  A -1  / E -1\n",
      "Measure: 7 | Chord:  E -1 min7 /  \n",
      "Measure: 7 | Chord:  D -1  /  \n",
      "Measure: 8 | Chord:  B   / E -1\n",
      "Measure: 8 | Chord:  D -1 7 /  \n",
      "Measure: 9 | Chord:  G -1 min7 /  \n",
      "Measure: 10 | Chord:  E  min7 /  \n",
      "Measure: 10 | Chord:  F 1  /  \n",
      "Measure: 11 | Chord:  B  min7 /  \n",
      "Measure: 12 | Chord:  G -1  /  \n",
      "Measure: 12 | Chord:  B  7 /  \n",
      "Measure: 13 | Chord:  E  maj7 /  \n",
      "Measure: 14 | Chord:  A -1  /  \n",
      "Measure: 14 | Chord:  A -1  / B -1\n",
      "Measure: 15 | Chord:  E -1 min7 /  \n",
      "Measure: 15 | Chord:  D -1  /  \n",
      "Measure: 16 | Chord:  F  min7 /  \n",
      "Measure: 16 | Chord:  B -1 7 /  \n",
      "Measure: 17 | Chord:  G  min7 /  \n",
      "Measure: 18 | Chord:  A -1 min7 /  \n",
      "Measure: 18 | Chord:  A -1  /  \n",
      "Measure: 19 | Chord:  G -1 7 /  \n",
      "Measure: 20 | Chord:  A -1  / B -1\n",
      "Measure: 20 | Chord:  G  min /  \n",
      "Measure: 20 | Chord:  A -1  /  \n",
      "Measure: 21 | Chord:  A -1  /  \n",
      "Measure: 21 | Chord:  G  min /  \n",
      "Measure: 21 | Chord:  A -1  /  \n",
      "Measure: 22 | Chord:  A -1  /  \n",
      "Measure: 22 | Chord:  G  min /  \n",
      "Measure: 23 | Chord:  A -1  /  \n",
      "Measure: 24 | Chord:  E -1 min7 /  \n",
      "Measure: 25 | Chord:  D -1  /  \n",
      "Measure: 26 | Chord:  E -1  /  \n",
      "Measure: 27 | Chord:  E -1 7 /  \n"
     ]
    }
   ],
   "source": [
    "part = root.findall('part')[0]\n",
    "measures = part.findall('measure')\n",
    "for measure in measures:\n",
    "    chords = measure.findall('harmony')\n",
    "    for chord in chords:\n",
    "        try:\n",
    "            note = chord.find('root/root-step').text\n",
    "\n",
    "        except AttributeError: # se não achar a nota \"root\" do acorde, não tem acorde\n",
    "            print('Measure: {}'.format(measure.attrib['number']), ' | ', 'No chords')\n",
    "            continue\n",
    "            \n",
    "        if note: \n",
    "            # alter é a alteração de um acorde (nem sempre existe): b ou #.\n",
    "            alter = chord.find('root/root-alter')#.text\n",
    "            \n",
    "            # kind é o tipo do acorde (nem sempre existe): pode ser com 7a, 9a, 13a, por aí vai...\n",
    "            kind = chord.find('kind')#.attrib['text']\n",
    "            \n",
    "            # bass é o baixo do acorde, quando diferente da tônica. Também nem sempre existe.\n",
    "            bass = chord.find('bass/bass-step')#.text\n",
    "            \n",
    "            # bass_alter é e alteração do baixo, podendo ser b ou #. Também nem sempre existe.\n",
    "            bass_alter = chord.find('bass/bass-alter')#.text\n",
    "            \n",
    "            attribs_dict = {'alter':alter, \n",
    "                            'kind':kind, \n",
    "                            'bass':bass, \n",
    "                            'bass_alter':bass_alter}\n",
    "            \n",
    "#             print(attribs_dict)\n",
    "\n",
    "            for key, value in attribs_dict.items():\n",
    "                if value is None:\n",
    "                    attribs_dict[key] = ''\n",
    "                elif key == 'kind':\n",
    "                    attribs_dict[key] = value.attrib['text']\n",
    "                else:\n",
    "                    attribs_dict[key] = value.text\n",
    "                    \n",
    "            print('Measure: {}'.format(measure.attrib['number']), '|', 'Chord: ', note, \n",
    "                  attribs_dict['alter'], attribs_dict['kind'],'/',attribs_dict['bass'],attribs_dict['bass_alter'])\n",
    "                \n",
    "            "
   ]
  },
  {
   "cell_type": "markdown",
   "metadata": {},
   "source": [
    "Comparando com a partitura aberta no musescore parece fazer sentido, só preciso conseguir fazer com que mostre também os compassos em que não tem acorde (no caso da música que estamos usando como exemplo, os compassos 1 e 2)."
   ]
  },
  {
   "cell_type": "code",
   "execution_count": null,
   "metadata": {},
   "outputs": [],
   "source": []
  }
 ],
 "metadata": {
  "kernelspec": {
   "display_name": "Python 3",
   "language": "python",
   "name": "python3"
  },
  "language_info": {
   "codemirror_mode": {
    "name": "ipython",
    "version": 3
   },
   "file_extension": ".py",
   "mimetype": "text/x-python",
   "name": "python",
   "nbconvert_exporter": "python",
   "pygments_lexer": "ipython3",
   "version": "3.8.10"
  }
 },
 "nbformat": 4,
 "nbformat_minor": 4
}
