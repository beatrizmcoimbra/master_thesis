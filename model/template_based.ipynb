{
 "cells": [
  {
   "cell_type": "markdown",
   "metadata": {},
   "source": [
    "## Basic approach"
   ]
  },
  {
   "cell_type": "markdown",
   "metadata": {},
   "source": [
    "Aqui, implementaremos modelos baseados em regras para reconhecer os acordes. Os modelos encontram-se mais profundamente explicados no livro $\\textit{Fundamentals of Music Processing Audio}$."
   ]
  },
  {
   "cell_type": "code",
   "execution_count": 24,
   "metadata": {},
   "outputs": [],
   "source": [
    "import os\n",
    "import pandas as pd\n",
    "import IPython.display as ipd\n",
    "import librosa\n",
    "import librosa.display\n",
    "import numpy as np\n",
    "import seaborn as sns\n",
    "from matplotlib import pyplot as plt\n",
    "from collections import Counter\n",
    "import copy\n",
    "import glob"
   ]
  },
  {
   "cell_type": "code",
   "execution_count": 2,
   "metadata": {},
   "outputs": [
    {
     "data": {
      "text/plain": [
       "[0, 1, 2, 3, 4, 5, 6, 7, 8, 9, 10, 11, 0, 1, 2, 3, 4, 5, 6, 7, 8, 9, 10, 11]"
      ]
     },
     "execution_count": 2,
     "metadata": {},
     "output_type": "execute_result"
    }
   ],
   "source": [
    "semitons = list(range(0,12))\n",
    "semitons.extend(list(range(0,12)))\n",
    "semitons"
   ]
  },
  {
   "cell_type": "code",
   "execution_count": 3,
   "metadata": {},
   "outputs": [
    {
     "data": {
      "text/plain": [
       "['C', 'Db', 'D', 'Eb', 'E', 'F', 'Gb', 'G', 'Ab', 'A', 'Bb', 'B']"
      ]
     },
     "execution_count": 3,
     "metadata": {},
     "output_type": "execute_result"
    }
   ],
   "source": [
    "notes = ['C','Db','D','Eb','E','F','Gb','G','Ab','A','Bb','B']\n",
    "# notes = ['C','C#','D','D#','E','F','F#','G','G#','A','A#','B']\n",
    "notes"
   ]
  },
  {
   "cell_type": "markdown",
   "metadata": {},
   "source": [
    "#### Nomes dos acordes"
   ]
  },
  {
   "cell_type": "code",
   "execution_count": 4,
   "metadata": {},
   "outputs": [],
   "source": [
    "acordes_7 = [note + '7' for note in notes]\n",
    "acordes_dim = [note + 'dim' for note in notes]\n",
    "acordes_maj7 = [note + 'maj7' for note in notes]\n",
    "acordes_meio_dim = [note + 'meio_dim' for note in notes]\n",
    "acordes_min7 = [note + 'min7' for note in notes]"
   ]
  },
  {
   "cell_type": "markdown",
   "metadata": {},
   "source": [
    "#### Definindo os chromas \"perfeitos\" de cada acorde"
   ]
  },
  {
   "cell_type": "markdown",
   "metadata": {},
   "source": [
    "Acordes <font color ='red'> maiores </font> com sétima <font color ='red'> maior </font> (maj7)"
   ]
  },
  {
   "cell_type": "code",
   "execution_count": 5,
   "metadata": {},
   "outputs": [],
   "source": [
    "dict_maj7 = {}\n",
    "for i in list(range(12)):\n",
    "    \n",
    "    # definindo cada nota do acorde a partir dos intervalos, em semitons\n",
    "    fundamental = 0 + i\n",
    "    terca = fundamental + 4\n",
    "    quinta = fundamental + 7\n",
    "    setima = fundamental + 11\n",
    "\n",
    "    # mapeando cada nota do acorde a partir da sua distância (em semitons) da nota dó\n",
    "    i_fund = semitons[fundamental]\n",
    "    i_terca = semitons[terca]\n",
    "    i_quinta = semitons[quinta]\n",
    "    i_setima = semitons[setima]\n",
    "\n",
    "\n",
    "    acorde_list = [i_fund, \n",
    "                   i_terca, \n",
    "                   i_quinta, \n",
    "                   i_setima]\n",
    "\n",
    "    # definindo o chroma\n",
    "    acorde_chroma = np.zeros(12)\n",
    "    acorde_chroma[acorde_list] = 1\n",
    "    \n",
    "\n",
    "    chord = acordes_maj7[i]\n",
    "    dict_maj7[chord] = acorde_chroma"
   ]
  },
  {
   "cell_type": "code",
   "execution_count": 6,
   "metadata": {},
   "outputs": [
    {
     "data": {
      "text/plain": [
       "{'Cmaj7': array([1., 0., 0., 0., 1., 0., 0., 1., 0., 0., 0., 1.]),\n",
       " 'Dbmaj7': array([1., 1., 0., 0., 0., 1., 0., 0., 1., 0., 0., 0.]),\n",
       " 'Dmaj7': array([0., 1., 1., 0., 0., 0., 1., 0., 0., 1., 0., 0.]),\n",
       " 'Ebmaj7': array([0., 0., 1., 1., 0., 0., 0., 1., 0., 0., 1., 0.]),\n",
       " 'Emaj7': array([0., 0., 0., 1., 1., 0., 0., 0., 1., 0., 0., 1.]),\n",
       " 'Fmaj7': array([1., 0., 0., 0., 1., 1., 0., 0., 0., 1., 0., 0.]),\n",
       " 'Gbmaj7': array([0., 1., 0., 0., 0., 1., 1., 0., 0., 0., 1., 0.]),\n",
       " 'Gmaj7': array([0., 0., 1., 0., 0., 0., 1., 1., 0., 0., 0., 1.]),\n",
       " 'Abmaj7': array([1., 0., 0., 1., 0., 0., 0., 1., 1., 0., 0., 0.]),\n",
       " 'Amaj7': array([0., 1., 0., 0., 1., 0., 0., 0., 1., 1., 0., 0.]),\n",
       " 'Bbmaj7': array([0., 0., 1., 0., 0., 1., 0., 0., 0., 1., 1., 0.]),\n",
       " 'Bmaj7': array([0., 0., 0., 1., 0., 0., 1., 0., 0., 0., 1., 1.])}"
      ]
     },
     "execution_count": 6,
     "metadata": {},
     "output_type": "execute_result"
    }
   ],
   "source": [
    "dict_maj7"
   ]
  },
  {
   "cell_type": "markdown",
   "metadata": {},
   "source": [
    "Acordes <font color ='red'> maiores </font> com sétima <font color ='blue'> menor </font> (7)"
   ]
  },
  {
   "cell_type": "code",
   "execution_count": 7,
   "metadata": {},
   "outputs": [],
   "source": [
    "dict_7 = {}\n",
    "for i in list(range(12)):\n",
    "    \n",
    "    # definindo cada nota do acorde a partir dos intervalos, em semitons\n",
    "    fundamental = 0 + i\n",
    "    terca = fundamental + 4\n",
    "    quinta = fundamental + 7\n",
    "    setima = fundamental + 10\n",
    "\n",
    "    # mapeando cada nota do acorde a partir da sua distância (em semitons) da nota dó\n",
    "    i_fund = semitons[fundamental]\n",
    "    i_terca = semitons[terca]\n",
    "    i_quinta = semitons[quinta]\n",
    "    i_setima = semitons[setima]\n",
    "\n",
    "\n",
    "    acorde_list = [i_fund, \n",
    "                   i_terca, \n",
    "                   i_quinta, \n",
    "                   i_setima]\n",
    "\n",
    "    # definindo o chroma\n",
    "    acorde_chroma = np.zeros(12)\n",
    "    acorde_chroma[acorde_list] = 1\n",
    "    \n",
    "\n",
    "    chord = acordes_7[i]\n",
    "    dict_7[chord] = acorde_chroma"
   ]
  },
  {
   "cell_type": "code",
   "execution_count": 8,
   "metadata": {},
   "outputs": [
    {
     "data": {
      "text/plain": [
       "{'C7': array([1., 0., 0., 0., 1., 0., 0., 1., 0., 0., 1., 0.]),\n",
       " 'Db7': array([0., 1., 0., 0., 0., 1., 0., 0., 1., 0., 0., 1.]),\n",
       " 'D7': array([1., 0., 1., 0., 0., 0., 1., 0., 0., 1., 0., 0.]),\n",
       " 'Eb7': array([0., 1., 0., 1., 0., 0., 0., 1., 0., 0., 1., 0.]),\n",
       " 'E7': array([0., 0., 1., 0., 1., 0., 0., 0., 1., 0., 0., 1.]),\n",
       " 'F7': array([1., 0., 0., 1., 0., 1., 0., 0., 0., 1., 0., 0.]),\n",
       " 'Gb7': array([0., 1., 0., 0., 1., 0., 1., 0., 0., 0., 1., 0.]),\n",
       " 'G7': array([0., 0., 1., 0., 0., 1., 0., 1., 0., 0., 0., 1.]),\n",
       " 'Ab7': array([1., 0., 0., 1., 0., 0., 1., 0., 1., 0., 0., 0.]),\n",
       " 'A7': array([0., 1., 0., 0., 1., 0., 0., 1., 0., 1., 0., 0.]),\n",
       " 'Bb7': array([0., 0., 1., 0., 0., 1., 0., 0., 1., 0., 1., 0.]),\n",
       " 'B7': array([0., 0., 0., 1., 0., 0., 1., 0., 0., 1., 0., 1.])}"
      ]
     },
     "execution_count": 8,
     "metadata": {},
     "output_type": "execute_result"
    }
   ],
   "source": [
    "dict_7"
   ]
  },
  {
   "cell_type": "markdown",
   "metadata": {},
   "source": [
    "Acordes <font color ='blue'> menores </font> com sétima <font color ='blue'> menor </font> (min7)"
   ]
  },
  {
   "cell_type": "code",
   "execution_count": 9,
   "metadata": {},
   "outputs": [],
   "source": [
    "dict_min7 = {}\n",
    "for i in list(range(12)):\n",
    "    \n",
    "    # definindo cada nota do acorde a partir dos intervalos, em semitons\n",
    "    fundamental = 0 + i\n",
    "    terca = fundamental + 3\n",
    "    quinta = fundamental + 7\n",
    "    setima = fundamental + 10\n",
    "\n",
    "    # mapeando cada nota do acorde a partir da sua distância (em semitons) da nota dó\n",
    "    i_fund = semitons[fundamental]\n",
    "    i_terca = semitons[terca]\n",
    "    i_quinta = semitons[quinta]\n",
    "    i_setima = semitons[setima]\n",
    "\n",
    "\n",
    "    acorde_list = [i_fund, \n",
    "                   i_terca, \n",
    "                   i_quinta, \n",
    "                   i_setima]\n",
    "\n",
    "    # definindo o chroma\n",
    "    acorde_chroma = np.zeros(12)\n",
    "    acorde_chroma[acorde_list] = 1\n",
    "    \n",
    "\n",
    "    chord = acordes_min7[i]\n",
    "    dict_min7[chord] = acorde_chroma"
   ]
  },
  {
   "cell_type": "code",
   "execution_count": 10,
   "metadata": {},
   "outputs": [
    {
     "data": {
      "text/plain": [
       "{'Cmin7': array([1., 0., 0., 1., 0., 0., 0., 1., 0., 0., 1., 0.]),\n",
       " 'Dbmin7': array([0., 1., 0., 0., 1., 0., 0., 0., 1., 0., 0., 1.]),\n",
       " 'Dmin7': array([1., 0., 1., 0., 0., 1., 0., 0., 0., 1., 0., 0.]),\n",
       " 'Ebmin7': array([0., 1., 0., 1., 0., 0., 1., 0., 0., 0., 1., 0.]),\n",
       " 'Emin7': array([0., 0., 1., 0., 1., 0., 0., 1., 0., 0., 0., 1.]),\n",
       " 'Fmin7': array([1., 0., 0., 1., 0., 1., 0., 0., 1., 0., 0., 0.]),\n",
       " 'Gbmin7': array([0., 1., 0., 0., 1., 0., 1., 0., 0., 1., 0., 0.]),\n",
       " 'Gmin7': array([0., 0., 1., 0., 0., 1., 0., 1., 0., 0., 1., 0.]),\n",
       " 'Abmin7': array([0., 0., 0., 1., 0., 0., 1., 0., 1., 0., 0., 1.]),\n",
       " 'Amin7': array([1., 0., 0., 0., 1., 0., 0., 1., 0., 1., 0., 0.]),\n",
       " 'Bbmin7': array([0., 1., 0., 0., 0., 1., 0., 0., 1., 0., 1., 0.]),\n",
       " 'Bmin7': array([0., 0., 1., 0., 0., 0., 1., 0., 0., 1., 0., 1.])}"
      ]
     },
     "execution_count": 10,
     "metadata": {},
     "output_type": "execute_result"
    }
   ],
   "source": [
    "dict_min7"
   ]
  },
  {
   "cell_type": "markdown",
   "metadata": {},
   "source": [
    "Acordes <font color ='green'> diminutos </font>"
   ]
  },
  {
   "cell_type": "code",
   "execution_count": 11,
   "metadata": {},
   "outputs": [],
   "source": [
    "dict_dim = {}\n",
    "for i in list(range(12)):\n",
    "    \n",
    "    # definindo cada nota do acorde a partir dos intervalos, em semitons\n",
    "    fundamental = 0 + i\n",
    "    terca = fundamental + 3\n",
    "    quinta = fundamental + 6\n",
    "    setima = fundamental + 9\n",
    "\n",
    "    # mapeando cada nota do acorde a partir da sua distância (em semitons) da nota dó\n",
    "    i_fund = semitons[fundamental]\n",
    "    i_terca = semitons[terca]\n",
    "    i_quinta = semitons[quinta]\n",
    "    i_setima = semitons[setima]\n",
    "\n",
    "\n",
    "    acorde_list = [i_fund, \n",
    "                   i_terca, \n",
    "                   i_quinta, \n",
    "                   i_setima]\n",
    "\n",
    "    # definindo o chroma\n",
    "    acorde_chroma = np.zeros(12)\n",
    "    acorde_chroma[acorde_list] = 1\n",
    "    \n",
    "\n",
    "    chord = acordes_dim[i]\n",
    "    dict_dim[chord] = acorde_chroma"
   ]
  },
  {
   "cell_type": "code",
   "execution_count": 12,
   "metadata": {},
   "outputs": [
    {
     "data": {
      "text/plain": [
       "{'Cdim': array([1., 0., 0., 1., 0., 0., 1., 0., 0., 1., 0., 0.]),\n",
       " 'Dbdim': array([0., 1., 0., 0., 1., 0., 0., 1., 0., 0., 1., 0.]),\n",
       " 'Ddim': array([0., 0., 1., 0., 0., 1., 0., 0., 1., 0., 0., 1.]),\n",
       " 'Ebdim': array([1., 0., 0., 1., 0., 0., 1., 0., 0., 1., 0., 0.]),\n",
       " 'Edim': array([0., 1., 0., 0., 1., 0., 0., 1., 0., 0., 1., 0.]),\n",
       " 'Fdim': array([0., 0., 1., 0., 0., 1., 0., 0., 1., 0., 0., 1.]),\n",
       " 'Gbdim': array([1., 0., 0., 1., 0., 0., 1., 0., 0., 1., 0., 0.]),\n",
       " 'Gdim': array([0., 1., 0., 0., 1., 0., 0., 1., 0., 0., 1., 0.]),\n",
       " 'Abdim': array([0., 0., 1., 0., 0., 1., 0., 0., 1., 0., 0., 1.]),\n",
       " 'Adim': array([1., 0., 0., 1., 0., 0., 1., 0., 0., 1., 0., 0.]),\n",
       " 'Bbdim': array([0., 1., 0., 0., 1., 0., 0., 1., 0., 0., 1., 0.]),\n",
       " 'Bdim': array([0., 0., 1., 0., 0., 1., 0., 0., 1., 0., 0., 1.])}"
      ]
     },
     "execution_count": 12,
     "metadata": {},
     "output_type": "execute_result"
    }
   ],
   "source": [
    "dict_dim"
   ]
  },
  {
   "cell_type": "markdown",
   "metadata": {},
   "source": [
    "Acordes <font color ='green'> meio diminutos </font>"
   ]
  },
  {
   "cell_type": "code",
   "execution_count": 13,
   "metadata": {},
   "outputs": [],
   "source": [
    "dict_meio_dim = {}\n",
    "for i in list(range(12)):\n",
    "    \n",
    "    # definindo cada nota do acorde a partir dos intervalos, em semitons\n",
    "    fundamental = 0 + i\n",
    "    terca = fundamental + 3\n",
    "    quinta = fundamental + 6\n",
    "    setima = fundamental + 10\n",
    "\n",
    "    # mapeando cada nota do acorde a partir da sua distância (em semitons) da nota dó\n",
    "    i_fund = semitons[fundamental]\n",
    "    i_terca = semitons[terca]\n",
    "    i_quinta = semitons[quinta]\n",
    "    i_setima = semitons[setima]\n",
    "\n",
    "\n",
    "    acorde_list = [i_fund, \n",
    "                   i_terca, \n",
    "                   i_quinta, \n",
    "                   i_setima]\n",
    "\n",
    "    # definindo o chroma\n",
    "    acorde_chroma = np.zeros(12)\n",
    "    acorde_chroma[acorde_list] = 1\n",
    "    \n",
    "\n",
    "    chord = acordes_meio_dim[i]\n",
    "    dict_meio_dim[chord] = acorde_chroma"
   ]
  },
  {
   "cell_type": "code",
   "execution_count": 14,
   "metadata": {},
   "outputs": [
    {
     "data": {
      "text/plain": [
       "{'Cmeio_dim': array([1., 0., 0., 1., 0., 0., 1., 0., 0., 0., 1., 0.]),\n",
       " 'Dbmeio_dim': array([0., 1., 0., 0., 1., 0., 0., 1., 0., 0., 0., 1.]),\n",
       " 'Dmeio_dim': array([1., 0., 1., 0., 0., 1., 0., 0., 1., 0., 0., 0.]),\n",
       " 'Ebmeio_dim': array([0., 1., 0., 1., 0., 0., 1., 0., 0., 1., 0., 0.]),\n",
       " 'Emeio_dim': array([0., 0., 1., 0., 1., 0., 0., 1., 0., 0., 1., 0.]),\n",
       " 'Fmeio_dim': array([0., 0., 0., 1., 0., 1., 0., 0., 1., 0., 0., 1.]),\n",
       " 'Gbmeio_dim': array([1., 0., 0., 0., 1., 0., 1., 0., 0., 1., 0., 0.]),\n",
       " 'Gmeio_dim': array([0., 1., 0., 0., 0., 1., 0., 1., 0., 0., 1., 0.]),\n",
       " 'Abmeio_dim': array([0., 0., 1., 0., 0., 0., 1., 0., 1., 0., 0., 1.]),\n",
       " 'Ameio_dim': array([1., 0., 0., 1., 0., 0., 0., 1., 0., 1., 0., 0.]),\n",
       " 'Bbmeio_dim': array([0., 1., 0., 0., 1., 0., 0., 0., 1., 0., 1., 0.]),\n",
       " 'Bmeio_dim': array([0., 0., 1., 0., 0., 1., 0., 0., 0., 1., 0., 1.])}"
      ]
     },
     "execution_count": 14,
     "metadata": {},
     "output_type": "execute_result"
    }
   ],
   "source": [
    "dict_meio_dim"
   ]
  },
  {
   "cell_type": "code",
   "execution_count": 15,
   "metadata": {},
   "outputs": [
    {
     "data": {
      "text/plain": [
       "{'Cmaj7': array([1., 0., 0., 0., 1., 0., 0., 1., 0., 0., 0., 1.]),\n",
       " 'Dbmaj7': array([1., 1., 0., 0., 0., 1., 0., 0., 1., 0., 0., 0.]),\n",
       " 'Dmaj7': array([0., 1., 1., 0., 0., 0., 1., 0., 0., 1., 0., 0.]),\n",
       " 'Ebmaj7': array([0., 0., 1., 1., 0., 0., 0., 1., 0., 0., 1., 0.]),\n",
       " 'Emaj7': array([0., 0., 0., 1., 1., 0., 0., 0., 1., 0., 0., 1.]),\n",
       " 'Fmaj7': array([1., 0., 0., 0., 1., 1., 0., 0., 0., 1., 0., 0.]),\n",
       " 'Gbmaj7': array([0., 1., 0., 0., 0., 1., 1., 0., 0., 0., 1., 0.]),\n",
       " 'Gmaj7': array([0., 0., 1., 0., 0., 0., 1., 1., 0., 0., 0., 1.]),\n",
       " 'Abmaj7': array([1., 0., 0., 1., 0., 0., 0., 1., 1., 0., 0., 0.]),\n",
       " 'Amaj7': array([0., 1., 0., 0., 1., 0., 0., 0., 1., 1., 0., 0.]),\n",
       " 'Bbmaj7': array([0., 0., 1., 0., 0., 1., 0., 0., 0., 1., 1., 0.]),\n",
       " 'Bmaj7': array([0., 0., 0., 1., 0., 0., 1., 0., 0., 0., 1., 1.]),\n",
       " 'C7': array([1., 0., 0., 0., 1., 0., 0., 1., 0., 0., 1., 0.]),\n",
       " 'Db7': array([0., 1., 0., 0., 0., 1., 0., 0., 1., 0., 0., 1.]),\n",
       " 'D7': array([1., 0., 1., 0., 0., 0., 1., 0., 0., 1., 0., 0.]),\n",
       " 'Eb7': array([0., 1., 0., 1., 0., 0., 0., 1., 0., 0., 1., 0.]),\n",
       " 'E7': array([0., 0., 1., 0., 1., 0., 0., 0., 1., 0., 0., 1.]),\n",
       " 'F7': array([1., 0., 0., 1., 0., 1., 0., 0., 0., 1., 0., 0.]),\n",
       " 'Gb7': array([0., 1., 0., 0., 1., 0., 1., 0., 0., 0., 1., 0.]),\n",
       " 'G7': array([0., 0., 1., 0., 0., 1., 0., 1., 0., 0., 0., 1.]),\n",
       " 'Ab7': array([1., 0., 0., 1., 0., 0., 1., 0., 1., 0., 0., 0.]),\n",
       " 'A7': array([0., 1., 0., 0., 1., 0., 0., 1., 0., 1., 0., 0.]),\n",
       " 'Bb7': array([0., 0., 1., 0., 0., 1., 0., 0., 1., 0., 1., 0.]),\n",
       " 'B7': array([0., 0., 0., 1., 0., 0., 1., 0., 0., 1., 0., 1.]),\n",
       " 'Cmin7': array([1., 0., 0., 1., 0., 0., 0., 1., 0., 0., 1., 0.]),\n",
       " 'Dbmin7': array([0., 1., 0., 0., 1., 0., 0., 0., 1., 0., 0., 1.]),\n",
       " 'Dmin7': array([1., 0., 1., 0., 0., 1., 0., 0., 0., 1., 0., 0.]),\n",
       " 'Ebmin7': array([0., 1., 0., 1., 0., 0., 1., 0., 0., 0., 1., 0.]),\n",
       " 'Emin7': array([0., 0., 1., 0., 1., 0., 0., 1., 0., 0., 0., 1.]),\n",
       " 'Fmin7': array([1., 0., 0., 1., 0., 1., 0., 0., 1., 0., 0., 0.]),\n",
       " 'Gbmin7': array([0., 1., 0., 0., 1., 0., 1., 0., 0., 1., 0., 0.]),\n",
       " 'Gmin7': array([0., 0., 1., 0., 0., 1., 0., 1., 0., 0., 1., 0.]),\n",
       " 'Abmin7': array([0., 0., 0., 1., 0., 0., 1., 0., 1., 0., 0., 1.]),\n",
       " 'Amin7': array([1., 0., 0., 0., 1., 0., 0., 1., 0., 1., 0., 0.]),\n",
       " 'Bbmin7': array([0., 1., 0., 0., 0., 1., 0., 0., 1., 0., 1., 0.]),\n",
       " 'Bmin7': array([0., 0., 1., 0., 0., 0., 1., 0., 0., 1., 0., 1.]),\n",
       " 'Cdim': array([1., 0., 0., 1., 0., 0., 1., 0., 0., 1., 0., 0.]),\n",
       " 'Dbdim': array([0., 1., 0., 0., 1., 0., 0., 1., 0., 0., 1., 0.]),\n",
       " 'Ddim': array([0., 0., 1., 0., 0., 1., 0., 0., 1., 0., 0., 1.]),\n",
       " 'Ebdim': array([1., 0., 0., 1., 0., 0., 1., 0., 0., 1., 0., 0.]),\n",
       " 'Edim': array([0., 1., 0., 0., 1., 0., 0., 1., 0., 0., 1., 0.]),\n",
       " 'Fdim': array([0., 0., 1., 0., 0., 1., 0., 0., 1., 0., 0., 1.]),\n",
       " 'Gbdim': array([1., 0., 0., 1., 0., 0., 1., 0., 0., 1., 0., 0.]),\n",
       " 'Gdim': array([0., 1., 0., 0., 1., 0., 0., 1., 0., 0., 1., 0.]),\n",
       " 'Abdim': array([0., 0., 1., 0., 0., 1., 0., 0., 1., 0., 0., 1.]),\n",
       " 'Adim': array([1., 0., 0., 1., 0., 0., 1., 0., 0., 1., 0., 0.]),\n",
       " 'Bbdim': array([0., 1., 0., 0., 1., 0., 0., 1., 0., 0., 1., 0.]),\n",
       " 'Bdim': array([0., 0., 1., 0., 0., 1., 0., 0., 1., 0., 0., 1.]),\n",
       " 'Cmeio_dim': array([1., 0., 0., 1., 0., 0., 1., 0., 0., 0., 1., 0.]),\n",
       " 'Dbmeio_dim': array([0., 1., 0., 0., 1., 0., 0., 1., 0., 0., 0., 1.]),\n",
       " 'Dmeio_dim': array([1., 0., 1., 0., 0., 1., 0., 0., 1., 0., 0., 0.]),\n",
       " 'Ebmeio_dim': array([0., 1., 0., 1., 0., 0., 1., 0., 0., 1., 0., 0.]),\n",
       " 'Emeio_dim': array([0., 0., 1., 0., 1., 0., 0., 1., 0., 0., 1., 0.]),\n",
       " 'Fmeio_dim': array([0., 0., 0., 1., 0., 1., 0., 0., 1., 0., 0., 1.]),\n",
       " 'Gbmeio_dim': array([1., 0., 0., 0., 1., 0., 1., 0., 0., 1., 0., 0.]),\n",
       " 'Gmeio_dim': array([0., 1., 0., 0., 0., 1., 0., 1., 0., 0., 1., 0.]),\n",
       " 'Abmeio_dim': array([0., 0., 1., 0., 0., 0., 1., 0., 1., 0., 0., 1.]),\n",
       " 'Ameio_dim': array([1., 0., 0., 1., 0., 0., 0., 1., 0., 1., 0., 0.]),\n",
       " 'Bbmeio_dim': array([0., 1., 0., 0., 1., 0., 0., 0., 1., 0., 1., 0.]),\n",
       " 'Bmeio_dim': array([0., 0., 1., 0., 0., 1., 0., 0., 0., 1., 0., 1.])}"
      ]
     },
     "execution_count": 15,
     "metadata": {},
     "output_type": "execute_result"
    }
   ],
   "source": [
    "dict_chords = {**dict_maj7, **dict_7, **dict_min7, **dict_dim, **dict_meio_dim}\n",
    "dict_chords"
   ]
  },
  {
   "cell_type": "markdown",
   "metadata": {},
   "source": [
    "### Carregando os audios para gerar os chromas:"
   ]
  },
  {
   "cell_type": "markdown",
   "metadata": {},
   "source": [
    "Teste:"
   ]
  },
  {
   "cell_type": "code",
   "execution_count": 65,
   "metadata": {},
   "outputs": [
    {
     "data": {
      "text/plain": [
       "[<matplotlib.lines.Line2D at 0x7f47f21dea90>]"
      ]
     },
     "execution_count": 65,
     "metadata": {},
     "output_type": "execute_result"
    },
    {
     "data": {
      "image/png": "[encoded data removed]",
      "text/plain": [
       "<Figure size 432x288 with 1 Axes>"
      ]
     },
     "metadata": {
      "needs_background": "light"
     },
     "output_type": "display_data"
    }
   ],
   "source": [
    "file = '../corpus/generated_chords/audio/dim/Flute/Bdim_outside_now_Flute.ogg'\n",
    "y, sr = librosa.load(file)\n",
    "\n",
    "plt.plot(y)"
   ]
  },
  {
   "cell_type": "code",
   "execution_count": 66,
   "metadata": {},
   "outputs": [],
   "source": [
    "N = len(y)\n",
    "chroma = librosa.feature.chroma_stft(y=y, \n",
    "                                        sr=sr, \n",
    "                                        tuning=0.0, \n",
    "                                        norm=0, \n",
    "                                        hop_length=N+1, \n",
    "                                        n_fft=N\n",
    "                                    )"
   ]
  },
  {
   "cell_type": "code",
   "execution_count": 67,
   "metadata": {},
   "outputs": [
    {
     "data": {
      "text/plain": [
       "(12, 1)"
      ]
     },
     "execution_count": 67,
     "metadata": {},
     "output_type": "execute_result"
    }
   ],
   "source": [
    "chroma.shape"
   ]
  },
  {
   "cell_type": "code",
   "execution_count": 68,
   "metadata": {
    "collapsed": true
   },
   "outputs": [
    {
     "data": {
      "image/png": "[encoded data removed]",
      "text/plain": [
       "<Figure size 432x288 with 1 Axes>"
      ]
     },
     "metadata": {
      "needs_background": "light"
     },
     "output_type": "display_data"
    },
    {
     "data": {
      "text/plain": [
       "<Figure size 432x288 with 0 Axes>"
      ]
     },
     "metadata": {},
     "output_type": "display_data"
    }
   ],
   "source": [
    "plt.plot(notes,\n",
    "          chroma);\n",
    "\n",
    "# plt.title(chord);\n",
    "plt.show()\n",
    "plt.clf()"
   ]
  },
  {
   "cell_type": "code",
   "execution_count": 83,
   "metadata": {},
   "outputs": [
    {
     "data": {
      "text/plain": [
       "'Bdim'"
      ]
     },
     "execution_count": 83,
     "metadata": {},
     "output_type": "execute_result"
    }
   ],
   "source": [
    "file.split('/')[-1].split('_')[0]"
   ]
  },
  {
   "cell_type": "code",
   "execution_count": 69,
   "metadata": {
    "collapsed": true
   },
   "outputs": [
    {
     "name": "stdout",
     "output_type": "stream",
     "text": [
      "Acorde: Cmaj7 | Distância: 1.6469446172542885\n",
      "--------------------------------\n",
      "Acorde: Dbmaj7 | Distância: 2.058727575656039\n",
      "--------------------------------\n",
      "Acorde: Dmaj7 | Distância: 2.032456436613619\n",
      "--------------------------------\n",
      "Acorde: Ebmaj7 | Distância: 2.0477252441022347\n",
      "--------------------------------\n",
      "Acorde: Emaj7 | Distância: 1.6847741717428013\n",
      "--------------------------------\n",
      "Acorde: Fmaj7 | Distância: 2.0284335571789796\n",
      "--------------------------------\n",
      "Acorde: Gbmaj7 | Distância: 2.038434963200835\n",
      "--------------------------------\n",
      "Acorde: Gmaj7 | Distância: 1.5297830495842848\n",
      "--------------------------------\n",
      "Acorde: Abmaj7 | Distância: 2.119825695248948\n",
      "--------------------------------\n",
      "Acorde: Amaj7 | Distância: 2.1851042254090465\n",
      "--------------------------------\n",
      "Acorde: Bbmaj7 | Distância: 1.9493160556084073\n",
      "--------------------------------\n",
      "Acorde: Bmaj7 | Distância: 1.5714590844851364\n",
      "--------------------------------\n",
      "Acorde: C7 | Distância: 2.114427618561976\n",
      "--------------------------------\n",
      "Acorde: Db7 | Distância: 1.6133680398823893\n",
      "--------------------------------\n",
      "Acorde: D7 | Distância: 1.9574015820933701\n",
      "--------------------------------\n",
      "Acorde: Eb7 | Distância: 2.1551062755487194\n",
      "--------------------------------\n",
      "Acorde: E7 | Distância: 1.589515310945807\n",
      "--------------------------------\n",
      "Acorde: F7 | Distância: 1.997188871266579\n",
      "--------------------------------\n",
      "Acorde: Gb7 | Distância: 2.128408789305454\n",
      "--------------------------------\n",
      "Acorde: G7 | Distância: 1.4784023561548936\n",
      "--------------------------------\n",
      "Acorde: Ab7 | Distância: 2.0624069882887386\n",
      "--------------------------------\n",
      "Acorde: A7 | Distância: 2.1928752709734276\n",
      "--------------------------------\n",
      "Acorde: Bb7 | Distância: 1.9773794856761358\n",
      "--------------------------------\n",
      "Acorde: B7 | Distância: 1.5836423968085334\n",
      "--------------------------------\n",
      "Acorde: Cmin7 | Distância: 2.0844723182999987\n",
      "--------------------------------\n",
      "Acorde: Dbmin7 | Distância: 1.7256486627662833\n",
      "--------------------------------\n",
      "Acorde: Dmin7 | Distância: 1.917513572695269\n",
      "--------------------------------\n",
      "Acorde: Ebmin7 | Distância: 2.0986530599444047\n",
      "--------------------------------\n",
      "Acorde: Emin7 | Distância: 1.6001813653075267\n",
      "--------------------------------\n",
      "Acorde: Fmin7 | Distância: 2.024588830659493\n",
      "--------------------------------\n",
      "Acorde: Gbmin7 | Distância: 2.1374198373626374\n",
      "--------------------------------\n",
      "Acorde: Gmin7 | Distância: 1.985963521447243\n",
      "--------------------------------\n",
      "Acorde: Abmin7 | Distância: 1.6180605015541218\n",
      "--------------------------------\n",
      "Acorde: Amin7 | Distância: 2.1234979964427283\n",
      "--------------------------------\n",
      "Acorde: Bbmin7 | Distância: 2.0883807157577223\n",
      "--------------------------------\n",
      "Acorde: Bmin7 | Distância: 1.481896809811324\n",
      "--------------------------------\n",
      "Acorde: Cdim | Distância: 2.0355161604915164\n",
      "--------------------------------\n",
      "Acorde: Dbdim | Distância: 2.184093030822673\n",
      "--------------------------------\n",
      "Acorde: Ddim | Distância: 1.4668510655611995\n",
      "--------------------------------\n",
      "Acorde: Ebdim | Distância: 2.0355161604915164\n",
      "--------------------------------\n",
      "Acorde: Edim | Distância: 2.184093030822673\n",
      "--------------------------------\n",
      "Acorde: Fdim | Distância: 1.4668510655611995\n",
      "--------------------------------\n",
      "Acorde: Gbdim | Distância: 2.0355161604915164\n",
      "--------------------------------\n",
      "Acorde: Gdim | Distância: 2.184093030822673\n",
      "--------------------------------\n",
      "Acorde: Abdim | Distância: 1.4668510655611995\n",
      "--------------------------------\n",
      "Acorde: Adim | Distância: 2.0355161604915164\n",
      "--------------------------------\n",
      "Acorde: Bbdim | Distância: 2.184093030822673\n",
      "--------------------------------\n",
      "Acorde: Bdim | Distância: 1.4668510655611995\n",
      "--------------------------------\n",
      "Acorde: Cmeio_dim | Distância: 2.0260519373558794\n",
      "--------------------------------\n",
      "Acorde: Dbmeio_dim | Distância: 1.7354782584214001\n",
      "--------------------------------\n",
      "Acorde: Dmeio_dim | Distância: 1.946035674696298\n",
      "--------------------------------\n",
      "Acorde: Ebmeio_dim | Distância: 2.1077913209738357\n",
      "--------------------------------\n",
      "Acorde: Emeio_dim | Distância: 2.078210283804854\n",
      "--------------------------------\n",
      "Acorde: Fmeio_dim | Distância: 1.569572277589829\n",
      "--------------------------------\n",
      "Acorde: Gbmeio_dim | Distância: 2.066181344413123\n",
      "--------------------------------\n",
      "Acorde: Gmeio_dim | Distância: 2.09651031289976\n",
      "--------------------------------\n",
      "Acorde: Abmeio_dim | Distância: 1.5186226327330565\n",
      "--------------------------------\n",
      "Acorde: Ameio_dim | Distância: 2.0936724749868554\n",
      "--------------------------------\n",
      "Acorde: Bbmeio_dim | Distância: 2.176290626074986\n",
      "--------------------------------\n",
      "Acorde: Bmeio_dim | Distância: 1.4287951227583071\n",
      "--------------------------------\n"
     ]
    }
   ],
   "source": [
    "dists = {}\n",
    "for key, value in dict_chords.items():\n",
    "    chroma_norm = chroma.T/chroma.max()\n",
    "    dist = np.linalg.norm(value - chroma_norm)\n",
    "    print('Acorde:', key, '|', 'Distância:', dist)\n",
    "    dists[key] = dist\n",
    "    print('--------------------------------')"
   ]
  },
  {
   "cell_type": "code",
   "execution_count": 86,
   "metadata": {},
   "outputs": [],
   "source": [
    "pred = min(dists, key=dists.get)"
   ]
  },
  {
   "cell_type": "code",
   "execution_count": 77,
   "metadata": {
    "scrolled": true
   },
   "outputs": [
    {
     "data": {
      "text/html": [
       "<div>\n",
       "<style scoped>\n",
       "    .dataframe tbody tr th:only-of-type {\n",
       "        vertical-align: middle;\n",
       "    }\n",
       "\n",
       "    .dataframe tbody tr th {\n",
       "        vertical-align: top;\n",
       "    }\n",
       "\n",
       "    .dataframe thead th {\n",
       "        text-align: right;\n",
       "    }\n",
       "</style>\n",
       "<table border=\"1\" class=\"dataframe\">\n",
       "  <thead>\n",
       "    <tr style=\"text-align: right;\">\n",
       "      <th></th>\n",
       "      <th>0</th>\n",
       "    </tr>\n",
       "  </thead>\n",
       "  <tbody>\n",
       "    <tr>\n",
       "      <th>Bmeio_dim</th>\n",
       "      <td>1.428795</td>\n",
       "    </tr>\n",
       "    <tr>\n",
       "      <th>Bdim</th>\n",
       "      <td>1.466851</td>\n",
       "    </tr>\n",
       "    <tr>\n",
       "      <th>Abdim</th>\n",
       "      <td>1.466851</td>\n",
       "    </tr>\n",
       "    <tr>\n",
       "      <th>Fdim</th>\n",
       "      <td>1.466851</td>\n",
       "    </tr>\n",
       "    <tr>\n",
       "      <th>Ddim</th>\n",
       "      <td>1.466851</td>\n",
       "    </tr>\n",
       "    <tr>\n",
       "      <th>G7</th>\n",
       "      <td>1.478402</td>\n",
       "    </tr>\n",
       "    <tr>\n",
       "      <th>Bmin7</th>\n",
       "      <td>1.481897</td>\n",
       "    </tr>\n",
       "    <tr>\n",
       "      <th>Abmeio_dim</th>\n",
       "      <td>1.518623</td>\n",
       "    </tr>\n",
       "    <tr>\n",
       "      <th>Gmaj7</th>\n",
       "      <td>1.529783</td>\n",
       "    </tr>\n",
       "    <tr>\n",
       "      <th>Fmeio_dim</th>\n",
       "      <td>1.569572</td>\n",
       "    </tr>\n",
       "    <tr>\n",
       "      <th>Bmaj7</th>\n",
       "      <td>1.571459</td>\n",
       "    </tr>\n",
       "    <tr>\n",
       "      <th>B7</th>\n",
       "      <td>1.583642</td>\n",
       "    </tr>\n",
       "    <tr>\n",
       "      <th>E7</th>\n",
       "      <td>1.589515</td>\n",
       "    </tr>\n",
       "    <tr>\n",
       "      <th>Emin7</th>\n",
       "      <td>1.600181</td>\n",
       "    </tr>\n",
       "    <tr>\n",
       "      <th>Db7</th>\n",
       "      <td>1.613368</td>\n",
       "    </tr>\n",
       "    <tr>\n",
       "      <th>Abmin7</th>\n",
       "      <td>1.618061</td>\n",
       "    </tr>\n",
       "    <tr>\n",
       "      <th>Cmaj7</th>\n",
       "      <td>1.646945</td>\n",
       "    </tr>\n",
       "    <tr>\n",
       "      <th>Emaj7</th>\n",
       "      <td>1.684774</td>\n",
       "    </tr>\n",
       "    <tr>\n",
       "      <th>Dbmin7</th>\n",
       "      <td>1.725649</td>\n",
       "    </tr>\n",
       "    <tr>\n",
       "      <th>Dbmeio_dim</th>\n",
       "      <td>1.735478</td>\n",
       "    </tr>\n",
       "    <tr>\n",
       "      <th>Dmin7</th>\n",
       "      <td>1.917514</td>\n",
       "    </tr>\n",
       "    <tr>\n",
       "      <th>Dmeio_dim</th>\n",
       "      <td>1.946036</td>\n",
       "    </tr>\n",
       "    <tr>\n",
       "      <th>Bbmaj7</th>\n",
       "      <td>1.949316</td>\n",
       "    </tr>\n",
       "    <tr>\n",
       "      <th>D7</th>\n",
       "      <td>1.957402</td>\n",
       "    </tr>\n",
       "    <tr>\n",
       "      <th>Bb7</th>\n",
       "      <td>1.977379</td>\n",
       "    </tr>\n",
       "    <tr>\n",
       "      <th>Gmin7</th>\n",
       "      <td>1.985964</td>\n",
       "    </tr>\n",
       "    <tr>\n",
       "      <th>F7</th>\n",
       "      <td>1.997189</td>\n",
       "    </tr>\n",
       "    <tr>\n",
       "      <th>Fmin7</th>\n",
       "      <td>2.024589</td>\n",
       "    </tr>\n",
       "    <tr>\n",
       "      <th>Cmeio_dim</th>\n",
       "      <td>2.026052</td>\n",
       "    </tr>\n",
       "    <tr>\n",
       "      <th>Fmaj7</th>\n",
       "      <td>2.028434</td>\n",
       "    </tr>\n",
       "    <tr>\n",
       "      <th>Dmaj7</th>\n",
       "      <td>2.032456</td>\n",
       "    </tr>\n",
       "    <tr>\n",
       "      <th>Cdim</th>\n",
       "      <td>2.035516</td>\n",
       "    </tr>\n",
       "    <tr>\n",
       "      <th>Adim</th>\n",
       "      <td>2.035516</td>\n",
       "    </tr>\n",
       "    <tr>\n",
       "      <th>Gbdim</th>\n",
       "      <td>2.035516</td>\n",
       "    </tr>\n",
       "    <tr>\n",
       "      <th>Ebdim</th>\n",
       "      <td>2.035516</td>\n",
       "    </tr>\n",
       "    <tr>\n",
       "      <th>Gbmaj7</th>\n",
       "      <td>2.038435</td>\n",
       "    </tr>\n",
       "    <tr>\n",
       "      <th>Ebmaj7</th>\n",
       "      <td>2.047725</td>\n",
       "    </tr>\n",
       "    <tr>\n",
       "      <th>Dbmaj7</th>\n",
       "      <td>2.058728</td>\n",
       "    </tr>\n",
       "    <tr>\n",
       "      <th>Ab7</th>\n",
       "      <td>2.062407</td>\n",
       "    </tr>\n",
       "    <tr>\n",
       "      <th>Gbmeio_dim</th>\n",
       "      <td>2.066181</td>\n",
       "    </tr>\n",
       "    <tr>\n",
       "      <th>Emeio_dim</th>\n",
       "      <td>2.078210</td>\n",
       "    </tr>\n",
       "    <tr>\n",
       "      <th>Cmin7</th>\n",
       "      <td>2.084472</td>\n",
       "    </tr>\n",
       "    <tr>\n",
       "      <th>Bbmin7</th>\n",
       "      <td>2.088381</td>\n",
       "    </tr>\n",
       "    <tr>\n",
       "      <th>Ameio_dim</th>\n",
       "      <td>2.093672</td>\n",
       "    </tr>\n",
       "    <tr>\n",
       "      <th>Gmeio_dim</th>\n",
       "      <td>2.096510</td>\n",
       "    </tr>\n",
       "    <tr>\n",
       "      <th>Ebmin7</th>\n",
       "      <td>2.098653</td>\n",
       "    </tr>\n",
       "    <tr>\n",
       "      <th>Ebmeio_dim</th>\n",
       "      <td>2.107791</td>\n",
       "    </tr>\n",
       "    <tr>\n",
       "      <th>C7</th>\n",
       "      <td>2.114428</td>\n",
       "    </tr>\n",
       "    <tr>\n",
       "      <th>Abmaj7</th>\n",
       "      <td>2.119826</td>\n",
       "    </tr>\n",
       "    <tr>\n",
       "      <th>Amin7</th>\n",
       "      <td>2.123498</td>\n",
       "    </tr>\n",
       "    <tr>\n",
       "      <th>Gb7</th>\n",
       "      <td>2.128409</td>\n",
       "    </tr>\n",
       "    <tr>\n",
       "      <th>Gbmin7</th>\n",
       "      <td>2.137420</td>\n",
       "    </tr>\n",
       "    <tr>\n",
       "      <th>Eb7</th>\n",
       "      <td>2.155106</td>\n",
       "    </tr>\n",
       "    <tr>\n",
       "      <th>Bbmeio_dim</th>\n",
       "      <td>2.176291</td>\n",
       "    </tr>\n",
       "    <tr>\n",
       "      <th>Edim</th>\n",
       "      <td>2.184093</td>\n",
       "    </tr>\n",
       "    <tr>\n",
       "      <th>Bbdim</th>\n",
       "      <td>2.184093</td>\n",
       "    </tr>\n",
       "    <tr>\n",
       "      <th>Dbdim</th>\n",
       "      <td>2.184093</td>\n",
       "    </tr>\n",
       "    <tr>\n",
       "      <th>Gdim</th>\n",
       "      <td>2.184093</td>\n",
       "    </tr>\n",
       "    <tr>\n",
       "      <th>Amaj7</th>\n",
       "      <td>2.185104</td>\n",
       "    </tr>\n",
       "    <tr>\n",
       "      <th>A7</th>\n",
       "      <td>2.192875</td>\n",
       "    </tr>\n",
       "  </tbody>\n",
       "</table>\n",
       "</div>"
      ],
      "text/plain": [
       "                   0\n",
       "Bmeio_dim   1.428795\n",
       "Bdim        1.466851\n",
       "Abdim       1.466851\n",
       "Fdim        1.466851\n",
       "Ddim        1.466851\n",
       "G7          1.478402\n",
       "Bmin7       1.481897\n",
       "Abmeio_dim  1.518623\n",
       "Gmaj7       1.529783\n",
       "Fmeio_dim   1.569572\n",
       "Bmaj7       1.571459\n",
       "B7          1.583642\n",
       "E7          1.589515\n",
       "Emin7       1.600181\n",
       "Db7         1.613368\n",
       "Abmin7      1.618061\n",
       "Cmaj7       1.646945\n",
       "Emaj7       1.684774\n",
       "Dbmin7      1.725649\n",
       "Dbmeio_dim  1.735478\n",
       "Dmin7       1.917514\n",
       "Dmeio_dim   1.946036\n",
       "Bbmaj7      1.949316\n",
       "D7          1.957402\n",
       "Bb7         1.977379\n",
       "Gmin7       1.985964\n",
       "F7          1.997189\n",
       "Fmin7       2.024589\n",
       "Cmeio_dim   2.026052\n",
       "Fmaj7       2.028434\n",
       "Dmaj7       2.032456\n",
       "Cdim        2.035516\n",
       "Adim        2.035516\n",
       "Gbdim       2.035516\n",
       "Ebdim       2.035516\n",
       "Gbmaj7      2.038435\n",
       "Ebmaj7      2.047725\n",
       "Dbmaj7      2.058728\n",
       "Ab7         2.062407\n",
       "Gbmeio_dim  2.066181\n",
       "Emeio_dim   2.078210\n",
       "Cmin7       2.084472\n",
       "Bbmin7      2.088381\n",
       "Ameio_dim   2.093672\n",
       "Gmeio_dim   2.096510\n",
       "Ebmin7      2.098653\n",
       "Ebmeio_dim  2.107791\n",
       "C7          2.114428\n",
       "Abmaj7      2.119826\n",
       "Amin7       2.123498\n",
       "Gb7         2.128409\n",
       "Gbmin7      2.137420\n",
       "Eb7         2.155106\n",
       "Bbmeio_dim  2.176291\n",
       "Edim        2.184093\n",
       "Bbdim       2.184093\n",
       "Dbdim       2.184093\n",
       "Gdim        2.184093\n",
       "Amaj7       2.185104\n",
       "A7          2.192875"
      ]
     },
     "execution_count": 77,
     "metadata": {},
     "output_type": "execute_result"
    }
   ],
   "source": [
    "pd.DataFrame(data=dists.values(), index=dists.keys()).sort_values(0, ascending=True)"
   ]
  },
  {
   "cell_type": "code",
   "execution_count": 85,
   "metadata": {},
   "outputs": [],
   "source": [
    "df_teste = pd.DataFrame()"
   ]
  },
  {
   "cell_type": "code",
   "execution_count": 87,
   "metadata": {},
   "outputs": [],
   "source": [
    "df_teste.at[0, 'true'] = file.split('/')[-1].split('_')[0]\n",
    "df_teste.at[0, 'pred'] = pred"
   ]
  },
  {
   "cell_type": "code",
   "execution_count": 88,
   "metadata": {},
   "outputs": [
    {
     "data": {
      "text/html": [
       "<div>\n",
       "<style scoped>\n",
       "    .dataframe tbody tr th:only-of-type {\n",
       "        vertical-align: middle;\n",
       "    }\n",
       "\n",
       "    .dataframe tbody tr th {\n",
       "        vertical-align: top;\n",
       "    }\n",
       "\n",
       "    .dataframe thead th {\n",
       "        text-align: right;\n",
       "    }\n",
       "</style>\n",
       "<table border=\"1\" class=\"dataframe\">\n",
       "  <thead>\n",
       "    <tr style=\"text-align: right;\">\n",
       "      <th></th>\n",
       "      <th>true</th>\n",
       "      <th>pred</th>\n",
       "    </tr>\n",
       "  </thead>\n",
       "  <tbody>\n",
       "    <tr>\n",
       "      <th>0</th>\n",
       "      <td>Bdim</td>\n",
       "      <td>Bmeio_dim</td>\n",
       "    </tr>\n",
       "  </tbody>\n",
       "</table>\n",
       "</div>"
      ],
      "text/plain": [
       "   true       pred\n",
       "0  Bdim  Bmeio_dim"
      ]
     },
     "execution_count": 88,
     "metadata": {},
     "output_type": "execute_result"
    }
   ],
   "source": [
    "df_teste"
   ]
  },
  {
   "cell_type": "code",
   "execution_count": 61,
   "metadata": {},
   "outputs": [
    {
     "data": {
      "text/plain": [
       "['maj7']"
      ]
     },
     "execution_count": 61,
     "metadata": {},
     "output_type": "execute_result"
    }
   ],
   "source": [
    "os.listdir(corpus_folder)[-1:]"
   ]
  },
  {
   "cell_type": "code",
   "execution_count": 62,
   "metadata": {
    "scrolled": true
   },
   "outputs": [],
   "source": [
    "corpus_folder = '../corpus/generated_chords/audio'\n",
    "files = []\n",
    "\n",
    "df_model = pd.DataFrame()\n",
    "\n",
    "# entrando na pasta de cada chord type \n",
    "# gerando primeiro pra um chord type apenas, pq demora muito e to curiosa pra ver logo algum resultado pelo menos\n",
    "for folder in os.listdir(corpus_folder)[-1:]:\n",
    "      \n",
    "    instr_folders = [x[0] for x in os.walk(corpus_folder +'/' +folder)][1:]\n",
    "    \n",
    "                     \n",
    "    # entrando na pasta de cada instrumento\n",
    "    for instr_folder in instr_folders:\n",
    "        \n",
    "        # obtendo o caminho para cada arquivo de audio\n",
    "        for audio_file in glob.glob(instr_folder+'/*.ogg'):\n",
    "\n",
    "            # obtendo o nome do arquivo\n",
    "            file_name = audio_file.split('/')[-1]\n",
    "            \n",
    "            # carregando o audio com o librosa\n",
    "            y, sr = librosa.load(audio_file)\n",
    "            \n",
    "            \n",
    "            # calculando o chroma para cada audio\n",
    "            N = len(y)\n",
    "            chroma = librosa.feature.chroma_stft(y=y, \n",
    "                                                    sr=sr, \n",
    "                                                    tuning=0.0, \n",
    "                                                    norm=0, \n",
    "                                                    hop_length=N+1, \n",
    "                                                    n_fft=N\n",
    "                                                )\n",
    "            \n",
    "            # criando um dicionário com as distâncias do acorde real para cada chroma perfeito\n",
    "            dists = {}\n",
    "            for key, value in dict_chords.items():\n",
    "                chroma_norm = chroma.T/chroma.max()\n",
    "                dist = np.linalg.norm(value - chroma_norm)\n",
    "#                 print('Acorde:', key, '|', 'Distância:', dist)\n",
    "                dists[key] = dist\n",
    "            \n",
    "            # retornando como output o chroma perfeito com menor distância\n",
    "            pred = min(dists, key=dists.get)\n",
    "            \n",
    "            df_model.at[file_name, 'true'] = audio_file.split('/')[-1].split('_')[0]\n",
    "            df_model.at[file_name, 'pred'] = pred\n"
   ]
  },
  {
   "cell_type": "code",
   "execution_count": 63,
   "metadata": {},
   "outputs": [
    {
     "data": {
      "text/html": [
       "<div>\n",
       "<style scoped>\n",
       "    .dataframe tbody tr th:only-of-type {\n",
       "        vertical-align: middle;\n",
       "    }\n",
       "\n",
       "    .dataframe tbody tr th {\n",
       "        vertical-align: top;\n",
       "    }\n",
       "\n",
       "    .dataframe thead th {\n",
       "        text-align: right;\n",
       "    }\n",
       "</style>\n",
       "<table border=\"1\" class=\"dataframe\">\n",
       "  <thead>\n",
       "    <tr style=\"text-align: right;\">\n",
       "      <th></th>\n",
       "      <th>true</th>\n",
       "      <th>pred</th>\n",
       "    </tr>\n",
       "  </thead>\n",
       "  <tbody>\n",
       "    <tr>\n",
       "      <th>Gbmaj7_agsag-samai_Flute.ogg</th>\n",
       "      <td>Gbmaj7</td>\n",
       "      <td>Gbmaj7</td>\n",
       "    </tr>\n",
       "    <tr>\n",
       "      <th>Dmaj7_fandango_Flute.ogg</th>\n",
       "      <td>Dmaj7</td>\n",
       "      <td>Dmaj7</td>\n",
       "    </tr>\n",
       "    <tr>\n",
       "      <th>Bmaj7_samba_Flute.ogg</th>\n",
       "      <td>Bmaj7</td>\n",
       "      <td>Bmaj7</td>\n",
       "    </tr>\n",
       "    <tr>\n",
       "      <th>Gmaj7_bendir_Flute.ogg</th>\n",
       "      <td>Gmaj7</td>\n",
       "      <td>Gmaj7</td>\n",
       "    </tr>\n",
       "    <tr>\n",
       "      <th>Gbmaj7_aka_Flute.ogg</th>\n",
       "      <td>Gbmaj7</td>\n",
       "      <td>Gbmaj7</td>\n",
       "    </tr>\n",
       "    <tr>\n",
       "      <th>...</th>\n",
       "      <td>...</td>\n",
       "      <td>...</td>\n",
       "    </tr>\n",
       "    <tr>\n",
       "      <th>Fmaj7_venda_clapping_Mandolin.ogg</th>\n",
       "      <td>Fmaj7</td>\n",
       "      <td>Fmaj7</td>\n",
       "    </tr>\n",
       "    <tr>\n",
       "      <th>Dmaj7_ruchenitza_2_Mandolin.ogg</th>\n",
       "      <td>Dmaj7</td>\n",
       "      <td>Dmaj7</td>\n",
       "    </tr>\n",
       "    <tr>\n",
       "      <th>Fmaj7_venda_Mandolin.ogg</th>\n",
       "      <td>Fmaj7</td>\n",
       "      <td>Fmaj7</td>\n",
       "    </tr>\n",
       "    <tr>\n",
       "      <th>Gbmaj7_outside_now_Mandolin.ogg</th>\n",
       "      <td>Gbmaj7</td>\n",
       "      <td>Gbmaj7</td>\n",
       "    </tr>\n",
       "    <tr>\n",
       "      <th>Dmaj7_mpre_Mandolin.ogg</th>\n",
       "      <td>Dmaj7</td>\n",
       "      <td>Dmaj7</td>\n",
       "    </tr>\n",
       "  </tbody>\n",
       "</table>\n",
       "<p>4284 rows × 2 columns</p>\n",
       "</div>"
      ],
      "text/plain": [
       "                                     true    pred\n",
       "Gbmaj7_agsag-samai_Flute.ogg       Gbmaj7  Gbmaj7\n",
       "Dmaj7_fandango_Flute.ogg            Dmaj7   Dmaj7\n",
       "Bmaj7_samba_Flute.ogg               Bmaj7   Bmaj7\n",
       "Gmaj7_bendir_Flute.ogg              Gmaj7   Gmaj7\n",
       "Gbmaj7_aka_Flute.ogg               Gbmaj7  Gbmaj7\n",
       "...                                   ...     ...\n",
       "Fmaj7_venda_clapping_Mandolin.ogg   Fmaj7   Fmaj7\n",
       "Dmaj7_ruchenitza_2_Mandolin.ogg     Dmaj7   Dmaj7\n",
       "Fmaj7_venda_Mandolin.ogg            Fmaj7   Fmaj7\n",
       "Gbmaj7_outside_now_Mandolin.ogg    Gbmaj7  Gbmaj7\n",
       "Dmaj7_mpre_Mandolin.ogg             Dmaj7   Dmaj7\n",
       "\n",
       "[4284 rows x 2 columns]"
      ]
     },
     "execution_count": 63,
     "metadata": {},
     "output_type": "execute_result"
    }
   ],
   "source": [
    "df_model"
   ]
  },
  {
   "cell_type": "code",
   "execution_count": 65,
   "metadata": {},
   "outputs": [],
   "source": [
    "from sklearn.metrics import classification_report"
   ]
  },
  {
   "cell_type": "code",
   "execution_count": 66,
   "metadata": {
    "scrolled": true
   },
   "outputs": [
    {
     "name": "stdout",
     "output_type": "stream",
     "text": [
      "              precision    recall  f1-score   support\n",
      "\n",
      "          A7       0.00      0.00      0.00         0\n",
      "         Ab7       0.00      0.00      0.00         0\n",
      "      Abmaj7       0.96      0.88      0.92       357\n",
      "  Abmeio_dim       0.00      0.00      0.00         0\n",
      "      Abmin7       0.00      0.00      0.00         0\n",
      "       Amaj7       0.98      0.85      0.91       357\n",
      "   Ameio_dim       0.00      0.00      0.00         0\n",
      "       Amin7       0.00      0.00      0.00         0\n",
      "          B7       0.00      0.00      0.00         0\n",
      "         Bb7       0.00      0.00      0.00         0\n",
      "      Bbmaj7       0.99      0.91      0.95       357\n",
      "  Bbmeio_dim       0.00      0.00      0.00         0\n",
      "      Bbmin7       0.00      0.00      0.00         0\n",
      "       Bmaj7       0.96      0.89      0.92       357\n",
      "       Bmin7       0.00      0.00      0.00         0\n",
      "          C7       0.00      0.00      0.00         0\n",
      "       Cmaj7       0.93      0.77      0.84       357\n",
      "   Cmeio_dim       0.00      0.00      0.00         0\n",
      "       Cmin7       0.00      0.00      0.00         0\n",
      "          D7       0.00      0.00      0.00         0\n",
      "         Db7       0.00      0.00      0.00         0\n",
      "      Dbmaj7       0.96      0.78      0.86       357\n",
      "  Dbmeio_dim       0.00      0.00      0.00         0\n",
      "      Dbmin7       0.00      0.00      0.00         0\n",
      "       Dmaj7       0.96      0.76      0.85       357\n",
      "   Dmeio_dim       0.00      0.00      0.00         0\n",
      "       Dmin7       0.00      0.00      0.00         0\n",
      "          E7       0.00      0.00      0.00         0\n",
      "         Eb7       0.00      0.00      0.00         0\n",
      "      Ebmaj7       0.97      0.77      0.86       357\n",
      "      Ebmin7       0.00      0.00      0.00         0\n",
      "       Emaj7       0.97      0.83      0.90       357\n",
      "   Emeio_dim       0.00      0.00      0.00         0\n",
      "       Emin7       0.00      0.00      0.00         0\n",
      "          F7       0.00      0.00      0.00         0\n",
      "       Fmaj7       1.00      0.87      0.93       357\n",
      "          G7       0.00      0.00      0.00         0\n",
      "         Gb7       0.00      0.00      0.00         0\n",
      "      Gbmaj7       1.00      0.82      0.90       357\n",
      "  Gbmeio_dim       0.00      0.00      0.00         0\n",
      "      Gbmin7       0.00      0.00      0.00         0\n",
      "       Gmaj7       0.87      0.86      0.86       357\n",
      "   Gmeio_dim       0.00      0.00      0.00         0\n",
      "       Gmin7       0.00      0.00      0.00         0\n",
      "\n",
      "    accuracy                           0.83      4284\n",
      "   macro avg       0.26      0.23      0.24      4284\n",
      "weighted avg       0.96      0.83      0.89      4284\n",
      "\n"
     ]
    },
    {
     "name": "stderr",
     "output_type": "stream",
     "text": [
      "/usr/local/lib/python3.8/dist-packages/sklearn/metrics/_classification.py:1334: UndefinedMetricWarning: Recall and F-score are ill-defined and being set to 0.0 in labels with no true samples. Use `zero_division` parameter to control this behavior.\n",
      "  _warn_prf(average, modifier, msg_start, len(result))\n",
      "/usr/local/lib/python3.8/dist-packages/sklearn/metrics/_classification.py:1334: UndefinedMetricWarning: Recall and F-score are ill-defined and being set to 0.0 in labels with no true samples. Use `zero_division` parameter to control this behavior.\n",
      "  _warn_prf(average, modifier, msg_start, len(result))\n",
      "/usr/local/lib/python3.8/dist-packages/sklearn/metrics/_classification.py:1334: UndefinedMetricWarning: Recall and F-score are ill-defined and being set to 0.0 in labels with no true samples. Use `zero_division` parameter to control this behavior.\n",
      "  _warn_prf(average, modifier, msg_start, len(result))\n"
     ]
    }
   ],
   "source": [
    "print(classification_report(df_model['true'], df_model['pred']))"
   ]
  },
  {
   "cell_type": "code",
   "execution_count": null,
   "metadata": {},
   "outputs": [],
   "source": []
  }
 ],
 "metadata": {
  "kernelspec": {
   "display_name": "Python 3",
   "language": "python",
   "name": "python3"
  },
  "language_info": {
   "codemirror_mode": {
    "name": "ipython",
    "version": 3
   },
   "file_extension": ".py",
   "mimetype": "text/x-python",
   "name": "python",
   "nbconvert_exporter": "python",
   "pygments_lexer": "ipython3",
   "version": "3.8.10"
  }
 },
 "nbformat": 4,
 "nbformat_minor": 4
}
