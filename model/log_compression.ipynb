{
 "cells": [
  {
   "cell_type": "code",
   "execution_count": 1,
   "metadata": {},
   "outputs": [],
   "source": [
    "import os \n",
    "import numpy as np\n",
    "from matplotlib import pyplot as plt\n",
    "import librosa, librosa.display"
   ]
  },
  {
   "cell_type": "markdown",
   "metadata": {},
   "source": [
    "Aqui, vamos explorar uma importante técnina de processamento de sinais: a compressão logarítmica. Ela é importante para conseguirmos minimizar o problema de grande amplitude de valores presentes nos espectrogramas. A ideia é equilibrar esta discrepância ao reduzir as diferenças entre valores altos e baixos, com o efeito de dar um peso maior para valores menores."
   ]
  },
  {
   "cell_type": "markdown",
   "metadata": {},
   "source": [
    "Por exemplo, para o cromagrama C, sua versão compactada é a composta Γγ ◦ C definida por\n",
    "\n",
    "$ (\\Gamma_{\\gamma} \\circ C)(n,c) := log(1 + \\gamma · C(n,c)) $"
   ]
  },
  {
   "cell_type": "code",
   "execution_count": 2,
   "metadata": {},
   "outputs": [],
   "source": [
    "def log_compression(v, gamma=1.0):\n",
    "    \"\"\"logarithmically compresses a value or array\n",
    "\n",
    "    :args:\n",
    "        v (float or np.ndarray): value or array\n",
    "        gamma (float): compression factor (default = 1.0)\n",
    "\n",
    "    :return:\n",
    "        v_compressed (float or np.ndarray): compressed value or array\n",
    "    \"\"\"\n",
    "    return np.log(1 + gamma * v)"
   ]
  },
  {
   "cell_type": "code",
   "execution_count": null,
   "metadata": {},
   "outputs": [],
   "source": []
  }
 ],
 "metadata": {
  "kernelspec": {
   "display_name": "Python 3",
   "language": "python",
   "name": "python3"
  },
  "language_info": {
   "codemirror_mode": {
    "name": "ipython",
    "version": 3
   },
   "file_extension": ".py",
   "mimetype": "text/x-python",
   "name": "python",
   "nbconvert_exporter": "python",
   "pygments_lexer": "ipython3",
   "version": "3.8.10"
  }
 },
 "nbformat": 4,
 "nbformat_minor": 4
}
