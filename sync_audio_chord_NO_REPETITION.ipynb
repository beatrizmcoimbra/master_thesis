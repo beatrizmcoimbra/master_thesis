{
 "cells": [
  {
   "cell_type": "markdown",
   "metadata": {},
   "source": [
    "Aqui, começaremos a atacar o problema de sincronizar nossos arquivos de audio com os acordes escritos. Primeiramente, tentaremos, para uma dada música, determinar os acordes por compasso. Faremos isso tomando como base os arquivos em formato xml."
   ]
  },
  {
   "cell_type": "code",
   "execution_count": 33,
   "metadata": {},
   "outputs": [],
   "source": [
    "import pandas as pd\n",
    "import matplotlib.pyplot as plt\n",
    "import numpy as np\n",
    "import os\n",
    "import xml.etree.ElementTree as ET\n",
    "song_title = 'Gillette'\n",
    "tree = ET.parse('corpus/xml/{}.xml'.format(song_title))\n",
    "root = tree.getroot()"
   ]
  },
  {
   "cell_type": "code",
   "execution_count": 2,
   "metadata": {},
   "outputs": [
    {
     "name": "stdout",
     "output_type": "stream",
     "text": [
      "Measure: 1 | Chord:  B -1  /  \n",
      "Measure: 5 | Chord:  F  7 /  \n",
      "Measure: 9 | Chord:  B -1  /  \n",
      "Measure: 11 | Chord:  E -1  /  \n",
      "Measure: 13 | Chord:  F   /  \n",
      "Measure: 13 | Chord:  E  dim /  \n",
      "Measure: 13 | Chord:  C  min6 /  \n",
      "Measure: 13 | Chord:  D  min7 /  \n",
      "Measure: 14 | Chord:  A  min /  \n",
      "Measure: 14 | Chord:  F  7 /  \n",
      "Measure: 15 | Chord:  B -1 7 /  \n",
      "Measure: 17 | Chord:  B -1 7 /  \n"
     ]
    }
   ],
   "source": [
    "part = root.findall('part')[0]\n",
    "measures = part.findall('measure')\n",
    "for measure in measures:\n",
    "    chords = measure.findall('harmony')\n",
    "    for chord in chords:\n",
    "        try:\n",
    "            note = chord.find('root/root-step').text\n",
    "\n",
    "        except AttributeError: # se não achar a nota \"root\" do acorde, não tem acorde\n",
    "            print('Measure: {}'.format(measure.attrib['number']), ' | ', 'No chords')\n",
    "            continue\n",
    "            \n",
    "        if note:\n",
    "            # alter é a alteração de um acorde (nem sempre existe): b ou #.\n",
    "            alter = chord.find('root/root-alter')#.text\n",
    "            \n",
    "            # kind é o tipo do acorde (nem sempre existe): pode ser com 7a, 9a, 13a, por aí vai...\n",
    "            kind = chord.find('kind')#.attrib['text']\n",
    "            \n",
    "            # bass é o baixo do acorde, quando diferente da tônica. Também nem sempre existe.\n",
    "            bass = chord.find('bass/bass-step')#.text\n",
    "            \n",
    "            # bass_alter é e alteração do baixo, podendo ser b ou #. Também nem sempre existe.\n",
    "            bass_alter = chord.find('bass/bass-alter')#.text\n",
    "            \n",
    "            attribs_dict = {'alter':alter, \n",
    "                            'kind':kind, \n",
    "                            'bass':bass, \n",
    "                            'bass_alter':bass_alter}\n",
    "\n",
    "            for key, value in attribs_dict.items():\n",
    "                if value is None:\n",
    "                    attribs_dict[key] = ''\n",
    "                elif key == 'kind':\n",
    "                    attribs_dict[key] = value.attrib['text']\n",
    "                else:\n",
    "                    attribs_dict[key] = value.text\n",
    "                    \n",
    "            print('Measure: {}'.format(measure.attrib['number']), '|', 'Chord: ', note, \n",
    "                  attribs_dict['alter'], attribs_dict['kind'],'/',attribs_dict['bass'],attribs_dict['bass_alter'])\n",
    "            "
   ]
  },
  {
   "cell_type": "markdown",
   "metadata": {},
   "source": [
    "Comparando com a partitura aberta no musescore parece fazer sentido, só preciso conseguir fazer com que mostre também os compassos em que não tem acorde (no caso da música que estamos usando como exemplo, os compassos 1 e 2)."
   ]
  },
  {
   "cell_type": "markdown",
   "metadata": {},
   "source": [
    "Agora, vamos modificar ligeiramente o código acima para adicionar as informações em um dataframe."
   ]
  },
  {
   "cell_type": "code",
   "execution_count": 3,
   "metadata": {},
   "outputs": [],
   "source": [
    "df_teste = pd.DataFrame(columns=[song_title])\n",
    "df_add = pd.DataFrame(columns=[song_title], \n",
    "                      index=[3], \n",
    "                      data='E -1 min7')\n",
    "\n",
    "df_add_2 = pd.DataFrame(columns=[song_title], \n",
    "                      index=[3], \n",
    "                      data='D -1')"
   ]
  },
  {
   "cell_type": "code",
   "execution_count": 4,
   "metadata": {},
   "outputs": [],
   "source": [
    "df_teste = df_teste.append(df_add)"
   ]
  },
  {
   "cell_type": "code",
   "execution_count": 5,
   "metadata": {},
   "outputs": [
    {
     "data": {
      "text/html": [
       "<div>\n",
       "<style scoped>\n",
       "    .dataframe tbody tr th:only-of-type {\n",
       "        vertical-align: middle;\n",
       "    }\n",
       "\n",
       "    .dataframe tbody tr th {\n",
       "        vertical-align: top;\n",
       "    }\n",
       "\n",
       "    .dataframe thead th {\n",
       "        text-align: right;\n",
       "    }\n",
       "</style>\n",
       "<table border=\"1\" class=\"dataframe\">\n",
       "  <thead>\n",
       "    <tr style=\"text-align: right;\">\n",
       "      <th></th>\n",
       "      <th>Gillette</th>\n",
       "    </tr>\n",
       "  </thead>\n",
       "  <tbody>\n",
       "    <tr>\n",
       "      <th>3</th>\n",
       "      <td>E -1 min7</td>\n",
       "    </tr>\n",
       "    <tr>\n",
       "      <th>3</th>\n",
       "      <td>D -1</td>\n",
       "    </tr>\n",
       "  </tbody>\n",
       "</table>\n",
       "</div>"
      ],
      "text/plain": [
       "    Gillette\n",
       "3  E -1 min7\n",
       "3       D -1"
      ]
     },
     "execution_count": 5,
     "metadata": {},
     "output_type": "execute_result"
    }
   ],
   "source": [
    "df_teste.append(df_add_2)"
   ]
  },
  {
   "cell_type": "code",
   "execution_count": 6,
   "metadata": {},
   "outputs": [],
   "source": [
    "df_harmony = pd.DataFrame(columns=[song_title])\n",
    "\n",
    "part = root.findall('part')[0]\n",
    "measures = part.findall('measure')\n",
    "\n",
    "for measure in measures:\n",
    "    chords = measure.findall('harmony')\n",
    "    for chord in chords:\n",
    "        try:\n",
    "            note = chord.find('root/root-step').text\n",
    "\n",
    "        except AttributeError: # se não achar a nota \"root\" do acorde, não tem acorde\n",
    "            print('Measure: {}'.format(measure.attrib['number']), ' | ', 'No chords')\n",
    "            continue\n",
    "            \n",
    "        if note:\n",
    "            # alter é a alteração de um acorde (nem sempre existe): b ou #.\n",
    "            alter = chord.find('root/root-alter')#.text\n",
    "            \n",
    "            # kind é o tipo do acorde (nem sempre existe): pode ser com 7a, 9a, 13a, por aí vai...\n",
    "            kind = chord.find('kind')#.attrib['text']\n",
    "            \n",
    "            # bass é o baixo do acorde, quando diferente da tônica. Também nem sempre existe.\n",
    "            bass = chord.find('bass/bass-step')#.text\n",
    "            \n",
    "            # bass_alter é e alteração do baixo, podendo ser b ou #. Também nem sempre existe.\n",
    "            bass_alter = chord.find('bass/bass-alter')#.text\n",
    "            \n",
    "            attribs_dict = {'alter':alter, \n",
    "                            'kind':kind, \n",
    "                            'bass':bass, \n",
    "                            'bass_alter':bass_alter}\n",
    "\n",
    "            for key, value in attribs_dict.items():\n",
    "                if value is None:\n",
    "                    attribs_dict[key] = ''\n",
    "                elif key == 'kind':\n",
    "                    attribs_dict[key] = value.attrib['text']\n",
    "                else:\n",
    "                    attribs_dict[key] = value.text\n",
    "                    \n",
    "                    \n",
    "            measure_number = measure.attrib['number']\n",
    "            chord = note + attribs_dict['alter'] + attribs_dict['kind']\n",
    "            chord_bass = attribs_dict['bass']+attribs_dict['bass_alter']\n",
    "            complete_chord = chord + '/' + chord_bass\n",
    "            \n",
    "            if complete_chord.endswith('/'):\n",
    "                complete_chord = complete_chord[:-1]\n",
    "            \n",
    "            df_chord = pd.DataFrame(columns=[song_title], index=[measure_number], data=complete_chord)\n",
    "            df_harmony = df_harmony.append(df_chord)\n",
    "            \n",
    "df_harmony.index.names = ['Measure']"
   ]
  },
  {
   "cell_type": "code",
   "execution_count": 7,
   "metadata": {},
   "outputs": [
    {
     "data": {
      "text/plain": [
       "Index(['1', '5', '9', '11', '13', '14', '15', '17'], dtype='object', name='Measure')"
      ]
     },
     "execution_count": 7,
     "metadata": {},
     "output_type": "execute_result"
    }
   ],
   "source": [
    "df_harmony.index.unique()"
   ]
  },
  {
   "cell_type": "code",
   "execution_count": 8,
   "metadata": {},
   "outputs": [
    {
     "data": {
      "text/plain": [
       "13    4\n",
       "14    2\n",
       "5     1\n",
       "11    1\n",
       "17    1\n",
       "9     1\n",
       "15    1\n",
       "1     1\n",
       "Name: Measure, dtype: int64"
      ]
     },
     "execution_count": 8,
     "metadata": {},
     "output_type": "execute_result"
    }
   ],
   "source": [
    "df_harmony.index.value_counts()"
   ]
  },
  {
   "cell_type": "code",
   "execution_count": 9,
   "metadata": {},
   "outputs": [
    {
     "data": {
      "text/html": [
       "<div>\n",
       "<style scoped>\n",
       "    .dataframe tbody tr th:only-of-type {\n",
       "        vertical-align: middle;\n",
       "    }\n",
       "\n",
       "    .dataframe tbody tr th {\n",
       "        vertical-align: top;\n",
       "    }\n",
       "\n",
       "    .dataframe thead th {\n",
       "        text-align: right;\n",
       "    }\n",
       "</style>\n",
       "<table border=\"1\" class=\"dataframe\">\n",
       "  <thead>\n",
       "    <tr style=\"text-align: right;\">\n",
       "      <th></th>\n",
       "      <th>Gillette</th>\n",
       "    </tr>\n",
       "    <tr>\n",
       "      <th>Measure</th>\n",
       "      <th></th>\n",
       "    </tr>\n",
       "  </thead>\n",
       "  <tbody>\n",
       "    <tr>\n",
       "      <th>1</th>\n",
       "      <td>B-1</td>\n",
       "    </tr>\n",
       "    <tr>\n",
       "      <th>5</th>\n",
       "      <td>F7</td>\n",
       "    </tr>\n",
       "    <tr>\n",
       "      <th>9</th>\n",
       "      <td>B-1</td>\n",
       "    </tr>\n",
       "    <tr>\n",
       "      <th>11</th>\n",
       "      <td>E-1</td>\n",
       "    </tr>\n",
       "    <tr>\n",
       "      <th>13</th>\n",
       "      <td>F</td>\n",
       "    </tr>\n",
       "    <tr>\n",
       "      <th>13</th>\n",
       "      <td>Edim</td>\n",
       "    </tr>\n",
       "    <tr>\n",
       "      <th>13</th>\n",
       "      <td>Cmin6</td>\n",
       "    </tr>\n",
       "    <tr>\n",
       "      <th>13</th>\n",
       "      <td>Dmin7</td>\n",
       "    </tr>\n",
       "    <tr>\n",
       "      <th>14</th>\n",
       "      <td>Amin</td>\n",
       "    </tr>\n",
       "    <tr>\n",
       "      <th>14</th>\n",
       "      <td>F7</td>\n",
       "    </tr>\n",
       "    <tr>\n",
       "      <th>15</th>\n",
       "      <td>B-17</td>\n",
       "    </tr>\n",
       "    <tr>\n",
       "      <th>17</th>\n",
       "      <td>B-17</td>\n",
       "    </tr>\n",
       "  </tbody>\n",
       "</table>\n",
       "</div>"
      ],
      "text/plain": [
       "        Gillette\n",
       "Measure         \n",
       "1            B-1\n",
       "5             F7\n",
       "9            B-1\n",
       "11           E-1\n",
       "13             F\n",
       "13          Edim\n",
       "13         Cmin6\n",
       "13         Dmin7\n",
       "14          Amin\n",
       "14            F7\n",
       "15          B-17\n",
       "17          B-17"
      ]
     },
     "execution_count": 9,
     "metadata": {},
     "output_type": "execute_result"
    }
   ],
   "source": [
    "df_harmony"
   ]
  },
  {
   "cell_type": "markdown",
   "metadata": {},
   "source": [
    "Agora vamos procurar os momentos de mudança de acorde. Vasculhando os arquivos xml que temos em nosso corpus, pudemos ver que as informações sobre andamento (em bpm) e tipo de compasso encontram-se na seção do primeiro compasso. Segue:"
   ]
  },
  {
   "cell_type": "markdown",
   "metadata": {},
   "source": [
    "#### Tipo de compasso"
   ]
  },
  {
   "cell_type": "code",
   "execution_count": 10,
   "metadata": {},
   "outputs": [
    {
     "data": {
      "text/plain": [
       "'2/2'"
      ]
     },
     "execution_count": 10,
     "metadata": {},
     "output_type": "execute_result"
    }
   ],
   "source": [
    "first_measure = measures[0]\n",
    "cima = first_measure.find('attributes').find('time/beats').text\n",
    "baixo = first_measure.find('attributes').find('time/beat-type').text\n",
    "\n",
    "compasso = cima + '/' + baixo\n",
    "compasso"
   ]
  },
  {
   "cell_type": "markdown",
   "metadata": {},
   "source": [
    "#### Andamento\n",
    "16/06: Depois de séculos trabalhando nisso, descobri que a ferramenta do music21 que eu usei pra gerar os audios a partir dos xml ignora a informação de andamento presente no arquivo. Simplesmente. kkkk\n",
    "\n",
    "Ela coloca tudo com andamento 120 bpm. Então simbora kk"
   ]
  },
  {
   "cell_type": "code",
   "execution_count": 19,
   "metadata": {},
   "outputs": [
    {
     "data": {
      "text/plain": [
       "120"
      ]
     },
     "execution_count": 19,
     "metadata": {},
     "output_type": "execute_result"
    }
   ],
   "source": [
    "andamento = 120 #first_measure.find('sound').attrib['tempo']# + ' bpm'\n",
    "andamento\n",
    "# em bpm"
   ]
  },
  {
   "cell_type": "markdown",
   "metadata": {},
   "source": [
    "#### Sync: Acorde + minutagem"
   ]
  },
  {
   "cell_type": "code",
   "execution_count": 27,
   "metadata": {},
   "outputs": [],
   "source": [
    "duracao_seminima = 60/int(andamento) # em segundos"
   ]
  },
  {
   "cell_type": "code",
   "execution_count": 28,
   "metadata": {},
   "outputs": [],
   "source": [
    "segs_compasso = (4/int(baixo)) * int(cima) * duracao_seminima"
   ]
  },
  {
   "cell_type": "code",
   "execution_count": 29,
   "metadata": {},
   "outputs": [],
   "source": [
    "df_harmony.index = df_harmony.index.astype(int)"
   ]
  },
  {
   "cell_type": "code",
   "execution_count": 30,
   "metadata": {},
   "outputs": [],
   "source": [
    "for compasso in df_harmony.index.unique():\n",
    "    acordes = df_harmony.loc[[compasso]]\n",
    "    n_acordes = len(acordes)\n",
    "#     print(compasso, n_acordes)\n",
    "    inicio_compasso = (int(compasso) - 1) * segs_compasso\n",
    "    \n",
    "    if n_acordes == 1:\n",
    "        tempos = inicio_compasso\n",
    "    \n",
    "    else:        \n",
    "        tempos = np.linspace(inicio_compasso,\n",
    "                             inicio_compasso + segs_compasso,\n",
    "                             n_acordes+1)\n",
    "        tempos = tempos[:-1]\n",
    "    \n",
    "    df_harmony.at[compasso, 'Time'] = tempos"
   ]
  },
  {
   "cell_type": "code",
   "execution_count": 31,
   "metadata": {
    "scrolled": false
   },
   "outputs": [
    {
     "data": {
      "text/html": [
       "<div>\n",
       "<style scoped>\n",
       "    .dataframe tbody tr th:only-of-type {\n",
       "        vertical-align: middle;\n",
       "    }\n",
       "\n",
       "    .dataframe tbody tr th {\n",
       "        vertical-align: top;\n",
       "    }\n",
       "\n",
       "    .dataframe thead th {\n",
       "        text-align: right;\n",
       "    }\n",
       "</style>\n",
       "<table border=\"1\" class=\"dataframe\">\n",
       "  <thead>\n",
       "    <tr style=\"text-align: right;\">\n",
       "      <th></th>\n",
       "      <th>Gillette</th>\n",
       "      <th>Time</th>\n",
       "    </tr>\n",
       "    <tr>\n",
       "      <th>Measure</th>\n",
       "      <th></th>\n",
       "      <th></th>\n",
       "    </tr>\n",
       "  </thead>\n",
       "  <tbody>\n",
       "    <tr>\n",
       "      <th>1</th>\n",
       "      <td>B-1</td>\n",
       "      <td>0.0</td>\n",
       "    </tr>\n",
       "    <tr>\n",
       "      <th>5</th>\n",
       "      <td>F7</td>\n",
       "      <td>8.0</td>\n",
       "    </tr>\n",
       "    <tr>\n",
       "      <th>9</th>\n",
       "      <td>B-1</td>\n",
       "      <td>16.0</td>\n",
       "    </tr>\n",
       "    <tr>\n",
       "      <th>11</th>\n",
       "      <td>E-1</td>\n",
       "      <td>20.0</td>\n",
       "    </tr>\n",
       "    <tr>\n",
       "      <th>13</th>\n",
       "      <td>F</td>\n",
       "      <td>24.0</td>\n",
       "    </tr>\n",
       "    <tr>\n",
       "      <th>13</th>\n",
       "      <td>Edim</td>\n",
       "      <td>24.5</td>\n",
       "    </tr>\n",
       "    <tr>\n",
       "      <th>13</th>\n",
       "      <td>Cmin6</td>\n",
       "      <td>25.0</td>\n",
       "    </tr>\n",
       "    <tr>\n",
       "      <th>13</th>\n",
       "      <td>Dmin7</td>\n",
       "      <td>25.5</td>\n",
       "    </tr>\n",
       "    <tr>\n",
       "      <th>14</th>\n",
       "      <td>Amin</td>\n",
       "      <td>26.0</td>\n",
       "    </tr>\n",
       "    <tr>\n",
       "      <th>14</th>\n",
       "      <td>F7</td>\n",
       "      <td>27.0</td>\n",
       "    </tr>\n",
       "    <tr>\n",
       "      <th>15</th>\n",
       "      <td>B-17</td>\n",
       "      <td>28.0</td>\n",
       "    </tr>\n",
       "    <tr>\n",
       "      <th>17</th>\n",
       "      <td>B-17</td>\n",
       "      <td>32.0</td>\n",
       "    </tr>\n",
       "  </tbody>\n",
       "</table>\n",
       "</div>"
      ],
      "text/plain": [
       "        Gillette  Time\n",
       "Measure               \n",
       "1            B-1   0.0\n",
       "5             F7   8.0\n",
       "9            B-1  16.0\n",
       "11           E-1  20.0\n",
       "13             F  24.0\n",
       "13          Edim  24.5\n",
       "13         Cmin6  25.0\n",
       "13         Dmin7  25.5\n",
       "14          Amin  26.0\n",
       "14            F7  27.0\n",
       "15          B-17  28.0\n",
       "17          B-17  32.0"
      ]
     },
     "execution_count": 31,
     "metadata": {},
     "output_type": "execute_result"
    }
   ],
   "source": [
    "df_harmony"
   ]
  },
  {
   "cell_type": "code",
   "execution_count": 41,
   "metadata": {},
   "outputs": [
    {
     "data": {
      "text/plain": [
       "Text(0.5, 0, 'time')"
      ]
     },
     "execution_count": 41,
     "metadata": {},
     "output_type": "execute_result"
    },
    {
     "data": {
      "image/png": "[encoded data removed]",
      "text/plain": [
       "<Figure size 864x576 with 1 Axes>"
      ]
     },
     "metadata": {
      "needs_background": "light"
     },
     "output_type": "display_data"
    }
   ],
   "source": [
    "plt.figure(figsize=(12,8))\n",
    "plt.plot(df_harmony['Time'], np.zeros(12), 'o')\n",
    "plt.xlabel('time')"
   ]
  },
  {
   "cell_type": "code",
   "execution_count": null,
   "metadata": {},
   "outputs": [],
   "source": []
  }
 ],
 "metadata": {
  "kernelspec": {
   "display_name": "Python 3",
   "language": "python",
   "name": "python3"
  },
  "language_info": {
   "codemirror_mode": {
    "name": "ipython",
    "version": 3
   },
   "file_extension": ".py",
   "mimetype": "text/x-python",
   "name": "python",
   "nbconvert_exporter": "python",
   "pygments_lexer": "ipython3",
   "version": "3.8.10"
  }
 },
 "nbformat": 4,
 "nbformat_minor": 4
}
